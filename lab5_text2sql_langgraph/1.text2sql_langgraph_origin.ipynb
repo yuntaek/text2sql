{
 "cells": [
  {
   "cell_type": "markdown",
   "metadata": {},
   "source": [
    "# LangGraph + Text2SQL"
   ]
  },
  {
   "cell_type": "markdown",
   "metadata": {},
   "source": [
    "![Intro1](../images/text2sql/langgraph.png)"
   ]
  },
  {
   "cell_type": "markdown",
   "metadata": {},
   "source": [
    "### 유틸 설정"
   ]
  },
  {
   "cell_type": "code",
   "execution_count": 1,
   "metadata": {
    "tags": []
   },
   "outputs": [
    {
     "name": "stdout",
     "output_type": "stream",
     "text": [
      "Requirement already satisfied: streamlit in /opt/conda/lib/python3.12/site-packages (1.45.1)\n",
      "Requirement already satisfied: altair<6,>=4.0 in /opt/conda/lib/python3.12/site-packages (from streamlit) (5.5.0)\n",
      "Requirement already satisfied: blinker<2,>=1.5.0 in /opt/conda/lib/python3.12/site-packages (from streamlit) (1.9.0)\n",
      "Requirement already satisfied: cachetools<6,>=4.0 in /opt/conda/lib/python3.12/site-packages (from streamlit) (5.5.2)\n",
      "Requirement already satisfied: click<9,>=7.0 in /opt/conda/lib/python3.12/site-packages (from streamlit) (8.1.8)\n",
      "Requirement already satisfied: numpy<3,>=1.23 in /opt/conda/lib/python3.12/site-packages (from streamlit) (1.26.4)\n",
      "Requirement already satisfied: packaging<25,>=20 in /opt/conda/lib/python3.12/site-packages (from streamlit) (24.2)\n",
      "Requirement already satisfied: pandas<3,>=1.4.0 in /opt/conda/lib/python3.12/site-packages (from streamlit) (2.2.3)\n",
      "Requirement already satisfied: pillow<12,>=7.1.0 in /opt/conda/lib/python3.12/site-packages (from streamlit) (11.1.0)\n",
      "Requirement already satisfied: protobuf<7,>=3.20 in /opt/conda/lib/python3.12/site-packages (from streamlit) (5.28.3)\n",
      "Requirement already satisfied: pyarrow>=7.0 in /opt/conda/lib/python3.12/site-packages (from streamlit) (19.0.1)\n",
      "Requirement already satisfied: requests<3,>=2.27 in /opt/conda/lib/python3.12/site-packages (from streamlit) (2.32.3)\n",
      "Requirement already satisfied: tenacity<10,>=8.1.0 in /opt/conda/lib/python3.12/site-packages (from streamlit) (9.0.0)\n",
      "Requirement already satisfied: toml<2,>=0.10.1 in /opt/conda/lib/python3.12/site-packages (from streamlit) (0.10.2)\n",
      "Requirement already satisfied: typing-extensions<5,>=4.4.0 in /opt/conda/lib/python3.12/site-packages (from streamlit) (4.12.2)\n",
      "Requirement already satisfied: watchdog<7,>=2.1.5 in /opt/conda/lib/python3.12/site-packages (from streamlit) (6.0.0)\n",
      "Requirement already satisfied: gitpython!=3.1.19,<4,>=3.0.7 in /opt/conda/lib/python3.12/site-packages (from streamlit) (3.1.44)\n",
      "Requirement already satisfied: pydeck<1,>=0.8.0b4 in /opt/conda/lib/python3.12/site-packages (from streamlit) (0.9.1)\n",
      "Requirement already satisfied: tornado<7,>=6.0.3 in /opt/conda/lib/python3.12/site-packages (from streamlit) (6.4.2)\n",
      "Requirement already satisfied: jinja2 in /opt/conda/lib/python3.12/site-packages (from altair<6,>=4.0->streamlit) (3.1.6)\n",
      "Requirement already satisfied: jsonschema>=3.0 in /opt/conda/lib/python3.12/site-packages (from altair<6,>=4.0->streamlit) (4.23.0)\n",
      "Requirement already satisfied: narwhals>=1.14.2 in /opt/conda/lib/python3.12/site-packages (from altair<6,>=4.0->streamlit) (1.31.0)\n",
      "Requirement already satisfied: gitdb<5,>=4.0.1 in /opt/conda/lib/python3.12/site-packages (from gitpython!=3.1.19,<4,>=3.0.7->streamlit) (4.0.12)\n",
      "Requirement already satisfied: python-dateutil>=2.8.2 in /opt/conda/lib/python3.12/site-packages (from pandas<3,>=1.4.0->streamlit) (2.9.0.post0)\n",
      "Requirement already satisfied: pytz>=2020.1 in /opt/conda/lib/python3.12/site-packages (from pandas<3,>=1.4.0->streamlit) (2024.1)\n",
      "Requirement already satisfied: tzdata>=2022.7 in /opt/conda/lib/python3.12/site-packages (from pandas<3,>=1.4.0->streamlit) (2025.1)\n",
      "Requirement already satisfied: charset_normalizer<4,>=2 in /opt/conda/lib/python3.12/site-packages (from requests<3,>=2.27->streamlit) (3.4.1)\n",
      "Requirement already satisfied: idna<4,>=2.5 in /opt/conda/lib/python3.12/site-packages (from requests<3,>=2.27->streamlit) (3.10)\n",
      "Requirement already satisfied: urllib3<3,>=1.21.1 in /opt/conda/lib/python3.12/site-packages (from requests<3,>=2.27->streamlit) (2.3.0)\n",
      "Requirement already satisfied: certifi>=2017.4.17 in /opt/conda/lib/python3.12/site-packages (from requests<3,>=2.27->streamlit) (2025.1.31)\n",
      "Requirement already satisfied: smmap<6,>=3.0.1 in /opt/conda/lib/python3.12/site-packages (from gitdb<5,>=4.0.1->gitpython!=3.1.19,<4,>=3.0.7->streamlit) (5.0.2)\n",
      "Requirement already satisfied: MarkupSafe>=2.0 in /opt/conda/lib/python3.12/site-packages (from jinja2->altair<6,>=4.0->streamlit) (3.0.2)\n",
      "Requirement already satisfied: attrs>=22.2.0 in /opt/conda/lib/python3.12/site-packages (from jsonschema>=3.0->altair<6,>=4.0->streamlit) (23.2.0)\n",
      "Requirement already satisfied: jsonschema-specifications>=2023.03.6 in /opt/conda/lib/python3.12/site-packages (from jsonschema>=3.0->altair<6,>=4.0->streamlit) (2024.10.1)\n",
      "Requirement already satisfied: referencing>=0.28.4 in /opt/conda/lib/python3.12/site-packages (from jsonschema>=3.0->altair<6,>=4.0->streamlit) (0.36.2)\n",
      "Requirement already satisfied: rpds-py>=0.7.1 in /opt/conda/lib/python3.12/site-packages (from jsonschema>=3.0->altair<6,>=4.0->streamlit) (0.23.1)\n",
      "Requirement already satisfied: six>=1.5 in /opt/conda/lib/python3.12/site-packages (from python-dateutil>=2.8.2->pandas<3,>=1.4.0->streamlit) (1.17.0)\n",
      "Requirement already satisfied: opensearch-py in /opt/conda/lib/python3.12/site-packages (2.8.0)\n",
      "Requirement already satisfied: urllib3!=2.2.0,!=2.2.1,<3,>=1.26.19 in /opt/conda/lib/python3.12/site-packages (from opensearch-py) (2.3.0)\n",
      "Requirement already satisfied: requests<3.0.0,>=2.32.0 in /opt/conda/lib/python3.12/site-packages (from opensearch-py) (2.32.3)\n",
      "Requirement already satisfied: python-dateutil in /opt/conda/lib/python3.12/site-packages (from opensearch-py) (2.9.0.post0)\n",
      "Requirement already satisfied: certifi>=2024.07.04 in /opt/conda/lib/python3.12/site-packages (from opensearch-py) (2025.1.31)\n",
      "Requirement already satisfied: Events in /opt/conda/lib/python3.12/site-packages (from opensearch-py) (0.5)\n",
      "Requirement already satisfied: charset_normalizer<4,>=2 in /opt/conda/lib/python3.12/site-packages (from requests<3.0.0,>=2.32.0->opensearch-py) (3.4.1)\n",
      "Requirement already satisfied: idna<4,>=2.5 in /opt/conda/lib/python3.12/site-packages (from requests<3.0.0,>=2.32.0->opensearch-py) (3.10)\n",
      "Requirement already satisfied: six>=1.5 in /opt/conda/lib/python3.12/site-packages (from python-dateutil->opensearch-py) (1.17.0)\n",
      "Requirement already satisfied: langgraph in /opt/conda/lib/python3.12/site-packages (0.4.5)\n",
      "Requirement already satisfied: langchain-core>=0.1 in /opt/conda/lib/python3.12/site-packages (from langgraph) (0.3.60)\n",
      "Requirement already satisfied: langgraph-checkpoint<3.0.0,>=2.0.26 in /opt/conda/lib/python3.12/site-packages (from langgraph) (2.0.26)\n",
      "Requirement already satisfied: langgraph-prebuilt>=0.1.8 in /opt/conda/lib/python3.12/site-packages (from langgraph) (0.1.8)\n",
      "Requirement already satisfied: langgraph-sdk>=0.1.42 in /opt/conda/lib/python3.12/site-packages (from langgraph) (0.1.69)\n",
      "Requirement already satisfied: pydantic>=2.7.4 in /opt/conda/lib/python3.12/site-packages (from langgraph) (2.10.6)\n",
      "Requirement already satisfied: xxhash<4.0.0,>=3.5.0 in /opt/conda/lib/python3.12/site-packages (from langgraph) (3.5.0)\n",
      "Requirement already satisfied: langsmith<0.4,>=0.1.126 in /opt/conda/lib/python3.12/site-packages (from langchain-core>=0.1->langgraph) (0.2.11)\n",
      "Requirement already satisfied: tenacity!=8.4.0,<10.0.0,>=8.1.0 in /opt/conda/lib/python3.12/site-packages (from langchain-core>=0.1->langgraph) (9.0.0)\n",
      "Requirement already satisfied: jsonpatch<2.0,>=1.33 in /opt/conda/lib/python3.12/site-packages (from langchain-core>=0.1->langgraph) (1.33)\n",
      "Requirement already satisfied: PyYAML>=5.3 in /opt/conda/lib/python3.12/site-packages (from langchain-core>=0.1->langgraph) (6.0.2)\n",
      "Requirement already satisfied: packaging<25,>=23.2 in /opt/conda/lib/python3.12/site-packages (from langchain-core>=0.1->langgraph) (24.2)\n",
      "Requirement already satisfied: typing-extensions>=4.7 in /opt/conda/lib/python3.12/site-packages (from langchain-core>=0.1->langgraph) (4.12.2)\n",
      "Requirement already satisfied: ormsgpack<2.0.0,>=1.8.0 in /opt/conda/lib/python3.12/site-packages (from langgraph-checkpoint<3.0.0,>=2.0.26->langgraph) (1.9.1)\n",
      "Requirement already satisfied: httpx>=0.25.2 in /opt/conda/lib/python3.12/site-packages (from langgraph-sdk>=0.1.42->langgraph) (0.28.1)\n",
      "Requirement already satisfied: orjson>=3.10.1 in /opt/conda/lib/python3.12/site-packages (from langgraph-sdk>=0.1.42->langgraph) (3.10.15)\n",
      "Requirement already satisfied: annotated-types>=0.6.0 in /opt/conda/lib/python3.12/site-packages (from pydantic>=2.7.4->langgraph) (0.7.0)\n",
      "Requirement already satisfied: pydantic-core==2.27.2 in /opt/conda/lib/python3.12/site-packages (from pydantic>=2.7.4->langgraph) (2.27.2)\n",
      "Requirement already satisfied: anyio in /opt/conda/lib/python3.12/site-packages (from httpx>=0.25.2->langgraph-sdk>=0.1.42->langgraph) (4.9.0)\n",
      "Requirement already satisfied: certifi in /opt/conda/lib/python3.12/site-packages (from httpx>=0.25.2->langgraph-sdk>=0.1.42->langgraph) (2025.1.31)\n",
      "Requirement already satisfied: httpcore==1.* in /opt/conda/lib/python3.12/site-packages (from httpx>=0.25.2->langgraph-sdk>=0.1.42->langgraph) (1.0.7)\n",
      "Requirement already satisfied: idna in /opt/conda/lib/python3.12/site-packages (from httpx>=0.25.2->langgraph-sdk>=0.1.42->langgraph) (3.10)\n",
      "Requirement already satisfied: h11<0.15,>=0.13 in /opt/conda/lib/python3.12/site-packages (from httpcore==1.*->httpx>=0.25.2->langgraph-sdk>=0.1.42->langgraph) (0.14.0)\n",
      "Requirement already satisfied: jsonpointer>=1.9 in /opt/conda/lib/python3.12/site-packages (from jsonpatch<2.0,>=1.33->langchain-core>=0.1->langgraph) (3.0.0)\n",
      "Requirement already satisfied: requests<3,>=2 in /opt/conda/lib/python3.12/site-packages (from langsmith<0.4,>=0.1.126->langchain-core>=0.1->langgraph) (2.32.3)\n",
      "Requirement already satisfied: requests-toolbelt<2.0.0,>=1.0.0 in /opt/conda/lib/python3.12/site-packages (from langsmith<0.4,>=0.1.126->langchain-core>=0.1->langgraph) (1.0.0)\n",
      "Requirement already satisfied: charset_normalizer<4,>=2 in /opt/conda/lib/python3.12/site-packages (from requests<3,>=2->langsmith<0.4,>=0.1.126->langchain-core>=0.1->langgraph) (3.4.1)\n",
      "Requirement already satisfied: urllib3<3,>=1.21.1 in /opt/conda/lib/python3.12/site-packages (from requests<3,>=2->langsmith<0.4,>=0.1.126->langchain-core>=0.1->langgraph) (2.3.0)\n",
      "Requirement already satisfied: sniffio>=1.1 in /opt/conda/lib/python3.12/site-packages (from anyio->httpx>=0.25.2->langgraph-sdk>=0.1.42->langgraph) (1.3.1)\n"
     ]
    }
   ],
   "source": [
    "!pip install -U streamlit\n",
    "!pip install -U opensearch-py\n",
    "!pip install -U langgraph"
   ]
  },
  {
   "cell_type": "markdown",
   "metadata": {},
   "source": [
    "- [Connect Athena Using Langchain SQLDatabaseChain](https://medium.com/@sanjeebmeister/connect-athena-using-langchain-sqldatabasechain-0b73c16eaf57)"
   ]
  },
  {
   "cell_type": "code",
   "execution_count": 22,
   "metadata": {
    "tags": []
   },
   "outputs": [],
   "source": [
    "import boto3\n",
    "import json\n",
    "import copy\n",
    "from botocore.config import Config\n",
    "\n",
    "import time\n",
    "\n",
    "from langchain_aws.embeddings import BedrockEmbeddings\n",
    "from langchain_community.utilities import SQLDatabase \n",
    "from sqlalchemy import create_engine\n",
    "from src.opensearch import OpenSearchHybridRetriever, OpenSearchClient\n",
    "\n",
    "\n",
    "import logging\n",
    "import functools\n",
    "from botocore.exceptions import ClientError\n",
    "\n",
    "\n",
    "logging.basicConfig()\n",
    "logger = logging.getLogger('retry-bedrock-invocation')\n",
    "logger.setLevel(logging.INFO)\n",
    "\n",
    "\n",
    "region_name = \"us-west-2\"\n",
    "llm_model = \"us.anthropic.claude-3-7-sonnet-20250219-v1:0\"\n",
    "\n",
    "engine = create_engine(\"sqlite:///Chinook.db\")\n",
    "db = SQLDatabase(engine) ## To use athena instaead, please see here (https://medium.com/@sanjeebmeister/connect-athena-using-langchain-sqldatabasechain-0b73c16eaf57)\n",
    "DIALECT = \"sqlite\"\n",
    "\n",
    "def retry(total_try_cnt=5, sleep_in_sec=5, retryable_exceptions=(ClientError,)):\n",
    "    def decorator(func):\n",
    "        @functools.wraps(func)\n",
    "        def wrapper(*args, **kwargs):\n",
    "            for cnt in range(total_try_cnt):\n",
    "                logger.info(f\"trying {func.__name__}() [{cnt+1}/{total_try_cnt}]\")\n",
    "                try:\n",
    "                    result = func(*args, **kwargs)\n",
    "                    logger.info(f\"in retry(), {func.__name__}() returned '{result}'\")\n",
    "                    if result: return result\n",
    "                except retryable_exceptions as e:\n",
    "                    # Throttling 에러인지 확인\n",
    "                    if isinstance(e, ClientError):\n",
    "                        error_code = e.response['Error']['Code']\n",
    "                        if error_code == 'ThrottlingException':\n",
    "                            logger.info(f\"in retry(), {func.__name__}() raised ThrottlingException\")\n",
    "                            time.sleep(sleep_in_sec)\n",
    "                            continue\n",
    "                    logger.info(f\"in retry(), {func.__name__}() raised retryable exception '{e}'\")\n",
    "                    pass\n",
    "                except Exception as e:\n",
    "                    logger.info(f\"in retry(), {func.__name__}() raised {e}\")\n",
    "                    raise e\n",
    "                time.sleep(sleep_in_sec)\n",
    "            logger.info(f\"{func.__name__} finally has been failed\")\n",
    "        return wrapper\n",
    "    return decorator\n",
    "    \n",
    "@retry(total_try_cnt=4, sleep_in_sec=10, retryable_exceptions=(ClientError,))\n",
    "def converse_with_bedrock(sys_prompt, usr_prompt):\n",
    "    temperature = 0.0\n",
    "    top_p = 0.1\n",
    "    top_k = 1\n",
    "    inference_config = {\"temperature\": temperature, \"topP\": top_p}\n",
    "    additional_model_fields = {\"top_k\": top_k}\n",
    "    response = boto3_client.converse(\n",
    "        modelId=llm_model, \n",
    "        messages=usr_prompt, \n",
    "        system=sys_prompt,\n",
    "        inferenceConfig=inference_config,\n",
    "        additionalModelRequestFields=additional_model_fields\n",
    "    )\n",
    "    return response['output']['message']['content'][0]['text']\n",
    "            \n",
    "                \n",
    "def init_boto3_client(region: str):\n",
    "    retry_config = Config(\n",
    "        region_name=region,\n",
    "        retries={\"max_attempts\": 10, \"mode\": \"standard\"}\n",
    "    )\n",
    "    return boto3.client(\"bedrock-runtime\", region_name=region, config=retry_config)\n",
    "\n",
    "def init_search_resources():  \n",
    "    embedding_model = BedrockEmbeddings(model_id=\"amazon.titan-embed-text-v2:0\", region_name=region_name, model_kwargs={\"dimensions\":1024})\n",
    "    sql_search_client = OpenSearchClient(emb=embedding_model, index_name='example_queries', mapping_name='mappings-sql', vector=\"input_v\", text=\"input\", output=[\"input\", \"query\"])\n",
    "    table_search_client = OpenSearchClient(emb=embedding_model, index_name='schema_description', mapping_name='mappings-detailed-schema', vector=\"table_summary_v\", text=\"table_summary\", output=[\"table_name\", \"table_summary\"])\n",
    "\n",
    "    sql_retriever = OpenSearchHybridRetriever(sql_search_client, k=10)\n",
    "    table_retriever = OpenSearchHybridRetriever(table_search_client, k=10)\n",
    "    return sql_search_client, table_search_client, sql_retriever, table_retriever\n",
    "\n",
    "def get_column_description(table_name):\n",
    "    query = {\n",
    "        \"query\": {\n",
    "            \"match\": {\n",
    "                \"table_name\": table_name\n",
    "            }\n",
    "        }\n",
    "    }\n",
    "    response = table_search_client.conn.search(index=table_search_client.index_name, body=query)\n",
    "\n",
    "    if response['hits']['total']['value'] > 0:\n",
    "        source = response['hits']['hits'][0]['_source']\n",
    "        columns = source.get('columns', [])\n",
    "        if columns:\n",
    "            return {col['col_name']: col['col_desc'] for col in columns}\n",
    "        else:\n",
    "            return {}\n",
    "    else:\n",
    "        return {}\n",
    "\n",
    "def search_by_keywords(keyword):\n",
    "    query = {\n",
    "        \"size\": 10, \n",
    "        \"query\": {\n",
    "            \"nested\": {\n",
    "                \"path\": \"columns\",\n",
    "                \"query\": {\n",
    "                    \"match\": {\n",
    "                        \"columns.col_desc\": f\"{keyword}\"\n",
    "                    }\n",
    "                },\n",
    "                \"inner_hits\": {\n",
    "                    \"size\": 1, \n",
    "                    \"_source\": [\"columns.col_name\", \"columns.col_desc\"]\n",
    "                }\n",
    "            }\n",
    "        },\n",
    "        \"_source\": [\"table_name\"]\n",
    "    }\n",
    "    response = table_search_client.conn.search(\n",
    "        index=table_search_client.index_name,\n",
    "        body=query\n",
    "    )\n",
    "    \n",
    "    search_result = \"\"\n",
    "    try:\n",
    "        results = []\n",
    "        table_names = set()  \n",
    "        if 'hits' in response and 'hits' in response['hits']:\n",
    "            for hit in response['hits']['hits']:\n",
    "                table_name = hit['_source']['table_name']\n",
    "                table_names.add(table_name)  \n",
    "                for inner_hit in hit['inner_hits']['columns']['hits']['hits']:\n",
    "                    column_name = inner_hit['_source']['col_name']\n",
    "                    column_description = inner_hit['_source']['col_desc']\n",
    "                    results.append({\n",
    "                        \"table_name\": table_name,\n",
    "                        \"column_name\": column_name,\n",
    "                        \"column_description\": column_description\n",
    "                    })\n",
    "                    if len(results) >= 5:\n",
    "                        break\n",
    "                if len(results) >= 5:\n",
    "                    break\n",
    "        search_result += json.dumps(results, ensure_ascii=False)\n",
    "    except:\n",
    "        search_result += f\"{keyword} not found\"\n",
    "    return search_result    \n",
    "\n",
    "def create_prompt(sys_template, user_template, **kwargs):\n",
    "    sys_prompt = [{\"text\": sys_template.format(**kwargs)}]\n",
    "    usr_prompt = [{\"role\": \"user\", \"content\": [{\"text\": user_template.format(**kwargs)}]}]\n",
    "    print(sys_prompt, usr_prompt)\n",
    "    return sys_prompt, usr_prompt\n",
    "\n",
    "boto3_client = init_boto3_client(region_name)\n",
    "sql_search_client, table_search_client, sql_retriever, table_retriever = init_search_resources()"
   ]
  },
  {
   "cell_type": "markdown",
   "metadata": {},
   "source": [
    "### 검색 기능 테스트"
   ]
  },
  {
   "cell_type": "code",
   "execution_count": 4,
   "metadata": {
    "tags": []
   },
   "outputs": [
    {
     "name": "stdout",
     "output_type": "stream",
     "text": [
      "샘플 쿼리 검색 결과:  {\n",
      "    \"input\": \"매출액 기준 상위 5명의 고객 목록\\n\\n이 요청은 고객별 총 구매액을 계산하여 가장 많은 금액을 지출한 상위 5명의 고객을 식별하기 위한 것입니다. 회사의 VIP 고객을 파악하거나 충성도 높은 고객을 대상으로 한 마케팅 캠페인을 계획하는 데 활용될 수 있습니다. 또한 매출에 가장 큰 기여를 하는 고객층을 분석하여 비즈니스 전략을 수립하거나, 고객 유지 프로그램을 개발하는 데 중요한 인사이트를 제공합니다. 이러한 데이터는 매출 집중도를 파악하고 특정 고객에 대한 의존도를 평가하는 데도 유용합니다.\",\n",
      "    \"query\": \"SELECT CustomerId, SUM(Total) AS TotalPurchase FROM Invoice GROUP BY CustomerId ORDER BY TotalPurchase DESC LIMIT 5\"\n",
      "}\n",
      "테이블 검색 결과:  {\n",
      "    \"table_name\": \"MediaType\",\n",
      "    \"table_summary\": \"# MediaType 테이블 요약\\n\\n이 테이블은 음악 트랙의 미디어 유형을 정의하는 데이터를 저장합니다.\\n\\n## 구조\\n- **MediaTypeId**: 미디어 유형의 고유 식별자로 기본 키로 사용됩니다.\\n- **Name**: 미디어 유형의 이름을 저장합니다.\\n\\n## 데이터 특성\\n이 테이블은 음악이나 오디오 트랙이 어떤 형태의 미디어로 제공되는지에 대한 정보를 담고 있습니다. 예를 들어 MP3, AAC, WAV, FLAC 등과 같은 디지털 오디오 형식이나 CD, DVD와 같은 물리적 미디어 형식이 포함될 수 있습니다.\\n\\n## 활용 사례\\n- 미디어 유형별 트랙 분류 및 필터링\\n- 특정 미디어 형식의 인기도 분석\\n- 미디어 형식별 판매 통계 생성\\n- 스트리밍 서비스와 다운로드 가능한 형식 간의 비교 분석\\n- 미디어 형식 변화 추세 파악\\n- 디지털 음원 관리 시스템에서 지원 형식 관리\\n\\n이 테이블은 음악 또는 미디어 관리 시스템에서 트랙의 기술적 특성을 분류하는 데 중요한 역할을 합니다.\"\n",
      "}\n"
     ]
    }
   ],
   "source": [
    "# 검색 키워드 예시\n",
    "keyword = \"사람들이 선호 하는 가수\"\n",
    "\n",
    "sql_search_result = sql_retriever.invoke(keyword, ensemble=[0.60, 0.40])\n",
    "table_search_result = table_retriever.invoke(keyword, ensemble=[0.60, 0.40])\n",
    "\n",
    "if sql_search_result:\n",
    "    page_content = json.loads(sql_search_result[0].page_content)\n",
    "    print(\"샘플 쿼리 검색 결과: \", json.dumps(page_content, indent=4, ensure_ascii=False))\n",
    "\n",
    "if table_search_result:\n",
    "    page_content = json.loads(table_search_result[0].page_content)\n",
    "    print(\"테이블 검색 결과: \", json.dumps(page_content, indent=4, ensure_ascii=False))"
   ]
  },
  {
   "cell_type": "markdown",
   "metadata": {},
   "source": [
    "### 그래프 상태 설정"
   ]
  },
  {
   "cell_type": "code",
   "execution_count": 5,
   "metadata": {
    "tags": []
   },
   "outputs": [],
   "source": [
    "from typing import TypedDict\n",
    "\n",
    "class GraphState(TypedDict):\n",
    "    question: str  \n",
    "    intent: str\n",
    "    sample_queries: list\n",
    "    readiness: str\n",
    "    tables_summaries: list\n",
    "    table_names: list\n",
    "    table_details: list\n",
    "    query_state: dict\n",
    "    next_action: str\n",
    "    answer: str\n",
    "    dialect: str\n",
    "    "
   ]
  },
  {
   "cell_type": "markdown",
   "metadata": {},
   "source": [
    "### 서브그래프1 - 스키마링킹 정의"
   ]
  },
  {
   "cell_type": "code",
   "execution_count": 6,
   "metadata": {
    "tags": []
   },
   "outputs": [],
   "source": [
    "### Schema Linking - SubGraph1\n",
    "\n",
    "csv_list_response_format = \"Your response should be a list of comma separated values, eg: `foo, bar, baz` or `foo,bar,baz`\"\n",
    "#json_response_format = \"\"\"'The output should be formatted as a JSON instance that conforms to the JSON schema below.\\n\\nAs an example, for the schema {\"properties\": {\"foo\": {\"title\": \"Foo\", \"description\": \"a list of strings\", \"type\": \"array\", \"items\": {\"type\": \"string\"}}}, \"required\": [\"foo\"]}\\nthe object {\"foo\": [\"bar\", \"baz\"]} is a well-formatted instance of the schema. The object {\"properties\": {\"foo\": [\"bar\", \"baz\"]}} is not well-formatted.\\n\\nHere is the output schema:\\n```\\n{\"properties\": {\"setup\": {\"title\": \"Setup\", \"description\": \"question to set up a joke\", \"type\": \"string\"}, \"punchline\": {\"title\": \"Punchline\", \"description\": \"answer to resolve the joke\", \"type\": \"string\"}}, \"required\": [\"setup\", \"punchline\"]}\\n```'\"\"\"\n",
    "json_response_format = \"\"\"The output should be formatted as a JSON instance that conforms to the JSON schema below.\n",
    "\n",
    "Here is the output schema:\n",
    "{\n",
    "  \"type\": \"object\",\n",
    "  \"properties\": {\n",
    "    \"failure_type\": {\n",
    "      \"type\": \"string\",\n",
    "      \"enum\": [\"syntax_check\", \"schema_check\", \"stop\", \"retry\"],\n",
    "      \"description\": \"The type of SQL query failure\"\n",
    "    },\n",
    "    \"hint\": {\n",
    "      \"type\": \"string\",\n",
    "      \"description\": \"Detailed explanation of the problem and solution\"\n",
    "    }\n",
    "  },\n",
    "  \"required\": [\"failure_type\", \"hint\"]\n",
    "}\n",
    "\n",
    "The response must be a valid JSON object containing both failure_type and hint fields. \n",
    "Do not print json code block for markdown. \n",
    "Do not print schema check result.\"\"\"\n",
    "\n",
    "def analyze_intent(state: GraphState) -> GraphState:\n",
    "    question = state[\"question\"]\n",
    "    sys_prompt_template = \"당신은 사용자 질문의 의도를 파악하는 비서입니다. 당신의 임무는 사용자 질문을 하나로 분류하는 것입니다.\"\n",
    "    usr_prompt_template = f\"사용자 질문을 해결하기 위해 데이터베이스 조회가 필요하면 `database` 그 밖의 경우는 `general`로 응답하세요. 서두는 생략하세요. \\n\\n #질문: {question}\"\n",
    "    sys_prompt, usr_prompt = create_prompt(sys_prompt_template, usr_prompt_template, question=question)\n",
    "    intent = converse_with_bedrock(sys_prompt, usr_prompt)\n",
    "\n",
    "    return GraphState(intent=intent)\n",
    "\n",
    "def get_sample_queries(state: GraphState) -> GraphState:\n",
    "    question = state[\"question\"]\n",
    "    samples = sql_retriever.invoke(question, ensemble=[0.80, 0.20])\n",
    "\n",
    "    page_contents = [doc.page_content for doc in samples if doc is not None]\n",
    "    sample_inputs = [json.loads(content)['input'] for content in page_contents]\n",
    "\n",
    "    sys_prompt_template = \"당신은 사용자 질문에 대한 SQL 쿼리를 작성하는 유능한 데이터베이스 엔지니어입니다. 당신의 임무는 질문에 부합한 SQL 쿼리 작성에 유용한 샘플 쿼리를 선택하는 것입니다. 당신이 선택하는 샘플 쿼리는 쿼리 재활용, 스키마 참조 등에 사용될 수 있습니다.\"\n",
    "    usr_prompt_template = \"질문에 부합한 SQL 쿼리 작성을 위해 유용한 샘플 쿼리를 선택하여 중요도 순서로 정렬하여 응답하세요. 샘플 쿼리의 인덱스 번호(0부터 시작)만 응답하세요. 관련된 샘플이 없으면 빈 목록(\"\")으로 응답하세요. \\n\\n #질문: {question}\\n\\n #샘플 쿼리:\\n {sample_inputs}\\n\\n #형식: {csv_list_response_format}\"\n",
    "    sys_prompt, usr_prompt = create_prompt(sys_prompt_template, usr_prompt_template, question=question, sample_inputs=sample_inputs, csv_list_response_format=csv_list_response_format)\n",
    "    sample_ids = converse_with_bedrock(sys_prompt, usr_prompt)\n",
    "    try:\n",
    "        if sample_ids == '\"\"' or sample_ids.strip() == \"\":\n",
    "            return GraphState(sample_queries=[])\n",
    "        else:\n",
    "            sample_ids_list = [int(id.strip()) for id in sample_ids.split(',') if id.strip().isdigit()]\n",
    "            sample_queries = [json.loads(page_contents[id]) for id in sample_ids_list] if sample_ids_list else []\n",
    "            return GraphState(sample_queries=sample_queries)\n",
    "    except:\n",
    "        return GraphState(sample_queries=[])\n",
    "    \n",
    "def check_readiness(state: GraphState) -> GraphState:\n",
    "    question = state[\"question\"]\n",
    "    sample_queries = state[\"sample_queries\"]\n",
    "    #table_details = state[\"table_details\"]\n",
    "    table_details = state.get(\"table_details\", \"\")\n",
    "\n",
    "    sys_prompt_template = \"당신은 사용자 질문에 대한 SQL 쿼리를 작성하는 유능한 데이터베이스 엔지니어입니다. 당신의 임무는 주어진 DB 정보를 바탕으로, 사용자 질문에 대한 SQL 쿼리 작성이 가능한지 판단하는 것입니다.\"\n",
    "    usr_prompt_template = \"질문에 대한 SQL 쿼리를 생성하기에 충분한 정보가 제공되었는지 판단합니다. 서두는 건너뛰고, 정보가 충분하면 `Ready`, 정보가 부족하면 `Not Ready`로 응답하세요. 반드시 `Ready`, `Not Ready` 둘 중 하나로 응답하세요. \\n\\n #질문: {question}\\n\\n #샘플 쿼리:\\n {sample_queries}\\n\\n #사용 가능한 테이블:\\n {table_details}\"\n",
    "    #usr_prompt_template = \"질문에 대한 SQL 쿼리를 생성하기에 충분한 정보가 제공되었는지 판단합니다. 서두는 건너뛰고, 정보가 충분하면 `Ready`, 정보가 부족하면 `Not Ready`로 응답하세요.\\n\\n #질문: {question}\\n\\n #샘플 쿼리:\\n {sample_queries}\\n\\n #사용 가능한 테이블:\\n {table_details}\"\n",
    "    sys_prompt, usr_prompt = create_prompt(sys_prompt_template, usr_prompt_template, question=question, sample_queries=sample_queries, table_details=table_details)\n",
    "    readiness = converse_with_bedrock(sys_prompt, usr_prompt)\n",
    "    \n",
    "    return GraphState(readiness=readiness)\n",
    "\n",
    "def get_relevant_tables(state: GraphState) -> GraphState:\n",
    "    question = state[\"question\"]\n",
    "    tables = table_retriever.invoke(question, ensemble=[0.40, 0.60])\n",
    "    page_contents = [doc.page_content for doc in tables if doc is not None]\n",
    "    table_inputs = [json.loads(content)['table_summary'] for content in page_contents]\n",
    "\n",
    "    sys_prompt_template = \"당신은 사용자 요청에 맞는 SQL 쿼리를 작성하는 유능한 데이터베이스 엔지니어입니다. 당신의 임무는 SQL 쿼리 작성에 필요한 테이블을 선택하는 것입니다.\"\n",
    "    usr_prompt_template = \"사용자 요청에 맞는 SQL 쿼리를 생성하기 위해 필요한 테이블을 선택하여, 이를 중요도 순서로 정렬한 후 인덱스 번호(0부터 시작)로 응답하세요. 사용자 요청에 관련된 테이블이 없으면 빈 목록(\"\")으로 응답하세요.\\n\\n #질문: {question}\\n\\n #테이블 정보:\\n {table_inputs}\\n\\n #형식: {csv_list_response_format}\"\n",
    "    sys_prompt, usr_prompt = create_prompt(sys_prompt_template, usr_prompt_template, question=question, table_inputs=table_inputs, csv_list_response_format=csv_list_response_format)\n",
    "    table_ids = converse_with_bedrock(sys_prompt, usr_prompt)\n",
    "    try:\n",
    "        if table_ids == '\"\"' or table_ids.strip() == \"\":\n",
    "            return GraphState(tables=[], table_names=[])\n",
    "        else:\n",
    "            table_ids_list = [int(id.strip()) for id in table_ids.split(',') if id.strip().isdigit()]\n",
    "            tables = [json.loads(page_contents[id]) for id in table_ids_list] if table_ids_list else []\n",
    "            table_names = [table['table_name'] for table in tables]\n",
    "            return GraphState(tables=tables, table_names=table_names)\n",
    "    except:\n",
    "        return GraphState(tables=[], table_names=[])\n",
    "\n",
    "def describe_schema(state: GraphState) -> GraphState:\n",
    "    table_names = state[\"table_names\"]\n",
    "    table_details = []\n",
    "    data = db.get_table_info_no_throw(table_names)\n",
    "    \n",
    "    if not isinstance(data, list):\n",
    "        data = [data]\n",
    "    \n",
    "    for item in data:\n",
    "        if isinstance(item, str):\n",
    "            items = item.split('CREATE TABLE')\n",
    "        else:\n",
    "            items = [item]\n",
    "        \n",
    "        for i in range(1, len(items)):\n",
    "            sub_item = 'CREATE TABLE' + items[i]\n",
    "            for table_name in table_names:\n",
    "                if f'CREATE TABLE \"{table_name}\"' in sub_item:\n",
    "                    \n",
    "                    parts = sub_item.split('/*', 1)\n",
    "                    sql_statement = parts[0].strip()\n",
    "                    \n",
    "                    sample_data = \"No sample data available\"\n",
    "                    if len(parts) > 1:\n",
    "                        sample_part = parts[1].split('*/', 1)[0] \n",
    "                        sample_lines = sample_part.strip().split('\\n')\n",
    "                        if len(sample_lines) > 1:\n",
    "                            sample_data = '\\n'.join(sample_lines)\n",
    "                    \n",
    "                    table_desc = get_column_description(table_name) if table_search_client else {}        \n",
    "                    table_detail = {\n",
    "                        \"table\": table_name,\n",
    "                        \"cols\": table_desc if table_desc else {},\n",
    "                        \"create_table_sql\": sql_statement,\n",
    "                        \"sample_data\": sample_data\n",
    "                    }\n",
    "                    \n",
    "                    if not table_detail[\"cols\"]:\n",
    "                        print(f\"No columns found for table {table_name}\")\n",
    "                    table_details.append(table_detail)\n",
    "                    \n",
    "    return GraphState(table_details=table_details)\n",
    "\n",
    "def next_step_by_intent(state: GraphState) -> GraphState:\n",
    "    return state[\"intent\"]\n",
    "\n",
    "def next_step_by_readiness(state: GraphState) -> GraphState:\n",
    "    return state[\"readiness\"]\n"
   ]
  },
  {
   "cell_type": "markdown",
   "metadata": {},
   "source": [
    "### 서브그래프1 - 모듈 코드"
   ]
  },
  {
   "cell_type": "code",
   "execution_count": 7,
   "metadata": {
    "tags": []
   },
   "outputs": [],
   "source": [
    "### Schema Linking - SubGraph1 Modules (Dev)\n",
    "\n",
    "def analyze_intent_dev(question):\n",
    "    sys_prompt_template = \"당신은 사용자 질문의 의도를 파악하는 비서입니다. 당신의 임무는 사용자 질문을 하나로 분류하는 것입니다.\"\n",
    "    usr_prompt_template = \"사용자 질문을 해결하기 위해 데이터베이스 조회가 필요하면 `database` 그 밖의 경우는 `general`로 응답하세요. \\n\\n #질문: {question}\"\n",
    "    sys_prompt, usr_prompt = create_prompt(sys_prompt_template, usr_prompt_template, question=question)\n",
    "    intent = converse_with_bedrock(sys_prompt, usr_prompt)\n",
    "\n",
    "    return intent\n",
    "\n",
    "def get_general_answer_dev(question):\n",
    "    sys_prompt_template = \"당신은 사용자의 일반적인 질문에 답변하는 유능한 비서입니다. 잘 모르는 질문에는 모른다고 답변하세요.\"\n",
    "    usr_prompt_template = \"#질문: {question}\"\n",
    "    sys_prompt, usr_prompt = create_prompt(sys_prompt_template, usr_prompt_template, question=question)\n",
    "    answer = converse_with_bedrock(sys_prompt, usr_prompt)\n",
    "\n",
    "    return answer    \n",
    "\n",
    "def get_sample_queries_dev(question):\n",
    "    samples = sql_retriever.invoke(question, ensemble=[0.80, 0.20])\n",
    "    page_contents = [doc.page_content for doc in samples if doc is not None]\n",
    "    sample_inputs = [json.loads(content)['input'] for content in page_contents]\n",
    "    \n",
    "    #print (json.loads(page_contents[0]))\n",
    "\n",
    "    sys_prompt_template = \"당신은 사용자 질문에 대한 SQL 쿼리를 작성하는 유능한 데이터베이스 엔지니어입니다. 당신의 임무는 질문에 부합한 SQL 쿼리 작성에 유용한 샘플 쿼리를 선택하는 것입니다. 당신이 선택하는 샘플 쿼리는 쿼리 재활용, 스키마 참조 등에 사용될 수 있습니다.\"\n",
    "    usr_prompt_template = \"질문에 부합한 SQL 쿼리 작성을 위해 유용한 샘플 쿼리를 선택하여 중요도 순서로 정렬하여 응답하세요. 샘플 쿼리의 인덱스 번호(0부터 시작)만 응답하세요. 관련된 샘플이 없으면 빈 목록(\"\")으로 응답하세요. \\n\\n #질문: {question}\\n\\n #샘플 쿼리:\\n {sample_inputs}\\n\\n #형식: {csv_list_response_format}\"\n",
    "    sys_prompt, usr_prompt = create_prompt(sys_prompt_template, usr_prompt_template, question=question, sample_inputs=sample_inputs, csv_list_response_format=csv_list_response_format)\n",
    "    sample_ids = converse_with_bedrock(sys_prompt, usr_prompt)\n",
    "    try:\n",
    "        if sample_ids == '\"\"' or sample_ids.strip() == \"\":\n",
    "            return []\n",
    "        else:\n",
    "            sample_ids_list = [int(id.strip()) for id in sample_ids.split(',') if id.strip().isdigit()]\n",
    "            sample_queries = [json.loads(page_contents[id]) for id in sample_ids_list] if sample_ids_list else []\n",
    "            return sample_queries\n",
    "    except:\n",
    "        return []\n",
    "    \n",
    "def check_readiness_dev(question, sample_queries, table_details):\n",
    "    sys_prompt_template = \"당신은 사용자 질문에 대한 SQL 쿼리를 작성하는 유능한 데이터베이스 엔지니어입니다. 당신의 임무는 주어진 DB 정보를 바탕으로, 사용자 질문에 대한 SQL 쿼리 작성이 가능한지 판단하는 것입니다.\"\n",
    "    usr_prompt_template = \"질문에 대한 SQL 쿼리를 생성하기에 충분한 정보가 제공되었는지 판단합니다. 서두는 건너뛰고, 정보가 충분하면 `Ready`, 정보가 부족하면 `Not Ready`로 응답하세요. 반드시 `Ready`, `Not Ready` 둘 중 하나로 응답하세요. \\n\\n #질문: {question}\\n\\n #샘플 쿼리:\\n {sample_queries}\\n\\n #사용 가능한 테이블:\\n {table_details}\"\n",
    "    sys_prompt, usr_prompt = create_prompt(sys_prompt_template, usr_prompt_template, question=question, sample_queries=sample_queries, table_details=table_details)\n",
    "    readiness = converse_with_bedrock(sys_prompt, usr_prompt)\n",
    "    \n",
    "    return readiness\n",
    "\n",
    "def get_relevant_tables_dev(question):\n",
    "    tables = table_retriever.invoke(question, ensemble=[0.40, 0.60])\n",
    "    page_contents = [doc.page_content for doc in tables if doc is not None]\n",
    "    table_inputs = [json.loads(content)['table_summary'] for content in page_contents]\n",
    "    sys_prompt_template = \"당신은 사용자 요청에 맞는 SQL 쿼리를 작성하는 유능한 데이터베이스 엔지니어입니다. 당신의 임무는 SQL 쿼리 작성에 필요한 테이블을 선택하는 것입니다.\"\n",
    "    usr_prompt_template = \"사용자 요청에 맞는 SQL 쿼리를 생성하기 위해 필요한 테이블을 선택하여, 이를 중요도 순서로 정렬한 후 인덱스 번호(0부터 시작)로 응답하세요. 사용자 요청에 관련된 테이블이 없으면 빈 목록(\"\")으로 응답하세요.\\n\\n #질문: {question}\\n\\n #테이블 정보:\\n {table_inputs}\\n\\n #형식: {csv_list_response_format}\"\n",
    "    sys_prompt, usr_prompt = create_prompt(sys_prompt_template, usr_prompt_template, question=question, table_inputs=table_inputs, csv_list_response_format=csv_list_response_format)\n",
    "    table_ids = converse_with_bedrock(sys_prompt, usr_prompt)\n",
    "    try:\n",
    "        if table_ids == '\"\"' or table_ids.strip() == \"\":\n",
    "            return []\n",
    "        else:\n",
    "            table_ids_list = [int(id.strip()) for id in table_ids.split(',') if id.strip().isdigit()]\n",
    "            tables = [json.loads(page_contents[id]) for id in table_ids_list] if table_ids_list else []\n",
    "            table_names = [table['table_name'] for table in tables]\n",
    "            return tables, table_names\n",
    "    except:\n",
    "        return []\n",
    "\n",
    "def describe_schema_dev(table_names):\n",
    "    table_details = []\n",
    "    data = db.get_table_info_no_throw(table_names)\n",
    " \n",
    "    if not isinstance(data, list):\n",
    "        data = [data]\n",
    "    \n",
    "    for item in data:\n",
    "        if isinstance(item, str):\n",
    "            items = item.split('CREATE TABLE')\n",
    "        else:\n",
    "            items = [item]\n",
    "        \n",
    "        for i in range(1, len(items)):\n",
    "            sub_item = 'CREATE TABLE' + items[i]\n",
    "            for table_name in table_names:\n",
    "                if f'CREATE TABLE \"{table_name}\"' in sub_item:\n",
    "                    \n",
    "                    parts = sub_item.split('/*', 1)\n",
    "                    sql_statement = parts[0].strip()\n",
    "                    \n",
    "                    sample_data = \"No sample data available\"\n",
    "                    if len(parts) > 1:\n",
    "                        sample_part = parts[1].split('*/', 1)[0] \n",
    "                        sample_lines = sample_part.strip().split('\\n')\n",
    "                        if len(sample_lines) > 1:\n",
    "                            sample_data = '\\n'.join(sample_lines)\n",
    "                    \n",
    "                    table_desc = get_column_description(table_name) if table_search_client else {}        \n",
    "                    table_detail = {\n",
    "                        \"table\": table_name,\n",
    "                        \"cols\": table_desc if table_desc else {},\n",
    "                        \"create_table_sql\": sql_statement,\n",
    "                        \"sample_data\": sample_data\n",
    "                    }\n",
    "                    \n",
    "                    if not table_detail[\"cols\"]:\n",
    "                        print(f\"No columns found for table {table_name}\")\n",
    "                    table_details.append(table_detail)\n",
    "    \n",
    "    return table_details"
   ]
  },
  {
   "cell_type": "markdown",
   "metadata": {},
   "source": [
    "### 서브그래프1 모듈 검증"
   ]
  },
  {
   "cell_type": "code",
   "execution_count": 8,
   "metadata": {
    "tags": []
   },
   "outputs": [
    {
     "name": "stderr",
     "output_type": "stream",
     "text": [
      "INFO:retry-bedrock-invocation:trying converse_with_bedrock() [1/4]\n",
      "INFO:retry-bedrock-invocation:in retry(), converse_with_bedrock() returned 'database'\n",
      "INFO:retry-bedrock-invocation:trying converse_with_bedrock() [1/4]\n",
      "INFO:retry-bedrock-invocation:in retry(), converse_with_bedrock() returned '0'\n",
      "INFO:retry-bedrock-invocation:trying converse_with_bedrock() [1/4]\n",
      "INFO:retry-bedrock-invocation:in retry(), converse_with_bedrock() returned 'Ready'\n"
     ]
    },
    {
     "data": {
      "text/plain": [
       "'Ready'"
      ]
     },
     "execution_count": 8,
     "metadata": {},
     "output_type": "execute_result"
    }
   ],
   "source": [
    "### Schema Linking - SubGraph1 Modules (Test)\n",
    "\n",
    "question1 = \"2022년 매출 상위 10개 국가는?\"\n",
    "#question2 = \"오늘 날씨는?\" \n",
    "question3 = \"구매량 기준 상위 10명의 고객은?\"\n",
    "\n",
    "#===================================================================================================\n",
    "\n",
    "#1 - analyze_intent\n",
    "analyze_intent_dev(question3)\n",
    "#analyze_intent_dev(question2)\n",
    "\n",
    "#2 - get_sample_queries\n",
    "get_sample_queries_dev(question3)\n",
    "#get_sample_queries_dev(question3)\n",
    "\n",
    "#3 - check_readiness\n",
    "sample_queries = [\n",
    "    '{\"input\": \"What are the details of customers residing in Canada?\", \"query\": \"SELECT * FROM Customer WHERE Country = \\'Canada\\'\"}',\n",
    "    '{\"input\": \"How many tracks are on the album with ID 5?\", \"query\": \"SELECT COUNT(*) FROM Track WHERE AlbumId = 5\"}',\n",
    "    '{\"input\": \"What are the top 5 customers by total purchase amount?\", \"query\": \"SELECT CustomerId, SUM(Total) AS TotalPurchase FROM Invoice GROUP BY CustomerId ORDER BY TotalPurchase DESC LIMIT 5\"}'\n",
    " ]\n",
    "check_readiness_dev(question3, sample_queries, table_details=\"\")\n",
    "\n",
    "#4 - get_relevant_tables\n",
    "#get_relevant_tables_dev(question1)\n",
    "#get_relevant_tables_dev(question3)\n",
    "\n",
    "#5 - describe_schema\n",
    "# table_names = ['Invoice', 'InvoiceLine']\n",
    "# describe_schema_dev(table_names)\n",
    "\n",
    "#6 - check_readiness\n",
    "# table_names = ['Invoice', 'InvoiceLine']\n",
    "# table_details = describe_schema_dev(table_names)\n",
    "# check_readiness_dev(question3, sample_queries=\"\", table_details=table_details)\n",
    "#==================================================================================================="
   ]
  },
  {
   "cell_type": "markdown",
   "metadata": {},
   "source": [
    "### 서브그래프2 - 쿼리 생성/검증/실행/재시도"
   ]
  },
  {
   "cell_type": "code",
   "execution_count": 9,
   "metadata": {
    "tags": []
   },
   "outputs": [],
   "source": [
    "### Query Generation & Execution - SubGraph2\n",
    "\n",
    "initial_query_state = {\n",
    "    \"status\": \"success\",\n",
    "    \"query\": \"\",\n",
    "    \"result\": \"\",\n",
    "    \"error\": {\n",
    "        \"code\": \"\",\n",
    "        \"message\": \"\",\n",
    "        \"failed_step\": \"\",\n",
    "        \"hint\": \"\"\n",
    "    }\n",
    "}\n",
    "\n",
    "dialect = DIALECT\n",
    "def generate_query(state: GraphState) -> GraphState:\n",
    "    new_query_state = copy.deepcopy(initial_query_state)\n",
    "    question = state[\"question\"]\n",
    "    sample_queries = state[\"sample_queries\"]\n",
    "    table_details = state[\"table_details\"]\n",
    "\n",
    "    query_state = state.get(\"query_state\", {}) or {}\n",
    "    error_info = query_state.get(\"error\", {}) or {}\n",
    "    hint = error_info.get(\"hint\", \"None\")\n",
    "    \n",
    "    sys_prompt_template = \"당신은 사용자 질문에 대한 {dialect} SQL 쿼리를 작성하는 유능한 데이터베이스 엔지니어입니다. 당신의 임무는 주어진 DB 정보를 바탕으로, 사용자 질문에 부합하는 정확한 SQL 쿼리를 작성하는 것입니다.\"\n",
    "    usr_prompt_template = \"다음 주어진 샘플 쿼리 및 스키마 정보, 과거 실패 이력을 바탕으로 DB dialect에 맞는 쿼리를 작성합니다. 서두는 생략하고 생성된 SQL 쿼리 구문만 제공하세요. \\n\\n #질문: {question}\\n\\n #샘플 쿼리:\\n {sample_queries}\\n\\n #사용 가능한 테이블:\\n {table_details}\\n\\n, #추가 정보 (과거 실패 이력, 추가 획득한 정보 등):\\n {hint}\"\n",
    "    sys_prompt, usr_prompt = create_prompt(sys_prompt_template, usr_prompt_template, question=question, dialect=dialect, sample_queries=sample_queries, table_details=table_details, hint=hint)\n",
    "    generated_query = converse_with_bedrock(sys_prompt, usr_prompt)\n",
    "\n",
    "    new_query_state[\"query\"] = generated_query\n",
    "\n",
    "    return GraphState(query_state=new_query_state)\n",
    "\n",
    "def validate_query(state: GraphState) -> GraphState:\n",
    "    dialect = DIALECT\n",
    "    question = state[\"question\"]\n",
    "    query_state = copy.deepcopy(state[\"query_state\"])\n",
    "    query = query_state[\"query\"]\n",
    "    \n",
    "    explain_statements = {\n",
    "        'mysql': \"EXPLAIN {query}\",\n",
    "        'mariadb': \"EXPLAIN {query}\",\n",
    "        'sqlite': \"EXPLAIN QUERY PLAN {query}\",\n",
    "        'oracle': \"EXPLAIN PLAN FOR\\n{query}\\n\\nSELECT * FROM TABLE(DBMS_XPLAN.DISPLAY);\",\n",
    "        'postgresql': \"EXPLAIN ANALYZE {query}\",\n",
    "        'postgres': \"EXPLAIN ANALYZE {query}\",\n",
    "        'presto': \"EXPLAIN ANALYZE {query}\",\n",
    "        'sqlserver': \"SET STATISTICS PROFILE ON; {query}; SET STATISTICS PROFILE OFF;\"\n",
    "    }\n",
    "    \n",
    "    if dialect.lower() not in explain_statements:\n",
    "        query_plan = \" \"\n",
    "    else:\n",
    "        try:\n",
    "            explain_query = explain_statements[dialect.lower()].format(query=query)\n",
    "            query_plan = db.run(explain_query)\n",
    "        except Exception as e:\n",
    "            query_state[\"status\"] = \"error\"\n",
    "            query_state[\"error\"][\"code\"] = \"E01\"\n",
    "            query_state[\"error\"][\"message\"] = f\"An error occurred while executing the EXPLAIN query: {str(e)}\"\n",
    "            query_state[\"error\"][\"failed_step\"] = \"validation\"\n",
    "            query_state[\"query\"] = query\n",
    "            return GraphState(query_state=query_state)\n",
    "\n",
    "    sys_prompt_template = \"당신은 사용자 질문에 대한 기존 {dialect} SQL 쿼리를 검토하고, 필요 시 최적화하는 데이터베이스 전문가입니다. 당신의 임무는 주어진 SQL 쿼리 및 추가 정보를 바탕으로 쿼리의 정합성, 최적화 가능성을 검토하고, 이에 입각한 최종 쿼리를 제공하는 것입니다. \"\n",
    "    usr_prompt_template = \"사용자의 질문에 맞춰 쿼리에 alias를 추가해주세요. 기존 SQL 쿼리에서 사용되지 않았던 테이블, 컬럼을 추가하는 것은 허용되지 않습니다. 서두는 생략하고 생성된 SQL 쿼리 구문만 제공하세요. \\n\\n #질문: {question}\\n\\n #기존 쿼리:\\n {query}\\n\\n #쿼리 플랜:\\n {query_plan}\"\n",
    "    sys_prompt, usr_prompt = create_prompt(sys_prompt_template, usr_prompt_template, question=question, dialect=dialect, query=query, query_plan=query_plan)\n",
    "    validated_query = converse_with_bedrock(sys_prompt, usr_prompt)\n",
    "    query_state[\"query\"] = validated_query\n",
    "\n",
    "    return GraphState(query_state=query_state)\n",
    "\n",
    "def execute_query(state: GraphState) -> GraphState:\n",
    "    query_state = copy.deepcopy(state[\"query_state\"])\n",
    "    query = query_state[\"query\"]\n",
    "    try:\n",
    "        query_state[\"result\"] = db.run(query)\n",
    "    except Exception as e:\n",
    "        query_state[\"status\"] = \"error\"\n",
    "        query_state[\"error\"][\"code\"] = \"E02\"\n",
    "        query_state[\"error\"][\"message\"] = f\"An error occurred while executing the validated query: {str(e)}\"\n",
    "        query_state[\"error\"][\"failed_step\"] = \"execution\"\n",
    "        return GraphState(query_state=query_state)\n",
    "    return GraphState(query_state=query_state)\n",
    "    \n",
    "def handle_failure(state: GraphState) -> GraphState:\n",
    "    query_state = copy.deepcopy(state[\"query_state\"])\n",
    "    query = query_state['query']\n",
    "    message = query_state['error']['message']\n",
    "    sys_prompt_template = \"당신은 SQL 쿼리의 실패를 처리하는 유능한 데이터베이스 엔지니어입니다. 당신의 임무는 주어진 SQL 쿼리의 실패 원인을 파악하여, 문제 해결을 위한 다음 작업을 결정하는 것입니다.\"\n",
    "    usr_prompt_template = \"주어진 SQL 쿼리의 실패 메시지를 바탕으로 다음 중 하나의 원인(`failure_type`)과 해결을 위한 실마리(`hint`)를 함께 제공합니다.\\n 다음은 failure_type의 선택 예시입니다.\\n부정확한 쿼리 구문 작성: `syntax_check`\\n스키마 불일치: `schema_check`\\nDB 외부요인(권한, 연결 문제 등): `stop`\\nDB의 일시적 오동작(쿼리 재실행 필요): `retry`\\n\\n#실패 쿼리: {query}\\n\\n#실패 메시지: {message}\\n\\n#형식: {json_response_format}\"\n",
    "    sys_prompt, usr_prompt = create_prompt(sys_prompt_template, usr_prompt_template, query=query, message=message, json_response_format=json_response_format)\n",
    "    result = converse_with_bedrock(sys_prompt, usr_prompt)\n",
    "    json_result = json.loads(result)\n",
    "\n",
    "    query_state[\"hint\"] = json_result[\"hint\"]\n",
    "    return GraphState(next_action=json_result[\"failure_type\"], query_state=query_state)\n",
    "\n",
    "def get_relevant_columns(state: GraphState) -> GraphState:\n",
    "    query_state = copy.deepcopy(state[\"query_state\"])\n",
    "    question = state[\"question\"]\n",
    "    query = query_state[\"query\"]\n",
    "    message = query_state['error']['message']\n",
    "    sys_prompt_template = \"당신은 SQL 쿼리의 실패를 처리하는 유능한 데이터베이스 엔지니어입니다. 당신의 임무는 앞서 발생한 쿼리 실패를 해결하기 위해 스키마를 재탐색 하는 것입니다.\"\n",
    "    usr_prompt_template = \"사용자 질문과 주어진 실패 메시지를 바탕으로 쿼리 재탐색에 적절한 키워드를 제공하세요. 서두는 생략하고 키워드만 형식에 맞춰 응답하세요. \\n\\n #사용자 질문: {question}\\n\\n#이전 실패 쿼리: {query}\\n\\n메시지: {message}\\n\\n#형식: {csv_list_response_format}\"\n",
    "    sys_prompt, usr_prompt = create_prompt(sys_prompt_template, usr_prompt_template, question=question, query=query, message=message, csv_list_response_format=csv_list_response_format)\n",
    "    keywords = converse_with_bedrock(sys_prompt, usr_prompt)\n",
    "    return keywords\n",
    "\n",
    "def next_step_by_query_state(state:GraphState) -> GraphState:\n",
    "    return state[\"query_state\"][\"status\"]\n",
    "\n",
    "def next_step_by_next_action(state:GraphState) -> GraphState:\n",
    "    return state[\"next_action\"]"
   ]
  },
  {
   "cell_type": "markdown",
   "metadata": {},
   "source": [
    "### 서브그래프2 - 모듈 코드"
   ]
  },
  {
   "cell_type": "code",
   "execution_count": 10,
   "metadata": {
    "tags": []
   },
   "outputs": [],
   "source": [
    "def generate_query_dev(question, dialect, sample_queries, table_details, hint):\n",
    "    dialect = dialect\n",
    "    query_state = copy.deepcopy(initial_query_state)\n",
    "    question = question\n",
    "    sample_queries = sample_queries\n",
    "    table_details = table_details\n",
    "    hint = hint\n",
    "    \n",
    "    sys_prompt_template = \"당신은 사용자 질문에 대한 {dialect} SQL 쿼리를 작성하는 유능한 데이터베이스 엔지니어입니다. 당신의 임무는 주어진 DB 정보를 바탕으로, 사용자 질문에 부합하는 정확한 SQL 쿼리를 작성하는 것입니다.\"\n",
    "    usr_prompt_template = \"다음 주어진 샘플 쿼리 및 스키마 정보, 과거 실패 이력을 바탕으로 DB dialect에 맞는 쿼리를 작성합니다. 서두는 생략하고 생성된 SQL 쿼리 구문만 제공하세요. \\n\\n #질문: {question}\\n\\n #샘플 쿼리:\\n {sample_queries}\\n\\n #사용 가능한 테이블:\\n {table_details}\\n\\n, #추가 정보 (과거 실패 이력, 추가 획득한 정보 등):\\n {hint}\"\n",
    "    sys_prompt, usr_prompt = create_prompt(sys_prompt_template, usr_prompt_template, question=question, dialect=dialect, sample_queries=sample_queries, table_details=table_details, hint=hint)\n",
    "    generated_query = converse_with_bedrock(sys_prompt, usr_prompt)\n",
    "\n",
    "    query_state[\"query\"] = generated_query\n",
    "    return copy.deepcopy(query_state)\n",
    "\n",
    "def validate_query_dev(question, dialect, query_state):\n",
    "    question = question\n",
    "    dialect = dialect\n",
    "    query_state = copy.deepcopy(query_state)\n",
    "    query = query_state[\"query\"]\n",
    "    \n",
    "    explain_statements = {\n",
    "        'mysql': \"EXPLAIN {query}\",\n",
    "        'mariadb': \"EXPLAIN {query}\",\n",
    "        'sqlite': \"EXPLAIN QUERY PLAN {query}\",\n",
    "        'oracle': \"EXPLAIN PLAN FOR\\n{query}\\n\\nSELECT * FROM TABLE(DBMS_XPLAN.DISPLAY);\",\n",
    "        'postgresql': \"EXPLAIN ANALYZE {query}\",\n",
    "        'postgres': \"EXPLAIN ANALYZE {query}\",\n",
    "        'presto': \"EXPLAIN ANALYZE {query}\",\n",
    "        'sqlserver': \"SET STATISTICS PROFILE ON; {query}; SET STATISTICS PROFILE OFF;\"\n",
    "    }\n",
    "    \n",
    "    if dialect.lower() not in explain_statements:\n",
    "        query_plan = \" \"\n",
    "    else:\n",
    "        try:\n",
    "            explain_query = explain_statements[dialect.lower()].format(query=query)\n",
    "            query_plan = db.run(explain_query)\n",
    "        except Exception as e:\n",
    "            query_state[\"status\"] = \"error\"\n",
    "            query_state[\"error\"][\"code\"] = \"E01\"\n",
    "            query_state[\"error\"][\"message\"] = f\"An error occurred while executing the EXPLAIN query: {str(e)}\"\n",
    "            query_state[\"error\"][\"failed_step\"] = \"validation\"\n",
    "            query_state[\"query\"] = query\n",
    "            return copy.deepcopy(query_state)\n",
    "\n",
    "    sys_prompt_template = \"당신은 사용자 질문에 대한 기존 {dialect} SQL 쿼리를 검토하고, 필요 시 최적화하는 데이터베이스 전문가입니다. 당신의 임무는 주어진 SQL 쿼리 및 추가 정보를 바탕으로 쿼리의 정합성, 최적화 가능성을 검토하고, 이에 입각한 최종 쿼리를 제공하는 것입니다. \"\n",
    "    usr_prompt_template = \"사용자의 질문에 맞춰 쿼리에 alias를 추가해주세요. 기존 SQL 쿼리에서 사용되지 않았던 테이블, 컬럼을 추가하는 것은 허용되지 않습니다. 서두는 생략하고 생성된 SQL 쿼리 구문만 제공하세요. \\n\\n #질문: {question}\\n\\n #기존 쿼리:\\n {query}\\n\\n #쿼리 플랜:\\n {query_plan}\"\n",
    "    sys_prompt, usr_prompt = create_prompt(sys_prompt_template, usr_prompt_template, question=question, dialect=dialect, query=query, query_plan=query_plan)\n",
    "    validated_query = converse_with_bedrock(sys_prompt, usr_prompt)\n",
    "    query_state[\"query\"] = validated_query\n",
    "\n",
    "    return copy.deepcopy(query_state)\n",
    "\n",
    "def execute_query_dev(query_state):\n",
    "    query_state = copy.deepcopy(query_state)\n",
    "    query = query_state[\"query\"]\n",
    "    try:\n",
    "        query_state[\"result\"] = db.run(query)\n",
    "    except Exception as e:\n",
    "        query_state[\"status\"] = \"error\"\n",
    "        query_state[\"error\"][\"code\"] = \"E02\"\n",
    "        query_state[\"error\"][\"message\"] = f\"An error occurred while executing the validated query: {str(e)}\"\n",
    "        query_state[\"error\"][\"failed_step\"] = \"execution\"\n",
    "        return copy.deepcopy(query_state)\n",
    "    return copy.deepcopy(query_state)\n",
    "    \n",
    "def handle_failure_dev(query_state):\n",
    "    query_state = copy.deepcopy(query_state)\n",
    "    query = query_state['query']    \n",
    "    message = query_state['error']['message']\n",
    "\n",
    "    sys_prompt_template = \"당신은 SQL 쿼리의 실패를 처리하는 유능한 데이터베이스 엔지니어입니다. 당신의 임무는 주어진 SQL 쿼리의 실패 원인을 파악하여, 문제 해결을 위한 다음 작업을 결정하는 것입니다.\"\n",
    "    usr_prompt_template = \"주어진 SQL 쿼리의 실패 메시지를 바탕으로 다음 중 하나의 원인(`failure_type`)과 해결을 위한 실마리(`hint`)를 함께 제공합니다.\\n 다음은 failure_type의 선택 예시입니다.\\n부정확한 쿼리 구문 작성: `syntax_check`\\n스키마 불일치: `schema_check`\\nDB 외부요인(권한, 연결 문제 등): `stop`\\nDB의 일시적 오동작(쿼리 재실행 필요): `retry`\\n\\n#실패 쿼리: {query}\\n\\n#실패 메시지: {message}\\n\\n#형식: {json_response_format}\"\n",
    "    sys_prompt, usr_prompt = create_prompt(sys_prompt_template, usr_prompt_template, query=query, message=message, json_response_format=json_response_format)\n",
    "    result = converse_with_bedrock(sys_prompt, usr_prompt)\n",
    "    json_result = json.loads(result)\n",
    "\n",
    "    query_state[\"hint\"] = json_result[\"hint\"]\n",
    "    return json_result[\"failure_type\"], copy.deepcopy(query_state)\n",
    "\n",
    "def get_relevant_columns_dev(question, query_state):\n",
    "    query_state = copy.deepcopy(query_state)\n",
    "    question = question\n",
    "    query = query_state[\"query\"]\n",
    "    message = query_state['error']['message']\n",
    "    sys_prompt_template = \"당신은 SQL 쿼리의 실패를 처리하는 유능한 데이터베이스 엔지니어입니다. 당신의 임무는 사용자 질문과 실패 메시지를 참고하여, 쿼리 수정을 위한 스키마 검색 키워드(English)를 5개 이내로 제공하는 것입니다.\"\n",
    "    usr_prompt_template = \"키워드는 구체적 컬럼 이름이 아니라, 컬럼을 설명하거나 사용자 질문에 대응하는 일반적 단어를 의미합니다. \\n\\n #사용자 질문: {question}\\n\\n#이전 실패 쿼리: {query}\\n\\n메시지: {message}\\n\\n#형식: {csv_list_response_format}\"\n",
    "    sys_prompt, usr_prompt = create_prompt(sys_prompt_template, usr_prompt_template, question=question, query=query, message=message, csv_list_response_format=csv_list_response_format)\n",
    "    response = converse_with_bedrock(sys_prompt, usr_prompt)\n",
    "    \n",
    "    keyword_list = [keyword.strip() for keyword in response.strip('`').split(',')]\n",
    "    \n",
    "    query_state[\"hint\"] += \"\\n\\n#추가 스키마 정보:\\n\"\n",
    "    for keyword in keyword_list:\n",
    "        query_state[\"hint\"] += search_by_keywords(keyword)\n",
    "        query_state[\"hint\"] += \"\\n\"\n",
    "\n",
    "    return copy.deepcopy(query_state)\n",
    "    "
   ]
  },
  {
   "cell_type": "markdown",
   "metadata": {},
   "source": [
    "### 서브그래프2 - 모듈 검증"
   ]
  },
  {
   "cell_type": "code",
   "execution_count": 11,
   "metadata": {
    "tags": []
   },
   "outputs": [
    {
     "name": "stderr",
     "output_type": "stream",
     "text": [
      "INFO:retry-bedrock-invocation:trying converse_with_bedrock() [1/4]\n",
      "INFO:retry-bedrock-invocation:in retry(), converse_with_bedrock() returned 'SELECT BillingCountry, SUM(Total) AS TotalRevenue\n",
      "FROM Invoice\n",
      "WHERE strftime('%Y', InvoiceDate) = '2022'\n",
      "GROUP BY BillingCountry\n",
      "ORDER BY TotalRevenue DESC\n",
      "LIMIT 10'\n"
     ]
    },
    {
     "data": {
      "text/plain": [
       "{'status': 'success',\n",
       " 'query': \"SELECT BillingCountry, SUM(Total) AS TotalRevenue\\nFROM Invoice\\nWHERE strftime('%Y', InvoiceDate) = '2022'\\nGROUP BY BillingCountry\\nORDER BY TotalRevenue DESC\\nLIMIT 10\",\n",
       " 'result': '',\n",
       " 'error': {'code': '', 'message': '', 'failed_step': '', 'hint': ''}}"
      ]
     },
     "execution_count": 11,
     "metadata": {},
     "output_type": "execute_result"
    }
   ],
   "source": [
    "#7 - generate_query\n",
    "question = \"2022년 매출 상위 10개 국가는?\"\n",
    "sample_queries =  [{'input': 'What are the top 5 customers by total purchase amount?',\n",
    "  'query': 'SELECT CustomerId, SUM(Total) AS TotalPurchase FROM Invoice GROUP BY CustomerId ORDER BY TotalPurchase DESC LIMIT 5'}]\n",
    "table_details = [{'table': 'Customer',\n",
    "    'cols': {'CustomerId': 'Primary key, unique customer identifier.',\n",
    "    'FirstName': 'First name of the customer.',\n",
    "    'LastName': 'Last name of the customer.',\n",
    "    'Company': 'Company of the customer.',\n",
    "    'Address': 'Address of the customer.',  \n",
    "    'City': 'City of the customer.',\n",
    "    'State': 'State of the customer.',\n",
    "    'Country': 'Country of the customer.',\n",
    "    'PostalCode': 'Postal code of the customer.',\n",
    "    'Phone': 'Phone number of the customer.',\n",
    "    'Fax': 'Fax number of the customer.',\n",
    "    'Email': 'Email address of the customer.',\n",
    "    'SupportRepId': 'Foreign key that references the employee who supports this customer.'},\n",
    "   'create_table_sql': 'CREATE TABLE \"Customer\" (\\n\\t\"CustomerId\" INTEGER NOT NULL, \\n\\t\"FirstName\" NVARCHAR(40) NOT NULL, \\n\\t\"LastName\" NVARCHAR(20) NOT NULL, \\n\\t\"Company\" NVARCHAR(80), \\n\\t\"Address\" NVARCHAR(70), \\n\\t\"City\" NVARCHAR(40), \\n\\t\"State\" NVARCHAR(40), \\n\\t\"Country\" NVARCHAR(40), \\n\\t\"PostalCode\" NVARCHAR(10), \\n\\t\"Phone\" NVARCHAR(24), \\n\\t\"Fax\" NVARCHAR(24), \\n\\t\"Email\" NVARCHAR(60) NOT NULL, \\n\\t\"SupportRepId\" INTEGER, \\n\\tPRIMARY KEY (\"CustomerId\"), \\n\\tFOREIGN KEY(\"SupportRepId\") REFERENCES \"Employee\" (\"EmployeeId\")\\n)',\n",
    "   'sample_data': '3 rows from Customer table:\\nCustomerId\\tFirstName\\tLastName\\tCompany\\tAddress\\tCity\\tState\\tCountry\\tPostalCode\\tPhone\\tFax\\tEmail\\tSupportRepId\\n1\\tLuís\\tGonçalves\\tEmbraer - Empresa Brasileira de Aeronáutica S.A.\\tAv. Brigadeiro Faria Lima, 2170\\tSão José dos Campos\\tSP\\tBrazil\\t12227-000\\t+55 (12) 3923-5555\\t+55 (12) 3923-5566\\tluisg@embraer.com.br\\t3\\n2\\tLeonie\\tKöhler\\tNone\\tTheodor-Heuss-Straße 34\\tStuttgart\\tNone\\tGermany\\t70174\\t+49 0711 2842222\\tNone\\tleonekohler@surfeu.de\\t5\\n3\\tFrançois\\tTremblay\\tNone\\t1498 rue Bélanger\\tMontréal\\tQC\\tCanada\\tH2G 1A7\\t+1 (514) 721-4711\\tNone\\tftremblay@gmail.com\\t3'},\n",
    "  {'table': 'Invoice',\n",
    "   'cols': {'InvoiceId': 'Primary key, unique identifier for the invoice.',\n",
    "    'CustomerId': 'Foreign key that references the customer associated with this invoice.',\n",
    "    'InvoiceDate': 'Date when the invoice was issued.',\n",
    "    'BillingAddress': 'Billing address on the invoice.',\n",
    "    'BillingCity': 'Billing city on the invoice.',\n",
    "    'BillingState': 'Billing state on the invoice.',\n",
    "    'BillingCountry': 'Billing country on the invoice.',\n",
    "    'BillingPostalCode': 'Billing postal code on the invoice.',\n",
    "    'Total': 'Total amount of the invoice.'},\n",
    "   'create_table_sql': 'CREATE TABLE \"Invoice\" (\\n\\t\"InvoiceId\" INTEGER NOT NULL, \\n\\t\"CustomerId\" INTEGER NOT NULL, \\n\\t\"InvoiceDate\" DATETIME NOT NULL, \\n\\t\"BillingAddress\" NVARCHAR(70), \\n\\t\"BillingCity\" NVARCHAR(40), \\n\\t\"BillingState\" NVARCHAR(40), \\n\\t\"BillingCountry\" NVARCHAR(40), \\n\\t\"BillingPostalCode\" NVARCHAR(10), \\n\\t\"Total\" NUMERIC(10, 2) NOT NULL, \\n\\tPRIMARY KEY (\"InvoiceId\"), \\n\\tFOREIGN KEY(\"CustomerId\") REFERENCES \"Customer\" (\"CustomerId\")\\n)',\n",
    "   'sample_data': '3 rows from Invoice table:\\nInvoiceId\\tCustomerId\\tInvoiceDate\\tBillingAddress\\tBillingCity\\tBillingState\\tBillingCountry\\tBillingPostalCode\\tTotal\\n1\\t2\\t2021-01-01 00:00:00\\tTheodor-Heuss-Straße 34\\tStuttgart\\tNone\\tGermany\\t70174\\t1.98\\n2\\t4\\t2021-01-02 00:00:00\\tUllevålsveien 14\\tOslo\\tNone\\tNorway\\t0171\\t3.96\\n3\\t8\\t2021-01-03 00:00:00\\tGrétrystraat 63\\tBrussels\\tNone\\tBelgium\\t1000\\t5.94'}]\n",
    "generate_query_dev(question=question, dialect=dialect, sample_queries=sample_queries, table_details=table_details, hint=\"None\")"
   ]
  },
  {
   "cell_type": "code",
   "execution_count": 12,
   "metadata": {
    "tags": []
   },
   "outputs": [
    {
     "name": "stderr",
     "output_type": "stream",
     "text": [
      "INFO:retry-bedrock-invocation:trying converse_with_bedrock() [1/4]\n",
      "INFO:retry-bedrock-invocation:in retry(), converse_with_bedrock() returned 'SELECT BillingCountry, SUM(Total) AS TotalSales\n",
      "FROM Invoice AS inv\n",
      "WHERE inv.InvoiceDate BETWEEN '2022-01-01' AND '2022-12-31'\n",
      "GROUP BY BillingCountry\n",
      "ORDER BY TotalSales DESC\n",
      "LIMIT 10;'\n"
     ]
    },
    {
     "data": {
      "text/plain": [
       "{'status': 'success',\n",
       " 'query': \"SELECT BillingCountry, SUM(Total) AS TotalSales\\nFROM Invoice AS inv\\nWHERE inv.InvoiceDate BETWEEN '2022-01-01' AND '2022-12-31'\\nGROUP BY BillingCountry\\nORDER BY TotalSales DESC\\nLIMIT 10;\",\n",
       " 'result': '',\n",
       " 'error': {'code': '', 'message': '', 'failed_step': '', 'hint': 'None'}}"
      ]
     },
     "execution_count": 12,
     "metadata": {},
     "output_type": "execute_result"
    }
   ],
   "source": [
    "#8 - validate_query\n",
    "question = \"2022년 매출 상위 10개 국가는?\"\n",
    "query_state = {'status': 'success',\n",
    "    'query': \"SELECT BillingCountry, SUM(Total) AS TotalSales\\nFROM Invoice\\nWHERE InvoiceDate BETWEEN '2022-01-01' AND '2022-12-31'\\nGROUP BY BillingCountry\\nORDER BY TotalSales DESC\\nLIMIT 10;\",\n",
    "    'result': '',\n",
    "    'error': {'code': '', 'message': '', 'failed_step': '', 'hint': 'None'}}\n",
    "\n",
    "validate_query_dev(question, DIALECT, query_state)"
   ]
  },
  {
   "cell_type": "code",
   "execution_count": 13,
   "metadata": {
    "tags": []
   },
   "outputs": [
    {
     "data": {
      "text/plain": [
       "{'status': 'success',\n",
       " 'query': \"SELECT BillingCountry AS Country, SUM(Total) AS TotalSales\\nFROM Invoice i\\nWHERE i.InvoiceDate BETWEEN '2022-01-01' AND '2022-12-31'\\nGROUP BY Country\\nORDER BY TotalSales DESC\\nLIMIT 10;\",\n",
       " 'result': \"[('USA', 102.98), ('Canada', 76.26), ('Brazil', 41.6), ('France', 39.6), ('Hungary', 32.75), ('United Kingdom', 30.689999999999998), ('Austria', 27.77), ('Germany', 25.74), ('Chile', 17.91), ('India', 17.83)]\",\n",
       " 'error': {'code': '', 'message': '', 'failed_step': '', 'hint': 'None'}}"
      ]
     },
     "execution_count": 13,
     "metadata": {},
     "output_type": "execute_result"
    }
   ],
   "source": [
    "#9 - execute_query\n",
    "query_state = {'status': 'success',\n",
    "    'query': \"SELECT BillingCountry AS Country, SUM(Total) AS TotalSales\\nFROM Invoice i\\nWHERE i.InvoiceDate BETWEEN '2022-01-01' AND '2022-12-31'\\nGROUP BY Country\\nORDER BY TotalSales DESC\\nLIMIT 10;\",\n",
    "    'result': '',\n",
    "    'error': {'code': '', 'message': '', 'failed_step': '', 'hint': 'None'}}\n",
    "execute_query_dev(query_state)"
   ]
  },
  {
   "cell_type": "code",
   "execution_count": 14,
   "metadata": {
    "tags": []
   },
   "outputs": [
    {
     "name": "stderr",
     "output_type": "stream",
     "text": [
      "INFO:retry-bedrock-invocation:trying converse_with_bedrock() [1/4]\n",
      "INFO:retry-bedrock-invocation:in retry(), converse_with_bedrock() returned '{\n",
      "  \"failure_type\": \"schema_check\",\n",
      "  \"hint\": \"오류 메시지 'no such column: Billing'은 'Billing'이라는 열이 Invoice 테이블에 존재하지 않음을 나타냅니다. Invoice 테이블의 실제 열 이름을 확인하세요. 국가 정보를 가져오려면 'BillingCountry' 열을 사용해야 할 가능성이 높습니다. 쿼리를 'SELECT BillingCountry AS Country, SUM(Total) AS TotalSales'로 수정해 보세요.\"\n",
      "}'\n"
     ]
    },
    {
     "name": "stdout",
     "output_type": "stream",
     "text": [
      "schema_check\n",
      "{'status': 'error', 'query': \"SELECT Billing AS Country, SUM(Total) AS TotalSales\\nFROM Invoice i\\nWHERE i.InvoiceDate BETWEEN '2022-01-01' AND '2022-12-31'\\nGROUP BY Country\\nORDER BY TotalSales DESC\\nLIMIT 10;\", 'result': '', 'error': {'code': 'E02', 'message': \"An error occurred while executing the validated query: (sqlite3.OperationalError) no such column: Billing\\n[SQL: SELECT Billing AS Country, SUM(Total) AS TotalSales\\nFROM Invoice i\\nWHERE i.InvoiceDate BETWEEN '2022-01-01' AND '2022-12-31'\\nGROUP BY Country\\nORDER BY TotalSales DESC\\nLIMIT 10;]\\n(Background on this error at: https://sqlalche.me/e/20/e3q8)\", 'failed_step': 'execution', 'hint': 'None'}, 'hint': \"오류 메시지 'no such column: Billing'은 'Billing'이라는 열이 Invoice 테이블에 존재하지 않음을 나타냅니다. Invoice 테이블의 실제 열 이름을 확인하세요. 국가 정보를 가져오려면 'BillingCountry' 열을 사용해야 할 가능성이 높습니다. 쿼리를 'SELECT BillingCountry AS Country, SUM(Total) AS TotalSales'로 수정해 보세요.\"}\n"
     ]
    }
   ],
   "source": [
    "#10 - handle_failure\n",
    "query_state_type1 = {\n",
    "    'status': 'error',\n",
    "    'query': \"SELECT Billing AS Country, SUM(Total) AS TotalSales\\nFROM Invoice i\\nWHERE i.InvoiceDate BETWEEN '2022-01-01' AND '2022-12-31'\\nGROUP BY Country\\nORDER BY TotalSales DESC\\nLIMIT 10;\",\n",
    "    'result': '',\n",
    "    'error': {\n",
    "        'code': 'E02',\n",
    "        'message': \"An error occurred while executing the validated query: (sqlite3.OperationalError) no such column: Billing\\n[SQL: SELECT Billing AS Country, SUM(Total) AS TotalSales\\nFROM Invoice i\\nWHERE i.InvoiceDate BETWEEN '2022-01-01' AND '2022-12-31'\\nGROUP BY Country\\nORDER BY TotalSales DESC\\nLIMIT 10;]\\n(Background on this error at: https://sqlalche.me/e/20/e3q8)\",\n",
    "        'failed_step': 'execution',\n",
    "        'hint': \"None\"\n",
    "    }\n",
    "}\n",
    "failure_type, state = handle_failure_dev(query_state_type1)\n",
    "print (failure_type)\n",
    "print (state)"
   ]
  },
  {
   "cell_type": "code",
   "execution_count": 15,
   "metadata": {
    "tags": []
   },
   "outputs": [
    {
     "name": "stderr",
     "output_type": "stream",
     "text": [
      "INFO:retry-bedrock-invocation:trying converse_with_bedrock() [1/4]\n",
      "INFO:retry-bedrock-invocation:in retry(), converse_with_bedrock() returned '{\n",
      "  \"failure_type\": \"syntax_check\",\n",
      "  \"hint\": \"SQL 구문 오류가 발생했습니다. 'SELECTS'는 유효한 SQL 키워드가 아닙니다. 'SELECT'가 올바른 키워드입니다. 'SELECTS BillingCountry'를 'SELECT BillingCountry'로 수정하세요.\"\n",
      "}'\n"
     ]
    },
    {
     "name": "stdout",
     "output_type": "stream",
     "text": [
      "syntax_check\n",
      "{'status': 'error', 'query': \"SELECTS BillingCountry AS Country, SUM(Total) AS TotalSales\\nFROM Invoice i\\nWHERE i.InvoiceDate BETWEEN '2022-01-01' AND '2022-12-31'\\nGROUP BY Country\\nORDER BY TotalSales DESC\\nLIMIT 10;\", 'result': '', 'error': {'code': 'E02', 'message': 'An error occurred while executing the validated query: (sqlite3.OperationalError) near \"SELECTS\": syntax error\\n[SQL: SELECTS BillingCountry AS Country, SUM(Total) AS TotalSales\\nFROM Invoice i\\nWHERE i.InvoiceDate BETWEEN \\'2022-01-01\\' AND \\'2022-12-31\\'\\nGROUP BY Country\\nORDER BY TotalSales DESC\\nLIMIT 10;]\\n(Background on this error at: https://sqlalche.me/e/20/e3q8)', 'failed_step': 'execution', 'hint': 'None'}, 'hint': \"SQL 구문 오류가 발생했습니다. 'SELECTS'는 유효한 SQL 키워드가 아닙니다. 'SELECT'가 올바른 키워드입니다. 'SELECTS BillingCountry'를 'SELECT BillingCountry'로 수정하세요.\"}\n"
     ]
    }
   ],
   "source": [
    "query_state_type2 = {'status': 'error',\n",
    "    'query': \"SELECTS BillingCountry AS Country, SUM(Total) AS TotalSales\\nFROM Invoice i\\nWHERE i.InvoiceDate BETWEEN '2022-01-01' AND '2022-12-31'\\nGROUP BY Country\\nORDER BY TotalSales DESC\\nLIMIT 10;\",\n",
    "    'result': '',\n",
    "    'error': {'code': 'E02',\n",
    "    'message': 'An error occurred while executing the validated query: (sqlite3.OperationalError) near \"SELECTS\": syntax error\\n[SQL: SELECTS BillingCountry AS Country, SUM(Total) AS TotalSales\\nFROM Invoice i\\nWHERE i.InvoiceDate BETWEEN \\'2022-01-01\\' AND \\'2022-12-31\\'\\nGROUP BY Country\\nORDER BY TotalSales DESC\\nLIMIT 10;]\\n(Background on this error at: https://sqlalche.me/e/20/e3q8)',\n",
    "    'failed_step': 'execution',\n",
    "    'hint': 'None'}}\n",
    "failure_type, state = handle_failure_dev(query_state_type2)\n",
    "print (failure_type)\n",
    "print (state)"
   ]
  },
  {
   "cell_type": "markdown",
   "metadata": {},
   "source": [
    "### 답변 생성 노드"
   ]
  },
  {
   "cell_type": "code",
   "execution_count": 16,
   "metadata": {
    "tags": []
   },
   "outputs": [],
   "source": [
    "def get_general_answer(state: GraphState) -> GraphState:\n",
    "    question = state[\"question\"]\n",
    "    sys_prompt_template = \"당신은 사용자의 일반적인 질문에 답변하는 유능한 비서입니다. 잘 모르는 주제에 대한 질문에 대해서는 모른다고 답변하세요.\"\n",
    "    usr_prompt_template = \"#질문: {question}\"\n",
    "    sys_prompt, usr_prompt = create_prompt(sys_prompt_template, usr_prompt_template, question=question)\n",
    "    answer = converse_with_bedrock(sys_prompt, usr_prompt)\n",
    "\n",
    "    return GraphState(answer=answer)\n",
    "\n",
    "def get_database_answer(state: GraphState) -> GraphState:\n",
    "    question = state[\"question\"]\n",
    "    query_state = state[\"query_state\"]\n",
    "    query = query_state[\"query\"]\n",
    "    data = query_state[\"result\"]\n",
    "    failed_step = query_state[\"error\"][\"failed_step\"]\n",
    "    message = query_state[\"error\"][\"message\"]\n",
    "    sys_prompt_template = \"당신은 데이터베이스의 정보를 바탕으로 사용자의 질문에 답변하는 유능한 비서입니다. 당신의 임무는 주어진 참고정보를 참고하여, 사용자의 질문에 성실히 답변하는 것입니다.\"\n",
    "    if query_state[\"status\"] == \"success\":\n",
    "        usr_prompt_template = \"답변에는 사용된 쿼리, 데이터프레임(Markdown Table), 질문에 대한 간단한 답변을 포함해야 합니다. \\n\\n#질문: {question}\\n\\n#사용된 쿼리: {query}\\n\\n#데이터: {data}\\n\\n\"\n",
    "        sys_prompt, usr_prompt = create_prompt(sys_prompt_template, usr_prompt_template, question=question, query=query, data=data)\n",
    "    else:\n",
    "        usr_prompt_template = \"다음에는 사용자 질문에 대한 쿼리 수행에 실패한 기록이 주어집니다. 이를 바탕으로 요청 처리에 실패한 이유를 설명하세요.\\n\\n#질문: {question}\\n\\n#사용된 쿼리: {query}\\n\\n#실패 단계: {failed_step}\\n\\n#에러메시지: {message}\\n\\n\"\n",
    "        sys_prompt, usr_prompt = create_prompt(sys_prompt_template, usr_prompt_template, question=question, query=query, failed_step=failed_step, message=message)\n",
    "    \n",
    "    answer = converse_with_bedrock(sys_prompt, usr_prompt)\n",
    "    return GraphState(answer=answer)\n"
   ]
  },
  {
   "cell_type": "markdown",
   "metadata": {},
   "source": [
    "### 답변 생성 - 모듈"
   ]
  },
  {
   "cell_type": "code",
   "execution_count": 17,
   "metadata": {
    "tags": []
   },
   "outputs": [],
   "source": [
    "def get_database_answer_dev(question, query_state) -> GraphState:\n",
    "    question = question\n",
    "    query_state = query_state\n",
    "    query = query_state[\"query\"]\n",
    "    data = query_state[\"result\"]\n",
    "    failed_step = query_state[\"error\"][\"failed_step\"]\n",
    "    message = query_state[\"error\"][\"message\"]\n",
    "    sys_prompt_template = \"당신은 데이터베이스의 정보를 바탕으로 사용자의 질문에 답변하는 유능한 비서입니다. 당신의 임무는 주어진 참고정보를 참고하여, 사용자의 질문에 성실히 답변하는 것입니다.\"\n",
    "    if query_state[\"status\"] == \"success\":\n",
    "        usr_prompt_template = \"답변에는 사용된 쿼리(Markdown Codeblock), 데이터프레임(Markdown Table), 질문에 대한 간단한 답변을 포함해야 합니다. \\n\\n#질문: {question}\\n\\n#사용된 쿼리: {query}\\n\\n#데이터: {data}\\n\\n\"\n",
    "        sys_prompt, usr_prompt = create_prompt(sys_prompt_template, usr_prompt_template, question=question, query=query, data=data)\n",
    "    else:\n",
    "        usr_prompt_template = \"다음에는 사용자 질문에 대한 쿼리 수행에 실패한 기록이 주어집니다. 이를 바탕으로 요청 처리에 실패한 이유를 설명하세요.\\n\\n#질문: {question}\\n\\n#사용된 쿼리: {query}\\n\\n#실패 단계: {failed_step}\\n\\n#에러메시지: {message}\\n\\n\"\n",
    "        sys_prompt, usr_prompt = create_prompt(sys_prompt_template, usr_prompt_template, question=question, query=query, failed_step=failed_step, message=message)\n",
    "    \n",
    "    answer = converse_with_bedrock(sys_prompt, usr_prompt)\n",
    "    return GraphState(answer=answer)"
   ]
  },
  {
   "cell_type": "markdown",
   "metadata": {},
   "source": [
    "### 답변 생성 - 검증"
   ]
  },
  {
   "cell_type": "code",
   "execution_count": 18,
   "metadata": {
    "tags": []
   },
   "outputs": [
    {
     "name": "stderr",
     "output_type": "stream",
     "text": [
      "INFO:retry-bedrock-invocation:trying converse_with_bedrock() [1/4]\n",
      "INFO:retry-bedrock-invocation:in retry(), converse_with_bedrock() returned '# 2022년 매출 상위 10개 국가\n",
      "\n",
      "```sql\n",
      "SELECT BillingCountry AS Country, SUM(Total) AS TotalSales\n",
      "FROM Invoice i\n",
      "WHERE i.InvoiceDate BETWEEN '2022-01-01' AND '2022-12-31'\n",
      "GROUP BY Country\n",
      "ORDER BY TotalSales DESC\n",
      "LIMIT 10;\n",
      "```\n",
      "\n",
      "| Country        | TotalSales |\n",
      "|----------------|------------|\n",
      "| USA            | 102.98     |\n",
      "| Canada         | 76.26      |\n",
      "| Brazil         | 41.60      |\n",
      "| France         | 39.60      |\n",
      "| Hungary        | 32.75      |\n",
      "| United Kingdom | 30.69      |\n",
      "| Austria        | 27.77      |\n",
      "| Germany        | 25.74      |\n",
      "| Chile          | 17.91      |\n",
      "| India          | 17.83      |\n",
      "\n",
      "2022년 매출 기준으로 상위 10개 국가를 분석한 결과, 미국(USA)이 $102.98로 가장 높은 매출을 기록했으며, 그 뒤를 캐나다($76.26)와 브라질($41.60)이 따르고 있습니다. 상위 3개국이 전체 매출의 상당 부분을 차지하고 있으며, 특히 미국과 캐나다의 매출이 두드러집니다.'\n"
     ]
    },
    {
     "name": "stdout",
     "output_type": "stream",
     "text": [
      "{'answer': \"# 2022년 매출 상위 10개 국가\\n\\n```sql\\nSELECT BillingCountry AS Country, SUM(Total) AS TotalSales\\nFROM Invoice i\\nWHERE i.InvoiceDate BETWEEN '2022-01-01' AND '2022-12-31'\\nGROUP BY Country\\nORDER BY TotalSales DESC\\nLIMIT 10;\\n```\\n\\n| Country        | TotalSales |\\n|----------------|------------|\\n| USA            | 102.98     |\\n| Canada         | 76.26      |\\n| Brazil         | 41.60      |\\n| France         | 39.60      |\\n| Hungary        | 32.75      |\\n| United Kingdom | 30.69      |\\n| Austria        | 27.77      |\\n| Germany        | 25.74      |\\n| Chile          | 17.91      |\\n| India          | 17.83      |\\n\\n2022년 매출 기준으로 상위 10개 국가를 분석한 결과, 미국(USA)이 $102.98로 가장 높은 매출을 기록했으며, 그 뒤를 캐나다($76.26)와 브라질($41.60)이 따르고 있습니다. 상위 3개국이 전체 매출의 상당 부분을 차지하고 있으며, 특히 미국과 캐나다의 매출이 두드러집니다.\"}\n"
     ]
    }
   ],
   "source": [
    "question = \"2022년 매출 상위 10개 국가는?\"\n",
    "query_state = {'status': 'success',\n",
    " 'query': \"SELECT BillingCountry AS Country, SUM(Total) AS TotalSales\\nFROM Invoice i\\nWHERE i.InvoiceDate BETWEEN '2022-01-01' AND '2022-12-31'\\nGROUP BY Country\\nORDER BY TotalSales DESC\\nLIMIT 10;\",\n",
    " 'result': \"[('USA', 102.98), ('Canada', 76.26), ('Brazil', 41.6), ('France', 39.6), ('Hungary', 32.75), ('United Kingdom', 30.689999999999998), ('Austria', 27.77), ('Germany', 25.74), ('Chile', 17.91), ('India', 17.83)]\",\n",
    " 'error': {'code': '', 'message': '', 'failed_step': '', 'hint': 'None'}}\n",
    "\n",
    "answer = get_database_answer_dev(question, query_state)\n",
    "print(answer)"
   ]
  },
  {
   "cell_type": "markdown",
   "metadata": {},
   "source": [
    "### LangGraph 워크플로 그래프 생성 "
   ]
  },
  {
   "cell_type": "code",
   "execution_count": 19,
   "metadata": {
    "tags": []
   },
   "outputs": [],
   "source": [
    "from langgraph.graph import END, StateGraph\n",
    "from langgraph.checkpoint.memory import MemorySaver\n",
    "\n",
    "workflow = StateGraph(GraphState)\n",
    "\n",
    "# Global Nodes\n",
    "workflow.add_node(\"analyze_intent\", analyze_intent)\n",
    "workflow.add_node(\"get_general_answer\", get_general_answer)\n",
    "workflow.add_node(\"get_database_answer\", get_database_answer)\n",
    "workflow.set_entry_point(\"analyze_intent\")\n",
    "\n",
    "# SubGraph1 Nodes - Schema Linking\n",
    "workflow.add_node(\"get_sample_queries\", get_sample_queries)\n",
    "workflow.add_node(\"check_readiness\", check_readiness)\n",
    "workflow.add_node(\"get_relevant_tables\", get_relevant_tables)\n",
    "workflow.add_node(\"describe_schema\", describe_schema)\n",
    "\n",
    "# SubGraph2 Nodes - Query Generation & Execution\n",
    "workflow.add_node(\"generate_query\", generate_query)\n",
    "workflow.add_node(\"validate_query\", validate_query)\n",
    "workflow.add_node(\"execute_query\", execute_query)\n",
    "workflow.add_node(\"handle_failure\", handle_failure)\n",
    "workflow.add_node(\"get_relevant_columns\", get_relevant_columns)\n",
    "\n",
    "# Edge from Entry to SubGraph1\n",
    "workflow.add_conditional_edges(\n",
    "    \"analyze_intent\",\n",
    "    next_step_by_intent,\n",
    "    {\n",
    "        \"database\": \"get_sample_queries\",\n",
    "        \"general\": \"get_general_answer\",\n",
    "    }\n",
    ")\n",
    "\n",
    "# Edges in SubGraph1\n",
    "workflow.add_edge(\"get_sample_queries\", \"check_readiness\")\n",
    "workflow.add_conditional_edges(\n",
    "    \"check_readiness\"    ,\n",
    "    next_step_by_readiness,\n",
    "    {\n",
    "        \"Ready\": \"generate_query\",\n",
    "        \"Not Ready\": \"get_relevant_tables\"\n",
    "    }\n",
    ")\n",
    "workflow.add_edge(\"get_relevant_tables\", \"describe_schema\")\n",
    "workflow.add_edge(\"describe_schema\", \"check_readiness\")\n",
    "\n",
    "# Edges in SubGraph2\n",
    "workflow.add_edge(\"generate_query\", \"validate_query\")\n",
    "workflow.add_conditional_edges(\n",
    "    \"validate_query\"    ,\n",
    "    next_step_by_query_state,\n",
    "    {\n",
    "        \"success\": \"execute_query\",\n",
    "        \"error\": \"handle_failure\"\n",
    "    }\n",
    ")\n",
    "workflow.add_conditional_edges(\n",
    "    \"execute_query\"    ,\n",
    "    next_step_by_query_state,\n",
    "    {\n",
    "        \"success\": \"get_database_answer\",\n",
    "        \"error\": \"handle_failure\"\n",
    "    }\n",
    ")\n",
    "workflow.add_conditional_edges(\n",
    "    \"handle_failure\"    ,\n",
    "    next_step_by_next_action,\n",
    "    {\n",
    "        \"schema_check\": \"get_relevant_columns\",\n",
    "        \"syntax_check\": \"generate_query\",\n",
    "        \"retry\": \"validate_query\",\n",
    "        \"stop\": \"get_database_answer\"\n",
    "    }\n",
    ")\n",
    "workflow.add_edge(\"get_relevant_columns\", \"generate_query\")\n",
    "\n",
    "# Edges to END\n",
    "workflow.add_edge(\"get_general_answer\", END)\n",
    "workflow.add_edge(\"get_database_answer\", END)\n",
    "\n",
    "memory = MemorySaver()\n",
    "app = workflow.compile(checkpointer=memory)"
   ]
  },
  {
   "cell_type": "markdown",
   "metadata": {},
   "source": [
    "### LangGraph 워크플로 그래프 시각화"
   ]
  },
  {
   "cell_type": "code",
   "execution_count": 20,
   "metadata": {
    "tags": []
   },
   "outputs": [
    {
     "data": {
      "image/png": "[encoded data removed]",
      "text/plain": [
       "<IPython.core.display.Image object>"
      ]
     },
     "metadata": {},
     "output_type": "display_data"
    }
   ],
   "source": [
    "from IPython.display import Image, display\n",
    "\n",
    "try:\n",
    "    display(\n",
    "        Image(app.get_graph(xray=True).draw_mermaid_png())\n",
    "    )  # 실행 가능한 객체의 그래프를 mermaid 형식의 PNG로 그려서 표시합니다. \n",
    "       # xray=True는 추가적인 세부 정보를 포함합니다.\n",
    "except e:\n",
    "    print(e)\n",
    "    # 이 부분은 추가적인 의존성이 필요하며 선택적으로 실행됩니다.\n",
    "    pass"
   ]
  },
  {
   "cell_type": "markdown",
   "metadata": {},
   "source": [
    "### LangGraph 워크플로 End-to-End 테스트 (draft)"
   ]
  },
  {
   "cell_type": "code",
   "execution_count": 23,
   "metadata": {
    "tags": []
   },
   "outputs": [
    {
     "name": "stderr",
     "output_type": "stream",
     "text": [
      "INFO:retry-bedrock-invocation:trying converse_with_bedrock() [1/4]\n"
     ]
    },
    {
     "name": "stdout",
     "output_type": "stream",
     "text": [
      "[{'text': '당신은 사용자 질문의 의도를 파악하는 비서입니다. 당신의 임무는 사용자 질문을 하나로 분류하는 것입니다.'}] [{'role': 'user', 'content': [{'text': '사용자 질문을 해결하기 위해 데이터베이스 조회가 필요하면 `database` 그 밖의 경우는 `general`로 응답하세요. 서두는 생략하세요. \\n\\n #질문: 2022년 매출 상위 10개 국가는?'}]}]\n"
     ]
    },
    {
     "name": "stderr",
     "output_type": "stream",
     "text": [
      "INFO:retry-bedrock-invocation:in retry(), converse_with_bedrock() returned 'database'\n",
      "INFO:retry-bedrock-invocation:trying converse_with_bedrock() [1/4]\n"
     ]
    },
    {
     "name": "stdout",
     "output_type": "stream",
     "text": [
      "\n",
      "🔹 [NODE] analyze_intent\n",
      "================================================================================\n",
      "📌 intent:\n",
      "'database'\n",
      "================================================================================\n",
      "[{'text': '당신은 사용자 질문에 대한 SQL 쿼리를 작성하는 유능한 데이터베이스 엔지니어입니다. 당신의 임무는 질문에 부합한 SQL 쿼리 작성에 유용한 샘플 쿼리를 선택하는 것입니다. 당신이 선택하는 샘플 쿼리는 쿼리 재활용, 스키마 참조 등에 사용될 수 있습니다.'}] [{'role': 'user', 'content': [{'text': \"질문에 부합한 SQL 쿼리 작성을 위해 유용한 샘플 쿼리를 선택하여 중요도 순서로 정렬하여 응답하세요. 샘플 쿼리의 인덱스 번호(0부터 시작)만 응답하세요. 관련된 샘플이 없으면 빈 목록()으로 응답하세요. \\n\\n #질문: 2022년 매출 상위 10개 국가는?\\n\\n #샘플 쿼리:\\n ['매출액 기준 상위 5명의 고객 목록\\\\n\\\\n이 요청은 고객별 총 구매액을 계산하여 가장 많은 금액을 지출한 상위 5명의 고객을 식별하기 위한 것입니다. 회사의 VIP 고객을 파악하거나 충성도 높은 고객을 대상으로 한 마케팅 캠페인을 계획하는 데 활용될 수 있습니다. 또한 매출에 가장 큰 기여를 하는 고객층을 분석하여 비즈니스 전략을 수립하거나, 고객 유지 프로그램을 개발하는 데 중요한 인사이트를 제공합니다. 이러한 데이터는 매출 집중도를 파악하고 특정 고객에 대한 의존도를 평가하는 데도 유용합니다.', '총 인보이스 수 조회\\\\n\\\\n이 쿼리는 시스템에 등록된 모든 인보이스(거래 기록)의 총 개수를 파악하기 위한 것입니다. 회사의 전체 거래량을 확인하여 비즈니스 규모를 평가하거나, 회계 감사를 위한 기초 데이터로 활용될 수 있습니다. 또한 시스템에 저장된 거래 기록의 볼륨을 확인하여 데이터베이스 성능이나 저장 공간 관리에 참고할 수 있습니다. 경영진이 전체적인 비즈니스 활동량을 파악하거나 IT 부서가 시스템 부하를 예측하는 데 필요한 기본 정보로 사용됩니다.', '모든 아티스트 정보 조회\\\\n\\\\n이 요청은 음악 데이터베이스나 미술 갤러리 시스템에서 등록된 모든 아티스트의 전체 정보를 확인하기 위한 것입니다. 사용자는 아티스트 ID와 이름을 포함한 모든 아티스트 데이터를 한눈에 보고 싶어합니다.\\\\n\\\\n이 조회의 목적:\\\\n- 시스템에 등록된 전체 아티스트 목록 확인\\\\n- 아티스트 관리를 위한 기초 데이터 수집\\\\n- 음악 카탈로그나 미술 작품 관리를 위한 아티스트 정보 검토\\\\n- 신규 콘텐츠 추가 전 기존 아티스트 확인\\\\n- 아티스트 관련 보고서 작성이나 통계 분석을 위한 기초 자료 수집', '직원 수 조회\\\\n\\\\n이 쿼리는 회사의 전체 직원 수를 파악하기 위한 것입니다. 인사 관리, 조직 규모 파악, 인력 계획 수립, 예산 책정, 또는 경영 보고서 작성 시 기본적인 인력 현황 데이터로 활용됩니다. 특히 인사부서에서 직원 통계를 작성하거나, 경영진이 회사 규모를 파악할 때, 또는 부서별 인원 배치 계획을 세울 때 필요한 기초 정보를 제공합니다.', '300,000밀리초(5분) 이상 재생 시간을 가진 모든 음악 트랙 정보\\\\n\\\\n이 쿼리의 목적:\\\\n- 긴 재생 시간을 가진 트랙을 식별하여 특정 재생 목록이나 프로그램에 적합한 음악 찾기\\\\n- 5분 이상 길이의 곡들을 분석하여 장르별 평균 재생 시간 추세 파악\\\\n- 긴 트랙에 대한 가격 정책 검토나 스트리밍 서비스의 대역폭 사용량 예측\\\\n- 라디오 방송이나 DJ 세트 구성 시 긴 트랙들을 선별하기 위한 데이터 수집', '캐나다에 거주하는 모든 고객의 상세 정보\\\\n\\\\n이 쿼리는 캐나다에 거주하는 고객들에 대한 모든 정보를 조회하기 위한 것입니다. 회사가 캐나다 시장에 집중하거나 캐나다 고객을 위한 특별 프로모션을 계획할 때 사용될 수 있습니다. 또한 캐나다 지역 마케팅 캠페인을 위한 고객 데이터 분석, 캐나다 고객 서비스 품질 평가, 또는 캐나다 시장 확장 전략을 위한 기초 자료로 활용될 수 있습니다. 특히 캐나다 고객들의 구매 패턴이나 선호도를 분석하여 지역 맞춤형 서비스를 개발하는 데 중요한 정보를 제공합니다.', '록 장르에 속하는 모든 음악 트랙 정보\\\\n\\\\n이 쿼리는 음악 카탈로그 시스템에서 특정 장르에 속한 트랙을 찾기 위한 것입니다. 사용자가 록 음악만 필터링하여 보고 싶을 때 사용됩니다. 음악 스트리밍 서비스나 음반 판매점에서 고객이 록 장르의 음악만 탐색하려는 경우, 또는 음악 분석가가 록 장르의 트랙 특성을 연구하려는 경우에 유용합니다. 이 정보는 록 음악 컬렉션 구성, 플레이리스트 생성, 또는 록 음악 관련 마케팅 캠페인 기획에 활용될 수 있습니다.', '앨범 ID가 5인 트랙의 총 개수 조회\\\\n\\\\n이 쿼리는 특정 앨범(ID 5)에 포함된 모든 트랙의 수를 계산하는 것입니다. 음악 관리 시스템이나 스트리밍 서비스에서 앨범의 트랙 수를 파악하기 위해 사용됩니다. 이러한 정보는 앨범 상세 페이지 표시, 앨범 완전성 확인, 재생 시간 계산, 또는 특정 앨범의 콘텐츠 양을 평가하는 데 필요합니다. 또한 앨범 간 비교 분석이나 앨범 구성 검토 시 기초 데이터로 활용될 수 있습니다.', '모든 트랙의 총 재생 시간\\\\n\\\\n이 쿼리는 음악 라이브러리의 전체 콘텐츠 볼륨을 파악하기 위한 것으로, 모든 트랙의 총 재생 시간을 밀리초 단위로 합산합니다. 이는 스트리밍 서비스나 음악 라이브러리 관리자가 전체 콘텐츠의 규모를 파악하거나, 평균 재생 시간 계산을 위한 기초 데이터로 활용될 수 있습니다. 또한 서버 용량 계획이나 스트리밍 대역폭 요구사항을 예측하는 데 필요한 정보를 제공합니다.', 'AC/DC 아티스트가 발매한 모든 앨범 정보 조회\\\\n\\\\n이 쿼리는 특정 아티스트(AC/DC)가 발매한 모든 앨범의 상세 정보를 확인하기 위한 목적으로 사용됩니다. 음악 스트리밍 서비스나 음반 판매점에서 특정 아티스트의 전체 디스코그래피를 확인하거나, 팬이 좋아하는 아티스트의 모든 작품을 살펴보고자 할 때 활용될 수 있습니다. 또한 음악 카탈로그 관리, 아티스트별 앨범 분석, 판매 전략 수립을 위한 데이터 수집 등의 비즈니스 목적으로도 사용될 수 있습니다. 서브쿼리를 통해 아티스트 이름으로 해당 아티스트의 ID를 찾고, 그 ID를 가진 모든 앨범 레코드를 조회하는 방식으로 작동합니다.']\\n\\n #형식: Your response should be a list of comma separated values, eg: `foo, bar, baz` or `foo,bar,baz`\"}]}]\n"
     ]
    },
    {
     "name": "stderr",
     "output_type": "stream",
     "text": [
      "INFO:retry-bedrock-invocation:in retry(), converse_with_bedrock() returned '0'\n",
      "INFO:retry-bedrock-invocation:trying converse_with_bedrock() [1/4]\n"
     ]
    },
    {
     "name": "stdout",
     "output_type": "stream",
     "text": [
      "\n",
      "🔹 [NODE] get_sample_queries\n",
      "================================================================================\n",
      "📌 sample_queries:\n",
      "[{'input': '매출액 기준 상위 5명의 고객 목록\\n'\n",
      "           '\\n'\n",
      "           '이 요청은 고객별 총 구매액을 계산하여 가장 많은 금액을 지출한 상위 5명의 고객을 식별하기 위한 것입니다. 회사의 VIP 고객을 파악하거나 충성도 높은 고객을 대상으로 한 마케팅 캠페인을 계획하는 데 활용될 수 있습니다. 또한 매출에 가장 큰 기여를 하는 고객층을 분석하여 비즈니스 전략을 수립하거나, 고객 유지 프로그램을 개발하는 '\n",
      "           '데 중요한 인사이트를 제공합니다. 이러한 데이터는 매출 집중도를 파악하고 특정 고객에 대한 의존도를 평가하는 데도 유용합니다.',\n",
      "  'query': 'SELECT CustomerId, SUM(Total) AS TotalPurchase FROM Invoice GROUP BY CustomerId ORDER BY TotalPurchase DESC LIMIT 5'}]\n",
      "================================================================================\n",
      "[{'text': '당신은 사용자 질문에 대한 SQL 쿼리를 작성하는 유능한 데이터베이스 엔지니어입니다. 당신의 임무는 주어진 DB 정보를 바탕으로, 사용자 질문에 대한 SQL 쿼리 작성이 가능한지 판단하는 것입니다.'}] [{'role': 'user', 'content': [{'text': \"질문에 대한 SQL 쿼리를 생성하기에 충분한 정보가 제공되었는지 판단합니다. 서두는 건너뛰고, 정보가 충분하면 `Ready`, 정보가 부족하면 `Not Ready`로 응답하세요. 반드시 `Ready`, `Not Ready` 둘 중 하나로 응답하세요. \\n\\n #질문: 2022년 매출 상위 10개 국가는?\\n\\n #샘플 쿼리:\\n [{'input': '매출액 기준 상위 5명의 고객 목록\\\\n\\\\n이 요청은 고객별 총 구매액을 계산하여 가장 많은 금액을 지출한 상위 5명의 고객을 식별하기 위한 것입니다. 회사의 VIP 고객을 파악하거나 충성도 높은 고객을 대상으로 한 마케팅 캠페인을 계획하는 데 활용될 수 있습니다. 또한 매출에 가장 큰 기여를 하는 고객층을 분석하여 비즈니스 전략을 수립하거나, 고객 유지 프로그램을 개발하는 데 중요한 인사이트를 제공합니다. 이러한 데이터는 매출 집중도를 파악하고 특정 고객에 대한 의존도를 평가하는 데도 유용합니다.', 'query': 'SELECT CustomerId, SUM(Total) AS TotalPurchase FROM Invoice GROUP BY CustomerId ORDER BY TotalPurchase DESC LIMIT 5'}]\\n\\n #사용 가능한 테이블:\\n \"}]}]\n"
     ]
    },
    {
     "name": "stderr",
     "output_type": "stream",
     "text": [
      "INFO:retry-bedrock-invocation:in retry(), converse_with_bedrock() returned 'Not Ready'\n",
      "INFO:retry-bedrock-invocation:trying converse_with_bedrock() [1/4]\n"
     ]
    },
    {
     "name": "stdout",
     "output_type": "stream",
     "text": [
      "\n",
      "🔹 [NODE] check_readiness\n",
      "================================================================================\n",
      "📌 readiness:\n",
      "'Not Ready'\n",
      "================================================================================\n",
      "[{'text': '당신은 사용자 요청에 맞는 SQL 쿼리를 작성하는 유능한 데이터베이스 엔지니어입니다. 당신의 임무는 SQL 쿼리 작성에 필요한 테이블을 선택하는 것입니다.'}] [{'role': 'user', 'content': [{'text': \"사용자 요청에 맞는 SQL 쿼리를 생성하기 위해 필요한 테이블을 선택하여, 이를 중요도 순서로 정렬한 후 인덱스 번호(0부터 시작)로 응답하세요. 사용자 요청에 관련된 테이블이 없으면 빈 목록()으로 응답하세요.\\n\\n #질문: 2022년 매출 상위 10개 국가는?\\n\\n #테이블 정보:\\n ['# Invoice 테이블 요약\\\\n\\\\nInvoice 테이블은 거래 기록에 대한 상세 정보를 저장하며 고객과 연결되어 있습니다. 이 테이블은 다음과 같은 정보를 포함합니다:\\\\n\\\\n- 인보이스 식별자(InvoiceId): 각 인보이스의 고유 식별자로 기본 키 역할을 합니다.\\\\n- 고객 식별자(CustomerId): 인보이스와 연관된 고객을 참조하는 외래 키입니다.\\\\n- 인보이스 날짜(InvoiceDate): 인보이스가 발행된 날짜입니다.\\\\n- 청구 정보: 청구 주소(BillingAddress), 도시(BillingCity), 주/도(BillingState), 국가(BillingCountry), 우편번호(BillingPostalCode)를 포함합니다.\\\\n- 총액(Total): 인보이스의 총 금액입니다.\\\\n\\\\n## 활용 사례:\\\\n\\\\n1. **매출 분석**: 기간별, 지역별, 고객별 매출 추이를 분석하여 비즈니스 성과를 평가할 수 있습니다.\\\\n\\\\n2. **고객 행동 분석**: 고객별 구매 패턴, 구매 빈도, 평균 구매 금액 등을 파악하여 고객 세그먼트를 구분할 수 있습니다.\\\\n\\\\n3. **지역별 판매 분석**: 청구 주소 정보를 활용하여 지역별 매출 분포를 파악하고 지역 타겟팅 전략을 수립할 수 있습니다.\\\\n\\\\n4. **VIP 고객 식별**: 총 구매액을 기준으로 상위 고객을 식별하여 충성도 프로그램이나 맞춤형 마케팅을 계획할 수 있습니다.\\\\n\\\\n5. **재무 보고 및 회계**: 특정 기간 동안의 총 매출, 평균 거래 금액 등을 계산하여 재무 보고서를 작성할 수 있습니다.\\\\n\\\\n6. **계절적 트렌드 분석**: 인보이스 날짜를 기반으로 계절별 매출 패턴을 분석할 수 있습니다.\\\\n\\\\n7. **국가별/지역별 시장 침투율 분석**: 청구 국가 및 지역 정보를 활용하여 시장 점유율을 평가할 수 있습니다.', '# invoice_items 테이블 요약\\\\n\\\\n이 테이블은 청구서(invoice)의 각 라인 항목에 대한 세부 정보를 저장하고 있습니다. 각 레코드는 특정 청구서에 포함된 개별 트랙(음원)의 판매 정보를 나타냅니다.\\\\n\\\\n## 주요 컬럼 정보:\\\\n- **InvoiceLineId**: 청구서 라인의 고유 식별자로 기본 키 역할을 합니다.\\\\n- **InvoiceId**: 연관된 청구서를 참조하는 외래 키입니다.\\\\n- **TrackId**: 이 청구서 라인에서 판매된 트랙을 참조하는 외래 키입니다.\\\\n- **UnitPrice**: 트랙의 단위당 가격입니다.\\\\n- **Quantity**: 이 청구서 라인에서 판매된 트랙의 수량입니다.\\\\n\\\\n## 잠재적 활용 사례:\\\\n1. **매출 분석**: 트랙별, 청구서별 매출 계산 및 분석\\\\n2. **인기 트랙 파악**: 가장 많이 판매된 트랙 식별\\\\n3. **가격 분석**: 트랙별 가격 변동 추적\\\\n4. **구매 패턴 분석**: 고객이 함께 구매하는 트랙 패턴 파악\\\\n5. **재고 관리**: 디지털 콘텐츠의 판매량 추적\\\\n6. **청구서 세부 정보 조회**: 특정 청구서에 포함된 모든 항목 확인\\\\n7. **수익성 분석**: 트랙별 판매 수량과 가격을 기반으로 수익성 평가\\\\n\\\\n이 테이블은 음악 판매 플랫폼의 거래 세부 정보를 추적하는 데 필수적인 데이터를 제공합니다.', '# Employee 테이블 요약\\\\n\\\\nEmployee 테이블은 직원의 상세 정보와 조직 내 감독 체계를 저장하는 테이블입니다. 이 테이블은 다음과 같은 정보를 포함합니다:\\\\n\\\\n- 직원 식별 정보: EmployeeId(고유 식별자), LastName(성), FirstName(이름)\\\\n- 직무 정보: Title(직책)\\\\n- 조직 구조 정보: ReportsTo(상사 참조 외래키)\\\\n- 개인 정보: BirthDate(생년월일), HireDate(입사일)\\\\n- 연락처 정보: Address(주소), City(도시), State(주/도), Country(국가), PostalCode(우편번호), Phone(전화번호), Fax(팩스번호), Email(이메일)\\\\n\\\\n이 테이블의 잠재적 활용 사례는 다음과 같습니다:\\\\n\\\\n1. 인사 관리: 직원 정보 조회, 직원 수 파악, 인력 현황 분석\\\\n2. 조직 구조 분석: 보고 체계 및 조직도 생성, 관리 스팬 분석\\\\n3. 인력 계획: 직원 분포 분석, 지역별/부서별 인력 배치 현황 파악\\\\n4. 직원 연락처 관리: 비상 연락망 구축, 커뮤니케이션 채널 관리\\\\n5. 인구통계학적 분석: 직원 연령 분포, 근속 기간 분석\\\\n6. 지리적 분석: 직원의 지역별 분포 파악\\\\n7. 조직 내 보고 체계 시각화: 상사-부하 관계 매핑\\\\n8. 인사 기록 관리: 입사일 기반 근속 기간 계산, 기념일 관리\\\\n\\\\n이 테이블은 회사의 인사 관리 시스템의 핵심 구성 요소로, 직원 정보 관리와 조직 구조 파악에 필수적인 데이터를 제공합니다.', '# Customer 테이블 요약\\\\n\\\\nCustomer 테이블은 고객의 상세 정보와 담당 지원 담당자에 대한 연결 정보를 포함하고 있습니다. 이 테이블은 다음과 같은 정보를 저장합니다:\\\\n\\\\n- 고객 식별 정보: CustomerId(고유 식별자), FirstName(이름), LastName(성)\\\\n- 연락처 정보: Email, Phone, Fax\\\\n- 주소 정보: Address, City, State, Country, PostalCode\\\\n- 소속 정보: Company(고객의 회사)\\\\n- 지원 정보: SupportRepId(고객을 담당하는 직원 ID)\\\\n\\\\n이 테이블은 다음과 같은 용도로 활용될 수 있습니다:\\\\n\\\\n1. 고객 세그먼테이션 및 타겟 마케팅: 지역별, 국가별 고객 분류를 통한 맞춤형 마케팅 전략 수립\\\\n2. 고객 관계 관리: 고객별 담당 지원 담당자 파악 및 고객 서비스 품질 관리\\\\n3. 지역별 고객 분포 분석: 특정 지역이나 국가의 고객 수 파악 및 시장 확장 전략 수립\\\\n4. 고객 연락 캠페인: 이메일이나 전화를 통한 고객 접촉 시 필요한 연락처 정보 활용\\\\n5. 고객 프로필링: 회사 정보와 위치 정보를 활용한 고객 특성 분석\\\\n6. 매출 분석: 다른 테이블(예: Invoice)과 연계하여 고객별 매출 기여도 분석\\\\n7. 고객 서비스 최적화: 담당 지원 직원과 고객 간의 관계 분석 및 서비스 개선\\\\n\\\\n이 테이블은 고객 관리 시스템의 핵심 구성 요소로, 고객 정보의 중앙 저장소 역할을 하며 다양한 비즈니스 분석 및 의사결정에 필요한 기본 데이터를 제공합니다.', '# MediaType 테이블 요약\\\\n\\\\n이 테이블은 음악 트랙의 미디어 유형을 정의하는 데이터를 저장합니다.\\\\n\\\\n## 구조\\\\n- **MediaTypeId**: 미디어 유형의 고유 식별자로 기본 키로 사용됩니다.\\\\n- **Name**: 미디어 유형의 이름을 저장합니다.\\\\n\\\\n## 데이터 특성\\\\n이 테이블은 음악이나 오디오 트랙이 어떤 형태의 미디어로 제공되는지에 대한 정보를 담고 있습니다. 예를 들어 MP3, AAC, WAV, FLAC 등과 같은 디지털 오디오 형식이나 CD, DVD와 같은 물리적 미디어 형식이 포함될 수 있습니다.\\\\n\\\\n## 활용 사례\\\\n- 미디어 유형별 트랙 분류 및 필터링\\\\n- 특정 미디어 형식의 인기도 분석\\\\n- 미디어 형식별 판매 통계 생성\\\\n- 스트리밍 서비스와 다운로드 가능한 형식 간의 비교 분석\\\\n- 미디어 형식 변화 추세 파악\\\\n- 디지털 음원 관리 시스템에서 지원 형식 관리\\\\n\\\\n이 테이블은 음악 또는 미디어 관리 시스템에서 트랙의 기술적 특성을 분류하는 데 중요한 역할을 합니다.', '# Genre 테이블 요약\\\\n\\\\nGenre 테이블은 음악 장르를 카탈로그화하는 테이블로, 각 장르에 대한 고유 식별자와 이름을 저장합니다.\\\\n\\\\n## 구조\\\\n- **GenreId**: 장르의 고유 식별자로 기본 키(Primary Key) 역할을 합니다.\\\\n- **Name**: 장르의 이름을 저장합니다 (예: Rock, Jazz, Classical 등).\\\\n\\\\n## 활용 사례\\\\n- 특정 장르에 속하는 음악 트랙 필터링 및 검색\\\\n- 음악 카탈로그 시스템에서 장르별 분류 및 정리\\\\n- 장르별 음악 통계 분석 수행\\\\n- 사용자 맞춤형 음악 추천 시스템 구축\\\\n- 장르별 플레이리스트 생성\\\\n- 음악 스트리밍 서비스의 장르 기반 탐색 기능 지원\\\\n- 음악 판매 분석에서 장르별 인기도 측정\\\\n- 음악 트렌드 분석을 위한 기초 데이터 제공\\\\n\\\\n이 테이블은 음악 데이터베이스 시스템에서 장르 분류의 기본 구조를 제공하며, 다른 테이블(예: Track)과 연결되어 음악 카탈로그의 체계적인 관리를 가능하게 합니다.', '# 음악 트랙 정보 테이블 (Track)\\\\n\\\\n이 테이블은 음악 트랙에 관한 상세 정보를 저장하고 있습니다. 각 트랙에 대한 기본 식별자부터 음악적 특성, 기술적 세부사항 및 가격 정보까지 포함하고 있습니다.\\\\n\\\\n## 포함 데이터\\\\n- 트랙 식별자(TrackId): 각 트랙의 고유 식별자\\\\n- 트랙 이름(Name): 음악 트랙의 제목\\\\n- 앨범 연결 정보(AlbumId): 트랙이 속한 앨범과의 연결 정보\\\\n- 미디어 타입 정보(MediaTypeId): 트랙의 미디어 형식 정보\\\\n- 장르 정보(GenreId): 트랙의 음악 장르 분류\\\\n- 작곡가 정보(Composer): 트랙의 작곡가 이름\\\\n- 재생 시간(Milliseconds): 트랙의 재생 시간(밀리초 단위)\\\\n- 파일 크기(Bytes): 트랙 파일의 용량(바이트 단위)\\\\n- 단가(UnitPrice): 트랙의 판매 가격\\\\n\\\\n## 활용 사례\\\\n1. **음악 카탈로그 관리**\\\\n   - 특정 장르(예: 록)에 속하는 모든 트랙 조회\\\\n   - 앨범별 수록곡 목록 및 개수 파악\\\\n   - 작곡가별 작품 목록 생성\\\\n\\\\n2. **콘텐츠 분석**\\\\n   - 전체 음악 라이브러리의 총 재생 시간 계산\\\\n   - 특정 길이(예: 5분) 이상의 트랙 식별\\\\n   - 장르별 평균 트랙 길이 비교 분석\\\\n\\\\n3. **판매 및 가격 관리**\\\\n   - 트랙별 가격 정책 수립 및 관리\\\\n   - 파일 크기와 가격 간의 관계 분석\\\\n   - 장르별 가격 전략 수립\\\\n\\\\n4. **기술적 활용**\\\\n   - 스트리밍 서비스의 저장 공간 및 대역폭 요구사항 예측\\\\n   - 미디어 타입별 파일 크기 분석\\\\n   - 재생 시간에 따른 서버 리소스 계획\\\\n\\\\n5. **플레이리스트 및 콘텐츠 큐레이션**\\\\n   - 특정 길이의 트랙으로 플레이리스트 구성\\\\n   - 특정 작곡가나 장르 기반의 콘텐츠 추천\\\\n   - 앨범 단위의 음악 컬렉션 관리\\\\n\\\\n이 테이블은 음악 스트리밍 서비스, 디지털 음원 판매 플랫폼, 음악 라이브러리 관리 시스템 등에서 핵심적인 데이터 구조로 활용될 수 있습니다.', '# playlist_track 테이블 요약\\\\n\\\\n이 테이블은 플레이리스트와 트랙 간의 연결 관계를 저장하는 중간 테이블입니다.\\\\n\\\\n## 구조\\\\n- **PlaylistId**: 플레이리스트를 식별하는 외래 키\\\\n- **TrackId**: 플레이리스트에 포함된 트랙을 식별하는 외래 키\\\\n\\\\n## 데이터 특성\\\\n이 테이블은 다대다(many-to-many) 관계를 구현하여 각 플레이리스트에 여러 트랙이 포함될 수 있고, 각 트랙이 여러 플레이리스트에 속할 수 있도록 합니다.\\\\n\\\\n## 활용 사례\\\\n1. 특정 플레이리스트에 포함된 모든 트랙 조회\\\\n2. 특정 트랙이 포함된 모든 플레이리스트 확인\\\\n3. 플레이리스트별 트랙 수 분석\\\\n4. 가장 많은 플레이리스트에 포함된 인기 트랙 식별\\\\n5. 플레이리스트 구성 패턴 분석\\\\n6. 사용자 맞춤형 플레이리스트 추천 시스템 구축을 위한 데이터 제공\\\\n7. 플레이리스트 간 유사도 계산', '# Album 테이블 요약\\\\n\\\\nAlbum 테이블은 음악 앨범 정보를 저장하는 테이블로, 각 앨범에 대한 기본 정보를 관리합니다. 이 테이블은 다음과 같은 주요 컬럼으로 구성되어 있습니다:\\\\n\\\\n1. **AlbumId**: 각 앨범을 고유하게 식별하는 기본 키(Primary Key)입니다.\\\\n2. **Title**: 앨범의 제목을 저장합니다.\\\\n3. **ArtistId**: 앨범을 발매한 아티스트를 참조하는 외래 키(Foreign Key)로, Artist 테이블과 연결됩니다.\\\\n\\\\n이 테이블은 다음과 같은 용도로 활용될 수 있습니다:\\\\n\\\\n- 특정 아티스트가 발매한 모든 앨범 목록 조회\\\\n- 앨범 제목으로 음악 검색\\\\n- 앨범별 트랙 수 및 콘텐츠 분석\\\\n- 아티스트별 디스코그래피(음반 목록) 관리\\\\n- 음악 카탈로그 구성 및 관리\\\\n- 앨범 정보 기반 음악 추천 시스템 구축\\\\n- 앨범 판매 및 인기도 분석\\\\n- 음악 라이브러리 구성 및 정리\\\\n\\\\n이 테이블은 Track 테이블과 연결되어 각 앨범에 포함된 개별 트랙 정보를 관리하고, Artist 테이블과 연결되어 앨범 제작자 정보를 제공하는 음악 데이터베이스의 핵심 구성 요소입니다.', '# playlists 테이블\\\\n\\\\n이 테이블은 음악 트랙을 플레이리스트로 구성하는 데이터를 저장합니다.\\\\n\\\\n## 구조\\\\n- **PlaylistId**: 플레이리스트의 고유 식별자로 기본 키(Primary Key)로 사용됩니다.\\\\n- **Name**: 플레이리스트의 이름을 저장합니다.\\\\n\\\\n## 활용 사례\\\\n1. **플레이리스트 관리**: 사용자가 생성한 다양한 플레이리스트를 관리하고 조회할 수 있습니다.\\\\n2. **음악 카테고리화**: 트랙을 특정 테마나 장르별로 그룹화하여 관리할 수 있습니다.\\\\n3. **사용자 경험 분석**: 어떤 유형의 플레이리스트가 많이 생성되는지 분석하여 사용자 선호도를 파악할 수 있습니다.\\\\n4. **콘텐츠 추천**: 사용자의 플레이리스트 패턴을 분석하여 새로운 음악이나 플레이리스트를 추천하는 데 활용할 수 있습니다.\\\\n5. **인기 플레이리스트 식별**: 가장 많이 생성되거나 공유되는 플레이리스트 유형을 파악할 수 있습니다.\\\\n\\\\n이 테이블은 다른 테이블(예: 트랙 정보를 담은 테이블)과 연결되어 플레이리스트에 포함된 실제 트랙 정보를 관리하는 데 사용될 수 있습니다.']\\n\\n #형식: Your response should be a list of comma separated values, eg: `foo, bar, baz` or `foo,bar,baz`\"}]}]\n"
     ]
    },
    {
     "name": "stderr",
     "output_type": "stream",
     "text": [
      "INFO:retry-bedrock-invocation:in retry(), converse_with_bedrock() returned '[0]'\n",
      "INFO:retry-bedrock-invocation:trying converse_with_bedrock() [1/4]\n"
     ]
    },
    {
     "name": "stdout",
     "output_type": "stream",
     "text": [
      "\n",
      "🔹 [NODE] get_relevant_tables\n",
      "================================================================================\n",
      "📌 table_names:\n",
      "[]\n",
      "================================================================================\n",
      "\n",
      "🔹 [NODE] describe_schema\n",
      "================================================================================\n",
      "📌 table_details:\n",
      "[]\n",
      "================================================================================\n",
      "[{'text': '당신은 사용자 질문에 대한 SQL 쿼리를 작성하는 유능한 데이터베이스 엔지니어입니다. 당신의 임무는 주어진 DB 정보를 바탕으로, 사용자 질문에 대한 SQL 쿼리 작성이 가능한지 판단하는 것입니다.'}] [{'role': 'user', 'content': [{'text': \"질문에 대한 SQL 쿼리를 생성하기에 충분한 정보가 제공되었는지 판단합니다. 서두는 건너뛰고, 정보가 충분하면 `Ready`, 정보가 부족하면 `Not Ready`로 응답하세요. 반드시 `Ready`, `Not Ready` 둘 중 하나로 응답하세요. \\n\\n #질문: 2022년 매출 상위 10개 국가는?\\n\\n #샘플 쿼리:\\n [{'input': '매출액 기준 상위 5명의 고객 목록\\\\n\\\\n이 요청은 고객별 총 구매액을 계산하여 가장 많은 금액을 지출한 상위 5명의 고객을 식별하기 위한 것입니다. 회사의 VIP 고객을 파악하거나 충성도 높은 고객을 대상으로 한 마케팅 캠페인을 계획하는 데 활용될 수 있습니다. 또한 매출에 가장 큰 기여를 하는 고객층을 분석하여 비즈니스 전략을 수립하거나, 고객 유지 프로그램을 개발하는 데 중요한 인사이트를 제공합니다. 이러한 데이터는 매출 집중도를 파악하고 특정 고객에 대한 의존도를 평가하는 데도 유용합니다.', 'query': 'SELECT CustomerId, SUM(Total) AS TotalPurchase FROM Invoice GROUP BY CustomerId ORDER BY TotalPurchase DESC LIMIT 5'}]\\n\\n #사용 가능한 테이블:\\n []\"}]}]\n"
     ]
    },
    {
     "name": "stderr",
     "output_type": "stream",
     "text": [
      "INFO:retry-bedrock-invocation:in retry(), converse_with_bedrock() returned 'Not Ready'\n",
      "INFO:retry-bedrock-invocation:trying converse_with_bedrock() [1/4]\n"
     ]
    },
    {
     "name": "stdout",
     "output_type": "stream",
     "text": [
      "\n",
      "🔹 [NODE] check_readiness\n",
      "================================================================================\n",
      "📌 readiness:\n",
      "'Not Ready'\n",
      "================================================================================\n",
      "[{'text': '당신은 사용자 요청에 맞는 SQL 쿼리를 작성하는 유능한 데이터베이스 엔지니어입니다. 당신의 임무는 SQL 쿼리 작성에 필요한 테이블을 선택하는 것입니다.'}] [{'role': 'user', 'content': [{'text': \"사용자 요청에 맞는 SQL 쿼리를 생성하기 위해 필요한 테이블을 선택하여, 이를 중요도 순서로 정렬한 후 인덱스 번호(0부터 시작)로 응답하세요. 사용자 요청에 관련된 테이블이 없으면 빈 목록()으로 응답하세요.\\n\\n #질문: 2022년 매출 상위 10개 국가는?\\n\\n #테이블 정보:\\n ['# Invoice 테이블 요약\\\\n\\\\nInvoice 테이블은 거래 기록에 대한 상세 정보를 저장하며 고객과 연결되어 있습니다. 이 테이블은 다음과 같은 정보를 포함합니다:\\\\n\\\\n- 인보이스 식별자(InvoiceId): 각 인보이스의 고유 식별자로 기본 키 역할을 합니다.\\\\n- 고객 식별자(CustomerId): 인보이스와 연관된 고객을 참조하는 외래 키입니다.\\\\n- 인보이스 날짜(InvoiceDate): 인보이스가 발행된 날짜입니다.\\\\n- 청구 정보: 청구 주소(BillingAddress), 도시(BillingCity), 주/도(BillingState), 국가(BillingCountry), 우편번호(BillingPostalCode)를 포함합니다.\\\\n- 총액(Total): 인보이스의 총 금액입니다.\\\\n\\\\n## 활용 사례:\\\\n\\\\n1. **매출 분석**: 기간별, 지역별, 고객별 매출 추이를 분석하여 비즈니스 성과를 평가할 수 있습니다.\\\\n\\\\n2. **고객 행동 분석**: 고객별 구매 패턴, 구매 빈도, 평균 구매 금액 등을 파악하여 고객 세그먼트를 구분할 수 있습니다.\\\\n\\\\n3. **지역별 판매 분석**: 청구 주소 정보를 활용하여 지역별 매출 분포를 파악하고 지역 타겟팅 전략을 수립할 수 있습니다.\\\\n\\\\n4. **VIP 고객 식별**: 총 구매액을 기준으로 상위 고객을 식별하여 충성도 프로그램이나 맞춤형 마케팅을 계획할 수 있습니다.\\\\n\\\\n5. **재무 보고 및 회계**: 특정 기간 동안의 총 매출, 평균 거래 금액 등을 계산하여 재무 보고서를 작성할 수 있습니다.\\\\n\\\\n6. **계절적 트렌드 분석**: 인보이스 날짜를 기반으로 계절별 매출 패턴을 분석할 수 있습니다.\\\\n\\\\n7. **국가별/지역별 시장 침투율 분석**: 청구 국가 및 지역 정보를 활용하여 시장 점유율을 평가할 수 있습니다.', '# invoice_items 테이블 요약\\\\n\\\\n이 테이블은 청구서(invoice)의 각 라인 항목에 대한 세부 정보를 저장하고 있습니다. 각 레코드는 특정 청구서에 포함된 개별 트랙(음원)의 판매 정보를 나타냅니다.\\\\n\\\\n## 주요 컬럼 정보:\\\\n- **InvoiceLineId**: 청구서 라인의 고유 식별자로 기본 키 역할을 합니다.\\\\n- **InvoiceId**: 연관된 청구서를 참조하는 외래 키입니다.\\\\n- **TrackId**: 이 청구서 라인에서 판매된 트랙을 참조하는 외래 키입니다.\\\\n- **UnitPrice**: 트랙의 단위당 가격입니다.\\\\n- **Quantity**: 이 청구서 라인에서 판매된 트랙의 수량입니다.\\\\n\\\\n## 잠재적 활용 사례:\\\\n1. **매출 분석**: 트랙별, 청구서별 매출 계산 및 분석\\\\n2. **인기 트랙 파악**: 가장 많이 판매된 트랙 식별\\\\n3. **가격 분석**: 트랙별 가격 변동 추적\\\\n4. **구매 패턴 분석**: 고객이 함께 구매하는 트랙 패턴 파악\\\\n5. **재고 관리**: 디지털 콘텐츠의 판매량 추적\\\\n6. **청구서 세부 정보 조회**: 특정 청구서에 포함된 모든 항목 확인\\\\n7. **수익성 분석**: 트랙별 판매 수량과 가격을 기반으로 수익성 평가\\\\n\\\\n이 테이블은 음악 판매 플랫폼의 거래 세부 정보를 추적하는 데 필수적인 데이터를 제공합니다.', '# Employee 테이블 요약\\\\n\\\\nEmployee 테이블은 직원의 상세 정보와 조직 내 감독 체계를 저장하는 테이블입니다. 이 테이블은 다음과 같은 정보를 포함합니다:\\\\n\\\\n- 직원 식별 정보: EmployeeId(고유 식별자), LastName(성), FirstName(이름)\\\\n- 직무 정보: Title(직책)\\\\n- 조직 구조 정보: ReportsTo(상사 참조 외래키)\\\\n- 개인 정보: BirthDate(생년월일), HireDate(입사일)\\\\n- 연락처 정보: Address(주소), City(도시), State(주/도), Country(국가), PostalCode(우편번호), Phone(전화번호), Fax(팩스번호), Email(이메일)\\\\n\\\\n이 테이블의 잠재적 활용 사례는 다음과 같습니다:\\\\n\\\\n1. 인사 관리: 직원 정보 조회, 직원 수 파악, 인력 현황 분석\\\\n2. 조직 구조 분석: 보고 체계 및 조직도 생성, 관리 스팬 분석\\\\n3. 인력 계획: 직원 분포 분석, 지역별/부서별 인력 배치 현황 파악\\\\n4. 직원 연락처 관리: 비상 연락망 구축, 커뮤니케이션 채널 관리\\\\n5. 인구통계학적 분석: 직원 연령 분포, 근속 기간 분석\\\\n6. 지리적 분석: 직원의 지역별 분포 파악\\\\n7. 조직 내 보고 체계 시각화: 상사-부하 관계 매핑\\\\n8. 인사 기록 관리: 입사일 기반 근속 기간 계산, 기념일 관리\\\\n\\\\n이 테이블은 회사의 인사 관리 시스템의 핵심 구성 요소로, 직원 정보 관리와 조직 구조 파악에 필수적인 데이터를 제공합니다.', '# Customer 테이블 요약\\\\n\\\\nCustomer 테이블은 고객의 상세 정보와 담당 지원 담당자에 대한 연결 정보를 포함하고 있습니다. 이 테이블은 다음과 같은 정보를 저장합니다:\\\\n\\\\n- 고객 식별 정보: CustomerId(고유 식별자), FirstName(이름), LastName(성)\\\\n- 연락처 정보: Email, Phone, Fax\\\\n- 주소 정보: Address, City, State, Country, PostalCode\\\\n- 소속 정보: Company(고객의 회사)\\\\n- 지원 정보: SupportRepId(고객을 담당하는 직원 ID)\\\\n\\\\n이 테이블은 다음과 같은 용도로 활용될 수 있습니다:\\\\n\\\\n1. 고객 세그먼테이션 및 타겟 마케팅: 지역별, 국가별 고객 분류를 통한 맞춤형 마케팅 전략 수립\\\\n2. 고객 관계 관리: 고객별 담당 지원 담당자 파악 및 고객 서비스 품질 관리\\\\n3. 지역별 고객 분포 분석: 특정 지역이나 국가의 고객 수 파악 및 시장 확장 전략 수립\\\\n4. 고객 연락 캠페인: 이메일이나 전화를 통한 고객 접촉 시 필요한 연락처 정보 활용\\\\n5. 고객 프로필링: 회사 정보와 위치 정보를 활용한 고객 특성 분석\\\\n6. 매출 분석: 다른 테이블(예: Invoice)과 연계하여 고객별 매출 기여도 분석\\\\n7. 고객 서비스 최적화: 담당 지원 직원과 고객 간의 관계 분석 및 서비스 개선\\\\n\\\\n이 테이블은 고객 관리 시스템의 핵심 구성 요소로, 고객 정보의 중앙 저장소 역할을 하며 다양한 비즈니스 분석 및 의사결정에 필요한 기본 데이터를 제공합니다.', '# MediaType 테이블 요약\\\\n\\\\n이 테이블은 음악 트랙의 미디어 유형을 정의하는 데이터를 저장합니다.\\\\n\\\\n## 구조\\\\n- **MediaTypeId**: 미디어 유형의 고유 식별자로 기본 키로 사용됩니다.\\\\n- **Name**: 미디어 유형의 이름을 저장합니다.\\\\n\\\\n## 데이터 특성\\\\n이 테이블은 음악이나 오디오 트랙이 어떤 형태의 미디어로 제공되는지에 대한 정보를 담고 있습니다. 예를 들어 MP3, AAC, WAV, FLAC 등과 같은 디지털 오디오 형식이나 CD, DVD와 같은 물리적 미디어 형식이 포함될 수 있습니다.\\\\n\\\\n## 활용 사례\\\\n- 미디어 유형별 트랙 분류 및 필터링\\\\n- 특정 미디어 형식의 인기도 분석\\\\n- 미디어 형식별 판매 통계 생성\\\\n- 스트리밍 서비스와 다운로드 가능한 형식 간의 비교 분석\\\\n- 미디어 형식 변화 추세 파악\\\\n- 디지털 음원 관리 시스템에서 지원 형식 관리\\\\n\\\\n이 테이블은 음악 또는 미디어 관리 시스템에서 트랙의 기술적 특성을 분류하는 데 중요한 역할을 합니다.', '# Genre 테이블 요약\\\\n\\\\nGenre 테이블은 음악 장르를 카탈로그화하는 테이블로, 각 장르에 대한 고유 식별자와 이름을 저장합니다.\\\\n\\\\n## 구조\\\\n- **GenreId**: 장르의 고유 식별자로 기본 키(Primary Key) 역할을 합니다.\\\\n- **Name**: 장르의 이름을 저장합니다 (예: Rock, Jazz, Classical 등).\\\\n\\\\n## 활용 사례\\\\n- 특정 장르에 속하는 음악 트랙 필터링 및 검색\\\\n- 음악 카탈로그 시스템에서 장르별 분류 및 정리\\\\n- 장르별 음악 통계 분석 수행\\\\n- 사용자 맞춤형 음악 추천 시스템 구축\\\\n- 장르별 플레이리스트 생성\\\\n- 음악 스트리밍 서비스의 장르 기반 탐색 기능 지원\\\\n- 음악 판매 분석에서 장르별 인기도 측정\\\\n- 음악 트렌드 분석을 위한 기초 데이터 제공\\\\n\\\\n이 테이블은 음악 데이터베이스 시스템에서 장르 분류의 기본 구조를 제공하며, 다른 테이블(예: Track)과 연결되어 음악 카탈로그의 체계적인 관리를 가능하게 합니다.', '# 음악 트랙 정보 테이블 (Track)\\\\n\\\\n이 테이블은 음악 트랙에 관한 상세 정보를 저장하고 있습니다. 각 트랙에 대한 기본 식별자부터 음악적 특성, 기술적 세부사항 및 가격 정보까지 포함하고 있습니다.\\\\n\\\\n## 포함 데이터\\\\n- 트랙 식별자(TrackId): 각 트랙의 고유 식별자\\\\n- 트랙 이름(Name): 음악 트랙의 제목\\\\n- 앨범 연결 정보(AlbumId): 트랙이 속한 앨범과의 연결 정보\\\\n- 미디어 타입 정보(MediaTypeId): 트랙의 미디어 형식 정보\\\\n- 장르 정보(GenreId): 트랙의 음악 장르 분류\\\\n- 작곡가 정보(Composer): 트랙의 작곡가 이름\\\\n- 재생 시간(Milliseconds): 트랙의 재생 시간(밀리초 단위)\\\\n- 파일 크기(Bytes): 트랙 파일의 용량(바이트 단위)\\\\n- 단가(UnitPrice): 트랙의 판매 가격\\\\n\\\\n## 활용 사례\\\\n1. **음악 카탈로그 관리**\\\\n   - 특정 장르(예: 록)에 속하는 모든 트랙 조회\\\\n   - 앨범별 수록곡 목록 및 개수 파악\\\\n   - 작곡가별 작품 목록 생성\\\\n\\\\n2. **콘텐츠 분석**\\\\n   - 전체 음악 라이브러리의 총 재생 시간 계산\\\\n   - 특정 길이(예: 5분) 이상의 트랙 식별\\\\n   - 장르별 평균 트랙 길이 비교 분석\\\\n\\\\n3. **판매 및 가격 관리**\\\\n   - 트랙별 가격 정책 수립 및 관리\\\\n   - 파일 크기와 가격 간의 관계 분석\\\\n   - 장르별 가격 전략 수립\\\\n\\\\n4. **기술적 활용**\\\\n   - 스트리밍 서비스의 저장 공간 및 대역폭 요구사항 예측\\\\n   - 미디어 타입별 파일 크기 분석\\\\n   - 재생 시간에 따른 서버 리소스 계획\\\\n\\\\n5. **플레이리스트 및 콘텐츠 큐레이션**\\\\n   - 특정 길이의 트랙으로 플레이리스트 구성\\\\n   - 특정 작곡가나 장르 기반의 콘텐츠 추천\\\\n   - 앨범 단위의 음악 컬렉션 관리\\\\n\\\\n이 테이블은 음악 스트리밍 서비스, 디지털 음원 판매 플랫폼, 음악 라이브러리 관리 시스템 등에서 핵심적인 데이터 구조로 활용될 수 있습니다.', '# playlist_track 테이블 요약\\\\n\\\\n이 테이블은 플레이리스트와 트랙 간의 연결 관계를 저장하는 중간 테이블입니다.\\\\n\\\\n## 구조\\\\n- **PlaylistId**: 플레이리스트를 식별하는 외래 키\\\\n- **TrackId**: 플레이리스트에 포함된 트랙을 식별하는 외래 키\\\\n\\\\n## 데이터 특성\\\\n이 테이블은 다대다(many-to-many) 관계를 구현하여 각 플레이리스트에 여러 트랙이 포함될 수 있고, 각 트랙이 여러 플레이리스트에 속할 수 있도록 합니다.\\\\n\\\\n## 활용 사례\\\\n1. 특정 플레이리스트에 포함된 모든 트랙 조회\\\\n2. 특정 트랙이 포함된 모든 플레이리스트 확인\\\\n3. 플레이리스트별 트랙 수 분석\\\\n4. 가장 많은 플레이리스트에 포함된 인기 트랙 식별\\\\n5. 플레이리스트 구성 패턴 분석\\\\n6. 사용자 맞춤형 플레이리스트 추천 시스템 구축을 위한 데이터 제공\\\\n7. 플레이리스트 간 유사도 계산', '# Album 테이블 요약\\\\n\\\\nAlbum 테이블은 음악 앨범 정보를 저장하는 테이블로, 각 앨범에 대한 기본 정보를 관리합니다. 이 테이블은 다음과 같은 주요 컬럼으로 구성되어 있습니다:\\\\n\\\\n1. **AlbumId**: 각 앨범을 고유하게 식별하는 기본 키(Primary Key)입니다.\\\\n2. **Title**: 앨범의 제목을 저장합니다.\\\\n3. **ArtistId**: 앨범을 발매한 아티스트를 참조하는 외래 키(Foreign Key)로, Artist 테이블과 연결됩니다.\\\\n\\\\n이 테이블은 다음과 같은 용도로 활용될 수 있습니다:\\\\n\\\\n- 특정 아티스트가 발매한 모든 앨범 목록 조회\\\\n- 앨범 제목으로 음악 검색\\\\n- 앨범별 트랙 수 및 콘텐츠 분석\\\\n- 아티스트별 디스코그래피(음반 목록) 관리\\\\n- 음악 카탈로그 구성 및 관리\\\\n- 앨범 정보 기반 음악 추천 시스템 구축\\\\n- 앨범 판매 및 인기도 분석\\\\n- 음악 라이브러리 구성 및 정리\\\\n\\\\n이 테이블은 Track 테이블과 연결되어 각 앨범에 포함된 개별 트랙 정보를 관리하고, Artist 테이블과 연결되어 앨범 제작자 정보를 제공하는 음악 데이터베이스의 핵심 구성 요소입니다.', '# playlists 테이블\\\\n\\\\n이 테이블은 음악 트랙을 플레이리스트로 구성하는 데이터를 저장합니다.\\\\n\\\\n## 구조\\\\n- **PlaylistId**: 플레이리스트의 고유 식별자로 기본 키(Primary Key)로 사용됩니다.\\\\n- **Name**: 플레이리스트의 이름을 저장합니다.\\\\n\\\\n## 활용 사례\\\\n1. **플레이리스트 관리**: 사용자가 생성한 다양한 플레이리스트를 관리하고 조회할 수 있습니다.\\\\n2. **음악 카테고리화**: 트랙을 특정 테마나 장르별로 그룹화하여 관리할 수 있습니다.\\\\n3. **사용자 경험 분석**: 어떤 유형의 플레이리스트가 많이 생성되는지 분석하여 사용자 선호도를 파악할 수 있습니다.\\\\n4. **콘텐츠 추천**: 사용자의 플레이리스트 패턴을 분석하여 새로운 음악이나 플레이리스트를 추천하는 데 활용할 수 있습니다.\\\\n5. **인기 플레이리스트 식별**: 가장 많이 생성되거나 공유되는 플레이리스트 유형을 파악할 수 있습니다.\\\\n\\\\n이 테이블은 다른 테이블(예: 트랙 정보를 담은 테이블)과 연결되어 플레이리스트에 포함된 실제 트랙 정보를 관리하는 데 사용될 수 있습니다.']\\n\\n #형식: Your response should be a list of comma separated values, eg: `foo, bar, baz` or `foo,bar,baz`\"}]}]\n"
     ]
    },
    {
     "name": "stderr",
     "output_type": "stream",
     "text": [
      "INFO:retry-bedrock-invocation:in retry(), converse_with_bedrock() returned '[0]'\n",
      "INFO:retry-bedrock-invocation:trying converse_with_bedrock() [1/4]\n"
     ]
    },
    {
     "name": "stdout",
     "output_type": "stream",
     "text": [
      "\n",
      "🔹 [NODE] get_relevant_tables\n",
      "================================================================================\n",
      "📌 table_names:\n",
      "[]\n",
      "================================================================================\n",
      "\n",
      "🔹 [NODE] describe_schema\n",
      "================================================================================\n",
      "📌 table_details:\n",
      "[]\n",
      "================================================================================\n",
      "[{'text': '당신은 사용자 질문에 대한 SQL 쿼리를 작성하는 유능한 데이터베이스 엔지니어입니다. 당신의 임무는 주어진 DB 정보를 바탕으로, 사용자 질문에 대한 SQL 쿼리 작성이 가능한지 판단하는 것입니다.'}] [{'role': 'user', 'content': [{'text': \"질문에 대한 SQL 쿼리를 생성하기에 충분한 정보가 제공되었는지 판단합니다. 서두는 건너뛰고, 정보가 충분하면 `Ready`, 정보가 부족하면 `Not Ready`로 응답하세요. 반드시 `Ready`, `Not Ready` 둘 중 하나로 응답하세요. \\n\\n #질문: 2022년 매출 상위 10개 국가는?\\n\\n #샘플 쿼리:\\n [{'input': '매출액 기준 상위 5명의 고객 목록\\\\n\\\\n이 요청은 고객별 총 구매액을 계산하여 가장 많은 금액을 지출한 상위 5명의 고객을 식별하기 위한 것입니다. 회사의 VIP 고객을 파악하거나 충성도 높은 고객을 대상으로 한 마케팅 캠페인을 계획하는 데 활용될 수 있습니다. 또한 매출에 가장 큰 기여를 하는 고객층을 분석하여 비즈니스 전략을 수립하거나, 고객 유지 프로그램을 개발하는 데 중요한 인사이트를 제공합니다. 이러한 데이터는 매출 집중도를 파악하고 특정 고객에 대한 의존도를 평가하는 데도 유용합니다.', 'query': 'SELECT CustomerId, SUM(Total) AS TotalPurchase FROM Invoice GROUP BY CustomerId ORDER BY TotalPurchase DESC LIMIT 5'}]\\n\\n #사용 가능한 테이블:\\n []\"}]}]\n"
     ]
    },
    {
     "name": "stderr",
     "output_type": "stream",
     "text": [
      "INFO:retry-bedrock-invocation:in retry(), converse_with_bedrock() returned 'Not Ready'\n",
      "INFO:retry-bedrock-invocation:trying converse_with_bedrock() [1/4]\n"
     ]
    },
    {
     "name": "stdout",
     "output_type": "stream",
     "text": [
      "\n",
      "🔹 [NODE] check_readiness\n",
      "================================================================================\n",
      "📌 readiness:\n",
      "'Not Ready'\n",
      "================================================================================\n",
      "[{'text': '당신은 사용자 요청에 맞는 SQL 쿼리를 작성하는 유능한 데이터베이스 엔지니어입니다. 당신의 임무는 SQL 쿼리 작성에 필요한 테이블을 선택하는 것입니다.'}] [{'role': 'user', 'content': [{'text': \"사용자 요청에 맞는 SQL 쿼리를 생성하기 위해 필요한 테이블을 선택하여, 이를 중요도 순서로 정렬한 후 인덱스 번호(0부터 시작)로 응답하세요. 사용자 요청에 관련된 테이블이 없으면 빈 목록()으로 응답하세요.\\n\\n #질문: 2022년 매출 상위 10개 국가는?\\n\\n #테이블 정보:\\n ['# Invoice 테이블 요약\\\\n\\\\nInvoice 테이블은 거래 기록에 대한 상세 정보를 저장하며 고객과 연결되어 있습니다. 이 테이블은 다음과 같은 정보를 포함합니다:\\\\n\\\\n- 인보이스 식별자(InvoiceId): 각 인보이스의 고유 식별자로 기본 키 역할을 합니다.\\\\n- 고객 식별자(CustomerId): 인보이스와 연관된 고객을 참조하는 외래 키입니다.\\\\n- 인보이스 날짜(InvoiceDate): 인보이스가 발행된 날짜입니다.\\\\n- 청구 정보: 청구 주소(BillingAddress), 도시(BillingCity), 주/도(BillingState), 국가(BillingCountry), 우편번호(BillingPostalCode)를 포함합니다.\\\\n- 총액(Total): 인보이스의 총 금액입니다.\\\\n\\\\n## 활용 사례:\\\\n\\\\n1. **매출 분석**: 기간별, 지역별, 고객별 매출 추이를 분석하여 비즈니스 성과를 평가할 수 있습니다.\\\\n\\\\n2. **고객 행동 분석**: 고객별 구매 패턴, 구매 빈도, 평균 구매 금액 등을 파악하여 고객 세그먼트를 구분할 수 있습니다.\\\\n\\\\n3. **지역별 판매 분석**: 청구 주소 정보를 활용하여 지역별 매출 분포를 파악하고 지역 타겟팅 전략을 수립할 수 있습니다.\\\\n\\\\n4. **VIP 고객 식별**: 총 구매액을 기준으로 상위 고객을 식별하여 충성도 프로그램이나 맞춤형 마케팅을 계획할 수 있습니다.\\\\n\\\\n5. **재무 보고 및 회계**: 특정 기간 동안의 총 매출, 평균 거래 금액 등을 계산하여 재무 보고서를 작성할 수 있습니다.\\\\n\\\\n6. **계절적 트렌드 분석**: 인보이스 날짜를 기반으로 계절별 매출 패턴을 분석할 수 있습니다.\\\\n\\\\n7. **국가별/지역별 시장 침투율 분석**: 청구 국가 및 지역 정보를 활용하여 시장 점유율을 평가할 수 있습니다.', '# invoice_items 테이블 요약\\\\n\\\\n이 테이블은 청구서(invoice)의 각 라인 항목에 대한 세부 정보를 저장하고 있습니다. 각 레코드는 특정 청구서에 포함된 개별 트랙(음원)의 판매 정보를 나타냅니다.\\\\n\\\\n## 주요 컬럼 정보:\\\\n- **InvoiceLineId**: 청구서 라인의 고유 식별자로 기본 키 역할을 합니다.\\\\n- **InvoiceId**: 연관된 청구서를 참조하는 외래 키입니다.\\\\n- **TrackId**: 이 청구서 라인에서 판매된 트랙을 참조하는 외래 키입니다.\\\\n- **UnitPrice**: 트랙의 단위당 가격입니다.\\\\n- **Quantity**: 이 청구서 라인에서 판매된 트랙의 수량입니다.\\\\n\\\\n## 잠재적 활용 사례:\\\\n1. **매출 분석**: 트랙별, 청구서별 매출 계산 및 분석\\\\n2. **인기 트랙 파악**: 가장 많이 판매된 트랙 식별\\\\n3. **가격 분석**: 트랙별 가격 변동 추적\\\\n4. **구매 패턴 분석**: 고객이 함께 구매하는 트랙 패턴 파악\\\\n5. **재고 관리**: 디지털 콘텐츠의 판매량 추적\\\\n6. **청구서 세부 정보 조회**: 특정 청구서에 포함된 모든 항목 확인\\\\n7. **수익성 분석**: 트랙별 판매 수량과 가격을 기반으로 수익성 평가\\\\n\\\\n이 테이블은 음악 판매 플랫폼의 거래 세부 정보를 추적하는 데 필수적인 데이터를 제공합니다.', '# Employee 테이블 요약\\\\n\\\\nEmployee 테이블은 직원의 상세 정보와 조직 내 감독 체계를 저장하는 테이블입니다. 이 테이블은 다음과 같은 정보를 포함합니다:\\\\n\\\\n- 직원 식별 정보: EmployeeId(고유 식별자), LastName(성), FirstName(이름)\\\\n- 직무 정보: Title(직책)\\\\n- 조직 구조 정보: ReportsTo(상사 참조 외래키)\\\\n- 개인 정보: BirthDate(생년월일), HireDate(입사일)\\\\n- 연락처 정보: Address(주소), City(도시), State(주/도), Country(국가), PostalCode(우편번호), Phone(전화번호), Fax(팩스번호), Email(이메일)\\\\n\\\\n이 테이블의 잠재적 활용 사례는 다음과 같습니다:\\\\n\\\\n1. 인사 관리: 직원 정보 조회, 직원 수 파악, 인력 현황 분석\\\\n2. 조직 구조 분석: 보고 체계 및 조직도 생성, 관리 스팬 분석\\\\n3. 인력 계획: 직원 분포 분석, 지역별/부서별 인력 배치 현황 파악\\\\n4. 직원 연락처 관리: 비상 연락망 구축, 커뮤니케이션 채널 관리\\\\n5. 인구통계학적 분석: 직원 연령 분포, 근속 기간 분석\\\\n6. 지리적 분석: 직원의 지역별 분포 파악\\\\n7. 조직 내 보고 체계 시각화: 상사-부하 관계 매핑\\\\n8. 인사 기록 관리: 입사일 기반 근속 기간 계산, 기념일 관리\\\\n\\\\n이 테이블은 회사의 인사 관리 시스템의 핵심 구성 요소로, 직원 정보 관리와 조직 구조 파악에 필수적인 데이터를 제공합니다.', '# Customer 테이블 요약\\\\n\\\\nCustomer 테이블은 고객의 상세 정보와 담당 지원 담당자에 대한 연결 정보를 포함하고 있습니다. 이 테이블은 다음과 같은 정보를 저장합니다:\\\\n\\\\n- 고객 식별 정보: CustomerId(고유 식별자), FirstName(이름), LastName(성)\\\\n- 연락처 정보: Email, Phone, Fax\\\\n- 주소 정보: Address, City, State, Country, PostalCode\\\\n- 소속 정보: Company(고객의 회사)\\\\n- 지원 정보: SupportRepId(고객을 담당하는 직원 ID)\\\\n\\\\n이 테이블은 다음과 같은 용도로 활용될 수 있습니다:\\\\n\\\\n1. 고객 세그먼테이션 및 타겟 마케팅: 지역별, 국가별 고객 분류를 통한 맞춤형 마케팅 전략 수립\\\\n2. 고객 관계 관리: 고객별 담당 지원 담당자 파악 및 고객 서비스 품질 관리\\\\n3. 지역별 고객 분포 분석: 특정 지역이나 국가의 고객 수 파악 및 시장 확장 전략 수립\\\\n4. 고객 연락 캠페인: 이메일이나 전화를 통한 고객 접촉 시 필요한 연락처 정보 활용\\\\n5. 고객 프로필링: 회사 정보와 위치 정보를 활용한 고객 특성 분석\\\\n6. 매출 분석: 다른 테이블(예: Invoice)과 연계하여 고객별 매출 기여도 분석\\\\n7. 고객 서비스 최적화: 담당 지원 직원과 고객 간의 관계 분석 및 서비스 개선\\\\n\\\\n이 테이블은 고객 관리 시스템의 핵심 구성 요소로, 고객 정보의 중앙 저장소 역할을 하며 다양한 비즈니스 분석 및 의사결정에 필요한 기본 데이터를 제공합니다.', '# MediaType 테이블 요약\\\\n\\\\n이 테이블은 음악 트랙의 미디어 유형을 정의하는 데이터를 저장합니다.\\\\n\\\\n## 구조\\\\n- **MediaTypeId**: 미디어 유형의 고유 식별자로 기본 키로 사용됩니다.\\\\n- **Name**: 미디어 유형의 이름을 저장합니다.\\\\n\\\\n## 데이터 특성\\\\n이 테이블은 음악이나 오디오 트랙이 어떤 형태의 미디어로 제공되는지에 대한 정보를 담고 있습니다. 예를 들어 MP3, AAC, WAV, FLAC 등과 같은 디지털 오디오 형식이나 CD, DVD와 같은 물리적 미디어 형식이 포함될 수 있습니다.\\\\n\\\\n## 활용 사례\\\\n- 미디어 유형별 트랙 분류 및 필터링\\\\n- 특정 미디어 형식의 인기도 분석\\\\n- 미디어 형식별 판매 통계 생성\\\\n- 스트리밍 서비스와 다운로드 가능한 형식 간의 비교 분석\\\\n- 미디어 형식 변화 추세 파악\\\\n- 디지털 음원 관리 시스템에서 지원 형식 관리\\\\n\\\\n이 테이블은 음악 또는 미디어 관리 시스템에서 트랙의 기술적 특성을 분류하는 데 중요한 역할을 합니다.', '# Genre 테이블 요약\\\\n\\\\nGenre 테이블은 음악 장르를 카탈로그화하는 테이블로, 각 장르에 대한 고유 식별자와 이름을 저장합니다.\\\\n\\\\n## 구조\\\\n- **GenreId**: 장르의 고유 식별자로 기본 키(Primary Key) 역할을 합니다.\\\\n- **Name**: 장르의 이름을 저장합니다 (예: Rock, Jazz, Classical 등).\\\\n\\\\n## 활용 사례\\\\n- 특정 장르에 속하는 음악 트랙 필터링 및 검색\\\\n- 음악 카탈로그 시스템에서 장르별 분류 및 정리\\\\n- 장르별 음악 통계 분석 수행\\\\n- 사용자 맞춤형 음악 추천 시스템 구축\\\\n- 장르별 플레이리스트 생성\\\\n- 음악 스트리밍 서비스의 장르 기반 탐색 기능 지원\\\\n- 음악 판매 분석에서 장르별 인기도 측정\\\\n- 음악 트렌드 분석을 위한 기초 데이터 제공\\\\n\\\\n이 테이블은 음악 데이터베이스 시스템에서 장르 분류의 기본 구조를 제공하며, 다른 테이블(예: Track)과 연결되어 음악 카탈로그의 체계적인 관리를 가능하게 합니다.', '# 음악 트랙 정보 테이블 (Track)\\\\n\\\\n이 테이블은 음악 트랙에 관한 상세 정보를 저장하고 있습니다. 각 트랙에 대한 기본 식별자부터 음악적 특성, 기술적 세부사항 및 가격 정보까지 포함하고 있습니다.\\\\n\\\\n## 포함 데이터\\\\n- 트랙 식별자(TrackId): 각 트랙의 고유 식별자\\\\n- 트랙 이름(Name): 음악 트랙의 제목\\\\n- 앨범 연결 정보(AlbumId): 트랙이 속한 앨범과의 연결 정보\\\\n- 미디어 타입 정보(MediaTypeId): 트랙의 미디어 형식 정보\\\\n- 장르 정보(GenreId): 트랙의 음악 장르 분류\\\\n- 작곡가 정보(Composer): 트랙의 작곡가 이름\\\\n- 재생 시간(Milliseconds): 트랙의 재생 시간(밀리초 단위)\\\\n- 파일 크기(Bytes): 트랙 파일의 용량(바이트 단위)\\\\n- 단가(UnitPrice): 트랙의 판매 가격\\\\n\\\\n## 활용 사례\\\\n1. **음악 카탈로그 관리**\\\\n   - 특정 장르(예: 록)에 속하는 모든 트랙 조회\\\\n   - 앨범별 수록곡 목록 및 개수 파악\\\\n   - 작곡가별 작품 목록 생성\\\\n\\\\n2. **콘텐츠 분석**\\\\n   - 전체 음악 라이브러리의 총 재생 시간 계산\\\\n   - 특정 길이(예: 5분) 이상의 트랙 식별\\\\n   - 장르별 평균 트랙 길이 비교 분석\\\\n\\\\n3. **판매 및 가격 관리**\\\\n   - 트랙별 가격 정책 수립 및 관리\\\\n   - 파일 크기와 가격 간의 관계 분석\\\\n   - 장르별 가격 전략 수립\\\\n\\\\n4. **기술적 활용**\\\\n   - 스트리밍 서비스의 저장 공간 및 대역폭 요구사항 예측\\\\n   - 미디어 타입별 파일 크기 분석\\\\n   - 재생 시간에 따른 서버 리소스 계획\\\\n\\\\n5. **플레이리스트 및 콘텐츠 큐레이션**\\\\n   - 특정 길이의 트랙으로 플레이리스트 구성\\\\n   - 특정 작곡가나 장르 기반의 콘텐츠 추천\\\\n   - 앨범 단위의 음악 컬렉션 관리\\\\n\\\\n이 테이블은 음악 스트리밍 서비스, 디지털 음원 판매 플랫폼, 음악 라이브러리 관리 시스템 등에서 핵심적인 데이터 구조로 활용될 수 있습니다.', '# playlist_track 테이블 요약\\\\n\\\\n이 테이블은 플레이리스트와 트랙 간의 연결 관계를 저장하는 중간 테이블입니다.\\\\n\\\\n## 구조\\\\n- **PlaylistId**: 플레이리스트를 식별하는 외래 키\\\\n- **TrackId**: 플레이리스트에 포함된 트랙을 식별하는 외래 키\\\\n\\\\n## 데이터 특성\\\\n이 테이블은 다대다(many-to-many) 관계를 구현하여 각 플레이리스트에 여러 트랙이 포함될 수 있고, 각 트랙이 여러 플레이리스트에 속할 수 있도록 합니다.\\\\n\\\\n## 활용 사례\\\\n1. 특정 플레이리스트에 포함된 모든 트랙 조회\\\\n2. 특정 트랙이 포함된 모든 플레이리스트 확인\\\\n3. 플레이리스트별 트랙 수 분석\\\\n4. 가장 많은 플레이리스트에 포함된 인기 트랙 식별\\\\n5. 플레이리스트 구성 패턴 분석\\\\n6. 사용자 맞춤형 플레이리스트 추천 시스템 구축을 위한 데이터 제공\\\\n7. 플레이리스트 간 유사도 계산', '# Album 테이블 요약\\\\n\\\\nAlbum 테이블은 음악 앨범 정보를 저장하는 테이블로, 각 앨범에 대한 기본 정보를 관리합니다. 이 테이블은 다음과 같은 주요 컬럼으로 구성되어 있습니다:\\\\n\\\\n1. **AlbumId**: 각 앨범을 고유하게 식별하는 기본 키(Primary Key)입니다.\\\\n2. **Title**: 앨범의 제목을 저장합니다.\\\\n3. **ArtistId**: 앨범을 발매한 아티스트를 참조하는 외래 키(Foreign Key)로, Artist 테이블과 연결됩니다.\\\\n\\\\n이 테이블은 다음과 같은 용도로 활용될 수 있습니다:\\\\n\\\\n- 특정 아티스트가 발매한 모든 앨범 목록 조회\\\\n- 앨범 제목으로 음악 검색\\\\n- 앨범별 트랙 수 및 콘텐츠 분석\\\\n- 아티스트별 디스코그래피(음반 목록) 관리\\\\n- 음악 카탈로그 구성 및 관리\\\\n- 앨범 정보 기반 음악 추천 시스템 구축\\\\n- 앨범 판매 및 인기도 분석\\\\n- 음악 라이브러리 구성 및 정리\\\\n\\\\n이 테이블은 Track 테이블과 연결되어 각 앨범에 포함된 개별 트랙 정보를 관리하고, Artist 테이블과 연결되어 앨범 제작자 정보를 제공하는 음악 데이터베이스의 핵심 구성 요소입니다.', '# playlists 테이블\\\\n\\\\n이 테이블은 음악 트랙을 플레이리스트로 구성하는 데이터를 저장합니다.\\\\n\\\\n## 구조\\\\n- **PlaylistId**: 플레이리스트의 고유 식별자로 기본 키(Primary Key)로 사용됩니다.\\\\n- **Name**: 플레이리스트의 이름을 저장합니다.\\\\n\\\\n## 활용 사례\\\\n1. **플레이리스트 관리**: 사용자가 생성한 다양한 플레이리스트를 관리하고 조회할 수 있습니다.\\\\n2. **음악 카테고리화**: 트랙을 특정 테마나 장르별로 그룹화하여 관리할 수 있습니다.\\\\n3. **사용자 경험 분석**: 어떤 유형의 플레이리스트가 많이 생성되는지 분석하여 사용자 선호도를 파악할 수 있습니다.\\\\n4. **콘텐츠 추천**: 사용자의 플레이리스트 패턴을 분석하여 새로운 음악이나 플레이리스트를 추천하는 데 활용할 수 있습니다.\\\\n5. **인기 플레이리스트 식별**: 가장 많이 생성되거나 공유되는 플레이리스트 유형을 파악할 수 있습니다.\\\\n\\\\n이 테이블은 다른 테이블(예: 트랙 정보를 담은 테이블)과 연결되어 플레이리스트에 포함된 실제 트랙 정보를 관리하는 데 사용될 수 있습니다.']\\n\\n #형식: Your response should be a list of comma separated values, eg: `foo, bar, baz` or `foo,bar,baz`\"}]}]\n"
     ]
    },
    {
     "name": "stderr",
     "output_type": "stream",
     "text": [
      "INFO:retry-bedrock-invocation:in retry(), converse_with_bedrock() returned '[0]'\n",
      "INFO:retry-bedrock-invocation:trying converse_with_bedrock() [1/4]\n"
     ]
    },
    {
     "name": "stdout",
     "output_type": "stream",
     "text": [
      "\n",
      "🔹 [NODE] get_relevant_tables\n",
      "================================================================================\n",
      "📌 table_names:\n",
      "[]\n",
      "================================================================================\n",
      "\n",
      "🔹 [NODE] describe_schema\n",
      "================================================================================\n",
      "📌 table_details:\n",
      "[]\n",
      "================================================================================\n",
      "[{'text': '당신은 사용자 질문에 대한 SQL 쿼리를 작성하는 유능한 데이터베이스 엔지니어입니다. 당신의 임무는 주어진 DB 정보를 바탕으로, 사용자 질문에 대한 SQL 쿼리 작성이 가능한지 판단하는 것입니다.'}] [{'role': 'user', 'content': [{'text': \"질문에 대한 SQL 쿼리를 생성하기에 충분한 정보가 제공되었는지 판단합니다. 서두는 건너뛰고, 정보가 충분하면 `Ready`, 정보가 부족하면 `Not Ready`로 응답하세요. 반드시 `Ready`, `Not Ready` 둘 중 하나로 응답하세요. \\n\\n #질문: 2022년 매출 상위 10개 국가는?\\n\\n #샘플 쿼리:\\n [{'input': '매출액 기준 상위 5명의 고객 목록\\\\n\\\\n이 요청은 고객별 총 구매액을 계산하여 가장 많은 금액을 지출한 상위 5명의 고객을 식별하기 위한 것입니다. 회사의 VIP 고객을 파악하거나 충성도 높은 고객을 대상으로 한 마케팅 캠페인을 계획하는 데 활용될 수 있습니다. 또한 매출에 가장 큰 기여를 하는 고객층을 분석하여 비즈니스 전략을 수립하거나, 고객 유지 프로그램을 개발하는 데 중요한 인사이트를 제공합니다. 이러한 데이터는 매출 집중도를 파악하고 특정 고객에 대한 의존도를 평가하는 데도 유용합니다.', 'query': 'SELECT CustomerId, SUM(Total) AS TotalPurchase FROM Invoice GROUP BY CustomerId ORDER BY TotalPurchase DESC LIMIT 5'}]\\n\\n #사용 가능한 테이블:\\n []\"}]}]\n"
     ]
    },
    {
     "name": "stderr",
     "output_type": "stream",
     "text": [
      "INFO:retry-bedrock-invocation:in retry(), converse_with_bedrock() returned 'Not Ready'\n",
      "INFO:retry-bedrock-invocation:trying converse_with_bedrock() [1/4]\n"
     ]
    },
    {
     "name": "stdout",
     "output_type": "stream",
     "text": [
      "\n",
      "🔹 [NODE] check_readiness\n",
      "================================================================================\n",
      "📌 readiness:\n",
      "'Not Ready'\n",
      "================================================================================\n",
      "[{'text': '당신은 사용자 요청에 맞는 SQL 쿼리를 작성하는 유능한 데이터베이스 엔지니어입니다. 당신의 임무는 SQL 쿼리 작성에 필요한 테이블을 선택하는 것입니다.'}] [{'role': 'user', 'content': [{'text': \"사용자 요청에 맞는 SQL 쿼리를 생성하기 위해 필요한 테이블을 선택하여, 이를 중요도 순서로 정렬한 후 인덱스 번호(0부터 시작)로 응답하세요. 사용자 요청에 관련된 테이블이 없으면 빈 목록()으로 응답하세요.\\n\\n #질문: 2022년 매출 상위 10개 국가는?\\n\\n #테이블 정보:\\n ['# Invoice 테이블 요약\\\\n\\\\nInvoice 테이블은 거래 기록에 대한 상세 정보를 저장하며 고객과 연결되어 있습니다. 이 테이블은 다음과 같은 정보를 포함합니다:\\\\n\\\\n- 인보이스 식별자(InvoiceId): 각 인보이스의 고유 식별자로 기본 키 역할을 합니다.\\\\n- 고객 식별자(CustomerId): 인보이스와 연관된 고객을 참조하는 외래 키입니다.\\\\n- 인보이스 날짜(InvoiceDate): 인보이스가 발행된 날짜입니다.\\\\n- 청구 정보: 청구 주소(BillingAddress), 도시(BillingCity), 주/도(BillingState), 국가(BillingCountry), 우편번호(BillingPostalCode)를 포함합니다.\\\\n- 총액(Total): 인보이스의 총 금액입니다.\\\\n\\\\n## 활용 사례:\\\\n\\\\n1. **매출 분석**: 기간별, 지역별, 고객별 매출 추이를 분석하여 비즈니스 성과를 평가할 수 있습니다.\\\\n\\\\n2. **고객 행동 분석**: 고객별 구매 패턴, 구매 빈도, 평균 구매 금액 등을 파악하여 고객 세그먼트를 구분할 수 있습니다.\\\\n\\\\n3. **지역별 판매 분석**: 청구 주소 정보를 활용하여 지역별 매출 분포를 파악하고 지역 타겟팅 전략을 수립할 수 있습니다.\\\\n\\\\n4. **VIP 고객 식별**: 총 구매액을 기준으로 상위 고객을 식별하여 충성도 프로그램이나 맞춤형 마케팅을 계획할 수 있습니다.\\\\n\\\\n5. **재무 보고 및 회계**: 특정 기간 동안의 총 매출, 평균 거래 금액 등을 계산하여 재무 보고서를 작성할 수 있습니다.\\\\n\\\\n6. **계절적 트렌드 분석**: 인보이스 날짜를 기반으로 계절별 매출 패턴을 분석할 수 있습니다.\\\\n\\\\n7. **국가별/지역별 시장 침투율 분석**: 청구 국가 및 지역 정보를 활용하여 시장 점유율을 평가할 수 있습니다.', '# invoice_items 테이블 요약\\\\n\\\\n이 테이블은 청구서(invoice)의 각 라인 항목에 대한 세부 정보를 저장하고 있습니다. 각 레코드는 특정 청구서에 포함된 개별 트랙(음원)의 판매 정보를 나타냅니다.\\\\n\\\\n## 주요 컬럼 정보:\\\\n- **InvoiceLineId**: 청구서 라인의 고유 식별자로 기본 키 역할을 합니다.\\\\n- **InvoiceId**: 연관된 청구서를 참조하는 외래 키입니다.\\\\n- **TrackId**: 이 청구서 라인에서 판매된 트랙을 참조하는 외래 키입니다.\\\\n- **UnitPrice**: 트랙의 단위당 가격입니다.\\\\n- **Quantity**: 이 청구서 라인에서 판매된 트랙의 수량입니다.\\\\n\\\\n## 잠재적 활용 사례:\\\\n1. **매출 분석**: 트랙별, 청구서별 매출 계산 및 분석\\\\n2. **인기 트랙 파악**: 가장 많이 판매된 트랙 식별\\\\n3. **가격 분석**: 트랙별 가격 변동 추적\\\\n4. **구매 패턴 분석**: 고객이 함께 구매하는 트랙 패턴 파악\\\\n5. **재고 관리**: 디지털 콘텐츠의 판매량 추적\\\\n6. **청구서 세부 정보 조회**: 특정 청구서에 포함된 모든 항목 확인\\\\n7. **수익성 분석**: 트랙별 판매 수량과 가격을 기반으로 수익성 평가\\\\n\\\\n이 테이블은 음악 판매 플랫폼의 거래 세부 정보를 추적하는 데 필수적인 데이터를 제공합니다.', '# Employee 테이블 요약\\\\n\\\\nEmployee 테이블은 직원의 상세 정보와 조직 내 감독 체계를 저장하는 테이블입니다. 이 테이블은 다음과 같은 정보를 포함합니다:\\\\n\\\\n- 직원 식별 정보: EmployeeId(고유 식별자), LastName(성), FirstName(이름)\\\\n- 직무 정보: Title(직책)\\\\n- 조직 구조 정보: ReportsTo(상사 참조 외래키)\\\\n- 개인 정보: BirthDate(생년월일), HireDate(입사일)\\\\n- 연락처 정보: Address(주소), City(도시), State(주/도), Country(국가), PostalCode(우편번호), Phone(전화번호), Fax(팩스번호), Email(이메일)\\\\n\\\\n이 테이블의 잠재적 활용 사례는 다음과 같습니다:\\\\n\\\\n1. 인사 관리: 직원 정보 조회, 직원 수 파악, 인력 현황 분석\\\\n2. 조직 구조 분석: 보고 체계 및 조직도 생성, 관리 스팬 분석\\\\n3. 인력 계획: 직원 분포 분석, 지역별/부서별 인력 배치 현황 파악\\\\n4. 직원 연락처 관리: 비상 연락망 구축, 커뮤니케이션 채널 관리\\\\n5. 인구통계학적 분석: 직원 연령 분포, 근속 기간 분석\\\\n6. 지리적 분석: 직원의 지역별 분포 파악\\\\n7. 조직 내 보고 체계 시각화: 상사-부하 관계 매핑\\\\n8. 인사 기록 관리: 입사일 기반 근속 기간 계산, 기념일 관리\\\\n\\\\n이 테이블은 회사의 인사 관리 시스템의 핵심 구성 요소로, 직원 정보 관리와 조직 구조 파악에 필수적인 데이터를 제공합니다.', '# Customer 테이블 요약\\\\n\\\\nCustomer 테이블은 고객의 상세 정보와 담당 지원 담당자에 대한 연결 정보를 포함하고 있습니다. 이 테이블은 다음과 같은 정보를 저장합니다:\\\\n\\\\n- 고객 식별 정보: CustomerId(고유 식별자), FirstName(이름), LastName(성)\\\\n- 연락처 정보: Email, Phone, Fax\\\\n- 주소 정보: Address, City, State, Country, PostalCode\\\\n- 소속 정보: Company(고객의 회사)\\\\n- 지원 정보: SupportRepId(고객을 담당하는 직원 ID)\\\\n\\\\n이 테이블은 다음과 같은 용도로 활용될 수 있습니다:\\\\n\\\\n1. 고객 세그먼테이션 및 타겟 마케팅: 지역별, 국가별 고객 분류를 통한 맞춤형 마케팅 전략 수립\\\\n2. 고객 관계 관리: 고객별 담당 지원 담당자 파악 및 고객 서비스 품질 관리\\\\n3. 지역별 고객 분포 분석: 특정 지역이나 국가의 고객 수 파악 및 시장 확장 전략 수립\\\\n4. 고객 연락 캠페인: 이메일이나 전화를 통한 고객 접촉 시 필요한 연락처 정보 활용\\\\n5. 고객 프로필링: 회사 정보와 위치 정보를 활용한 고객 특성 분석\\\\n6. 매출 분석: 다른 테이블(예: Invoice)과 연계하여 고객별 매출 기여도 분석\\\\n7. 고객 서비스 최적화: 담당 지원 직원과 고객 간의 관계 분석 및 서비스 개선\\\\n\\\\n이 테이블은 고객 관리 시스템의 핵심 구성 요소로, 고객 정보의 중앙 저장소 역할을 하며 다양한 비즈니스 분석 및 의사결정에 필요한 기본 데이터를 제공합니다.', '# MediaType 테이블 요약\\\\n\\\\n이 테이블은 음악 트랙의 미디어 유형을 정의하는 데이터를 저장합니다.\\\\n\\\\n## 구조\\\\n- **MediaTypeId**: 미디어 유형의 고유 식별자로 기본 키로 사용됩니다.\\\\n- **Name**: 미디어 유형의 이름을 저장합니다.\\\\n\\\\n## 데이터 특성\\\\n이 테이블은 음악이나 오디오 트랙이 어떤 형태의 미디어로 제공되는지에 대한 정보를 담고 있습니다. 예를 들어 MP3, AAC, WAV, FLAC 등과 같은 디지털 오디오 형식이나 CD, DVD와 같은 물리적 미디어 형식이 포함될 수 있습니다.\\\\n\\\\n## 활용 사례\\\\n- 미디어 유형별 트랙 분류 및 필터링\\\\n- 특정 미디어 형식의 인기도 분석\\\\n- 미디어 형식별 판매 통계 생성\\\\n- 스트리밍 서비스와 다운로드 가능한 형식 간의 비교 분석\\\\n- 미디어 형식 변화 추세 파악\\\\n- 디지털 음원 관리 시스템에서 지원 형식 관리\\\\n\\\\n이 테이블은 음악 또는 미디어 관리 시스템에서 트랙의 기술적 특성을 분류하는 데 중요한 역할을 합니다.', '# Genre 테이블 요약\\\\n\\\\nGenre 테이블은 음악 장르를 카탈로그화하는 테이블로, 각 장르에 대한 고유 식별자와 이름을 저장합니다.\\\\n\\\\n## 구조\\\\n- **GenreId**: 장르의 고유 식별자로 기본 키(Primary Key) 역할을 합니다.\\\\n- **Name**: 장르의 이름을 저장합니다 (예: Rock, Jazz, Classical 등).\\\\n\\\\n## 활용 사례\\\\n- 특정 장르에 속하는 음악 트랙 필터링 및 검색\\\\n- 음악 카탈로그 시스템에서 장르별 분류 및 정리\\\\n- 장르별 음악 통계 분석 수행\\\\n- 사용자 맞춤형 음악 추천 시스템 구축\\\\n- 장르별 플레이리스트 생성\\\\n- 음악 스트리밍 서비스의 장르 기반 탐색 기능 지원\\\\n- 음악 판매 분석에서 장르별 인기도 측정\\\\n- 음악 트렌드 분석을 위한 기초 데이터 제공\\\\n\\\\n이 테이블은 음악 데이터베이스 시스템에서 장르 분류의 기본 구조를 제공하며, 다른 테이블(예: Track)과 연결되어 음악 카탈로그의 체계적인 관리를 가능하게 합니다.', '# 음악 트랙 정보 테이블 (Track)\\\\n\\\\n이 테이블은 음악 트랙에 관한 상세 정보를 저장하고 있습니다. 각 트랙에 대한 기본 식별자부터 음악적 특성, 기술적 세부사항 및 가격 정보까지 포함하고 있습니다.\\\\n\\\\n## 포함 데이터\\\\n- 트랙 식별자(TrackId): 각 트랙의 고유 식별자\\\\n- 트랙 이름(Name): 음악 트랙의 제목\\\\n- 앨범 연결 정보(AlbumId): 트랙이 속한 앨범과의 연결 정보\\\\n- 미디어 타입 정보(MediaTypeId): 트랙의 미디어 형식 정보\\\\n- 장르 정보(GenreId): 트랙의 음악 장르 분류\\\\n- 작곡가 정보(Composer): 트랙의 작곡가 이름\\\\n- 재생 시간(Milliseconds): 트랙의 재생 시간(밀리초 단위)\\\\n- 파일 크기(Bytes): 트랙 파일의 용량(바이트 단위)\\\\n- 단가(UnitPrice): 트랙의 판매 가격\\\\n\\\\n## 활용 사례\\\\n1. **음악 카탈로그 관리**\\\\n   - 특정 장르(예: 록)에 속하는 모든 트랙 조회\\\\n   - 앨범별 수록곡 목록 및 개수 파악\\\\n   - 작곡가별 작품 목록 생성\\\\n\\\\n2. **콘텐츠 분석**\\\\n   - 전체 음악 라이브러리의 총 재생 시간 계산\\\\n   - 특정 길이(예: 5분) 이상의 트랙 식별\\\\n   - 장르별 평균 트랙 길이 비교 분석\\\\n\\\\n3. **판매 및 가격 관리**\\\\n   - 트랙별 가격 정책 수립 및 관리\\\\n   - 파일 크기와 가격 간의 관계 분석\\\\n   - 장르별 가격 전략 수립\\\\n\\\\n4. **기술적 활용**\\\\n   - 스트리밍 서비스의 저장 공간 및 대역폭 요구사항 예측\\\\n   - 미디어 타입별 파일 크기 분석\\\\n   - 재생 시간에 따른 서버 리소스 계획\\\\n\\\\n5. **플레이리스트 및 콘텐츠 큐레이션**\\\\n   - 특정 길이의 트랙으로 플레이리스트 구성\\\\n   - 특정 작곡가나 장르 기반의 콘텐츠 추천\\\\n   - 앨범 단위의 음악 컬렉션 관리\\\\n\\\\n이 테이블은 음악 스트리밍 서비스, 디지털 음원 판매 플랫폼, 음악 라이브러리 관리 시스템 등에서 핵심적인 데이터 구조로 활용될 수 있습니다.', '# playlist_track 테이블 요약\\\\n\\\\n이 테이블은 플레이리스트와 트랙 간의 연결 관계를 저장하는 중간 테이블입니다.\\\\n\\\\n## 구조\\\\n- **PlaylistId**: 플레이리스트를 식별하는 외래 키\\\\n- **TrackId**: 플레이리스트에 포함된 트랙을 식별하는 외래 키\\\\n\\\\n## 데이터 특성\\\\n이 테이블은 다대다(many-to-many) 관계를 구현하여 각 플레이리스트에 여러 트랙이 포함될 수 있고, 각 트랙이 여러 플레이리스트에 속할 수 있도록 합니다.\\\\n\\\\n## 활용 사례\\\\n1. 특정 플레이리스트에 포함된 모든 트랙 조회\\\\n2. 특정 트랙이 포함된 모든 플레이리스트 확인\\\\n3. 플레이리스트별 트랙 수 분석\\\\n4. 가장 많은 플레이리스트에 포함된 인기 트랙 식별\\\\n5. 플레이리스트 구성 패턴 분석\\\\n6. 사용자 맞춤형 플레이리스트 추천 시스템 구축을 위한 데이터 제공\\\\n7. 플레이리스트 간 유사도 계산', '# Album 테이블 요약\\\\n\\\\nAlbum 테이블은 음악 앨범 정보를 저장하는 테이블로, 각 앨범에 대한 기본 정보를 관리합니다. 이 테이블은 다음과 같은 주요 컬럼으로 구성되어 있습니다:\\\\n\\\\n1. **AlbumId**: 각 앨범을 고유하게 식별하는 기본 키(Primary Key)입니다.\\\\n2. **Title**: 앨범의 제목을 저장합니다.\\\\n3. **ArtistId**: 앨범을 발매한 아티스트를 참조하는 외래 키(Foreign Key)로, Artist 테이블과 연결됩니다.\\\\n\\\\n이 테이블은 다음과 같은 용도로 활용될 수 있습니다:\\\\n\\\\n- 특정 아티스트가 발매한 모든 앨범 목록 조회\\\\n- 앨범 제목으로 음악 검색\\\\n- 앨범별 트랙 수 및 콘텐츠 분석\\\\n- 아티스트별 디스코그래피(음반 목록) 관리\\\\n- 음악 카탈로그 구성 및 관리\\\\n- 앨범 정보 기반 음악 추천 시스템 구축\\\\n- 앨범 판매 및 인기도 분석\\\\n- 음악 라이브러리 구성 및 정리\\\\n\\\\n이 테이블은 Track 테이블과 연결되어 각 앨범에 포함된 개별 트랙 정보를 관리하고, Artist 테이블과 연결되어 앨범 제작자 정보를 제공하는 음악 데이터베이스의 핵심 구성 요소입니다.', '# playlists 테이블\\\\n\\\\n이 테이블은 음악 트랙을 플레이리스트로 구성하는 데이터를 저장합니다.\\\\n\\\\n## 구조\\\\n- **PlaylistId**: 플레이리스트의 고유 식별자로 기본 키(Primary Key)로 사용됩니다.\\\\n- **Name**: 플레이리스트의 이름을 저장합니다.\\\\n\\\\n## 활용 사례\\\\n1. **플레이리스트 관리**: 사용자가 생성한 다양한 플레이리스트를 관리하고 조회할 수 있습니다.\\\\n2. **음악 카테고리화**: 트랙을 특정 테마나 장르별로 그룹화하여 관리할 수 있습니다.\\\\n3. **사용자 경험 분석**: 어떤 유형의 플레이리스트가 많이 생성되는지 분석하여 사용자 선호도를 파악할 수 있습니다.\\\\n4. **콘텐츠 추천**: 사용자의 플레이리스트 패턴을 분석하여 새로운 음악이나 플레이리스트를 추천하는 데 활용할 수 있습니다.\\\\n5. **인기 플레이리스트 식별**: 가장 많이 생성되거나 공유되는 플레이리스트 유형을 파악할 수 있습니다.\\\\n\\\\n이 테이블은 다른 테이블(예: 트랙 정보를 담은 테이블)과 연결되어 플레이리스트에 포함된 실제 트랙 정보를 관리하는 데 사용될 수 있습니다.']\\n\\n #형식: Your response should be a list of comma separated values, eg: `foo, bar, baz` or `foo,bar,baz`\"}]}]\n"
     ]
    },
    {
     "name": "stderr",
     "output_type": "stream",
     "text": [
      "INFO:retry-bedrock-invocation:in retry(), converse_with_bedrock() returned '[0]'\n",
      "INFO:retry-bedrock-invocation:trying converse_with_bedrock() [1/4]\n"
     ]
    },
    {
     "name": "stdout",
     "output_type": "stream",
     "text": [
      "\n",
      "🔹 [NODE] get_relevant_tables\n",
      "================================================================================\n",
      "📌 table_names:\n",
      "[]\n",
      "================================================================================\n",
      "\n",
      "🔹 [NODE] describe_schema\n",
      "================================================================================\n",
      "📌 table_details:\n",
      "[]\n",
      "================================================================================\n",
      "[{'text': '당신은 사용자 질문에 대한 SQL 쿼리를 작성하는 유능한 데이터베이스 엔지니어입니다. 당신의 임무는 주어진 DB 정보를 바탕으로, 사용자 질문에 대한 SQL 쿼리 작성이 가능한지 판단하는 것입니다.'}] [{'role': 'user', 'content': [{'text': \"질문에 대한 SQL 쿼리를 생성하기에 충분한 정보가 제공되었는지 판단합니다. 서두는 건너뛰고, 정보가 충분하면 `Ready`, 정보가 부족하면 `Not Ready`로 응답하세요. 반드시 `Ready`, `Not Ready` 둘 중 하나로 응답하세요. \\n\\n #질문: 2022년 매출 상위 10개 국가는?\\n\\n #샘플 쿼리:\\n [{'input': '매출액 기준 상위 5명의 고객 목록\\\\n\\\\n이 요청은 고객별 총 구매액을 계산하여 가장 많은 금액을 지출한 상위 5명의 고객을 식별하기 위한 것입니다. 회사의 VIP 고객을 파악하거나 충성도 높은 고객을 대상으로 한 마케팅 캠페인을 계획하는 데 활용될 수 있습니다. 또한 매출에 가장 큰 기여를 하는 고객층을 분석하여 비즈니스 전략을 수립하거나, 고객 유지 프로그램을 개발하는 데 중요한 인사이트를 제공합니다. 이러한 데이터는 매출 집중도를 파악하고 특정 고객에 대한 의존도를 평가하는 데도 유용합니다.', 'query': 'SELECT CustomerId, SUM(Total) AS TotalPurchase FROM Invoice GROUP BY CustomerId ORDER BY TotalPurchase DESC LIMIT 5'}]\\n\\n #사용 가능한 테이블:\\n []\"}]}]\n"
     ]
    },
    {
     "name": "stderr",
     "output_type": "stream",
     "text": [
      "INFO:retry-bedrock-invocation:in retry(), converse_with_bedrock() returned 'Not Ready'\n",
      "INFO:retry-bedrock-invocation:trying converse_with_bedrock() [1/4]\n"
     ]
    },
    {
     "name": "stdout",
     "output_type": "stream",
     "text": [
      "\n",
      "🔹 [NODE] check_readiness\n",
      "================================================================================\n",
      "📌 readiness:\n",
      "'Not Ready'\n",
      "================================================================================\n",
      "[{'text': '당신은 사용자 요청에 맞는 SQL 쿼리를 작성하는 유능한 데이터베이스 엔지니어입니다. 당신의 임무는 SQL 쿼리 작성에 필요한 테이블을 선택하는 것입니다.'}] [{'role': 'user', 'content': [{'text': \"사용자 요청에 맞는 SQL 쿼리를 생성하기 위해 필요한 테이블을 선택하여, 이를 중요도 순서로 정렬한 후 인덱스 번호(0부터 시작)로 응답하세요. 사용자 요청에 관련된 테이블이 없으면 빈 목록()으로 응답하세요.\\n\\n #질문: 2022년 매출 상위 10개 국가는?\\n\\n #테이블 정보:\\n ['# Invoice 테이블 요약\\\\n\\\\nInvoice 테이블은 거래 기록에 대한 상세 정보를 저장하며 고객과 연결되어 있습니다. 이 테이블은 다음과 같은 정보를 포함합니다:\\\\n\\\\n- 인보이스 식별자(InvoiceId): 각 인보이스의 고유 식별자로 기본 키 역할을 합니다.\\\\n- 고객 식별자(CustomerId): 인보이스와 연관된 고객을 참조하는 외래 키입니다.\\\\n- 인보이스 날짜(InvoiceDate): 인보이스가 발행된 날짜입니다.\\\\n- 청구 정보: 청구 주소(BillingAddress), 도시(BillingCity), 주/도(BillingState), 국가(BillingCountry), 우편번호(BillingPostalCode)를 포함합니다.\\\\n- 총액(Total): 인보이스의 총 금액입니다.\\\\n\\\\n## 활용 사례:\\\\n\\\\n1. **매출 분석**: 기간별, 지역별, 고객별 매출 추이를 분석하여 비즈니스 성과를 평가할 수 있습니다.\\\\n\\\\n2. **고객 행동 분석**: 고객별 구매 패턴, 구매 빈도, 평균 구매 금액 등을 파악하여 고객 세그먼트를 구분할 수 있습니다.\\\\n\\\\n3. **지역별 판매 분석**: 청구 주소 정보를 활용하여 지역별 매출 분포를 파악하고 지역 타겟팅 전략을 수립할 수 있습니다.\\\\n\\\\n4. **VIP 고객 식별**: 총 구매액을 기준으로 상위 고객을 식별하여 충성도 프로그램이나 맞춤형 마케팅을 계획할 수 있습니다.\\\\n\\\\n5. **재무 보고 및 회계**: 특정 기간 동안의 총 매출, 평균 거래 금액 등을 계산하여 재무 보고서를 작성할 수 있습니다.\\\\n\\\\n6. **계절적 트렌드 분석**: 인보이스 날짜를 기반으로 계절별 매출 패턴을 분석할 수 있습니다.\\\\n\\\\n7. **국가별/지역별 시장 침투율 분석**: 청구 국가 및 지역 정보를 활용하여 시장 점유율을 평가할 수 있습니다.', '# invoice_items 테이블 요약\\\\n\\\\n이 테이블은 청구서(invoice)의 각 라인 항목에 대한 세부 정보를 저장하고 있습니다. 각 레코드는 특정 청구서에 포함된 개별 트랙(음원)의 판매 정보를 나타냅니다.\\\\n\\\\n## 주요 컬럼 정보:\\\\n- **InvoiceLineId**: 청구서 라인의 고유 식별자로 기본 키 역할을 합니다.\\\\n- **InvoiceId**: 연관된 청구서를 참조하는 외래 키입니다.\\\\n- **TrackId**: 이 청구서 라인에서 판매된 트랙을 참조하는 외래 키입니다.\\\\n- **UnitPrice**: 트랙의 단위당 가격입니다.\\\\n- **Quantity**: 이 청구서 라인에서 판매된 트랙의 수량입니다.\\\\n\\\\n## 잠재적 활용 사례:\\\\n1. **매출 분석**: 트랙별, 청구서별 매출 계산 및 분석\\\\n2. **인기 트랙 파악**: 가장 많이 판매된 트랙 식별\\\\n3. **가격 분석**: 트랙별 가격 변동 추적\\\\n4. **구매 패턴 분석**: 고객이 함께 구매하는 트랙 패턴 파악\\\\n5. **재고 관리**: 디지털 콘텐츠의 판매량 추적\\\\n6. **청구서 세부 정보 조회**: 특정 청구서에 포함된 모든 항목 확인\\\\n7. **수익성 분석**: 트랙별 판매 수량과 가격을 기반으로 수익성 평가\\\\n\\\\n이 테이블은 음악 판매 플랫폼의 거래 세부 정보를 추적하는 데 필수적인 데이터를 제공합니다.', '# Employee 테이블 요약\\\\n\\\\nEmployee 테이블은 직원의 상세 정보와 조직 내 감독 체계를 저장하는 테이블입니다. 이 테이블은 다음과 같은 정보를 포함합니다:\\\\n\\\\n- 직원 식별 정보: EmployeeId(고유 식별자), LastName(성), FirstName(이름)\\\\n- 직무 정보: Title(직책)\\\\n- 조직 구조 정보: ReportsTo(상사 참조 외래키)\\\\n- 개인 정보: BirthDate(생년월일), HireDate(입사일)\\\\n- 연락처 정보: Address(주소), City(도시), State(주/도), Country(국가), PostalCode(우편번호), Phone(전화번호), Fax(팩스번호), Email(이메일)\\\\n\\\\n이 테이블의 잠재적 활용 사례는 다음과 같습니다:\\\\n\\\\n1. 인사 관리: 직원 정보 조회, 직원 수 파악, 인력 현황 분석\\\\n2. 조직 구조 분석: 보고 체계 및 조직도 생성, 관리 스팬 분석\\\\n3. 인력 계획: 직원 분포 분석, 지역별/부서별 인력 배치 현황 파악\\\\n4. 직원 연락처 관리: 비상 연락망 구축, 커뮤니케이션 채널 관리\\\\n5. 인구통계학적 분석: 직원 연령 분포, 근속 기간 분석\\\\n6. 지리적 분석: 직원의 지역별 분포 파악\\\\n7. 조직 내 보고 체계 시각화: 상사-부하 관계 매핑\\\\n8. 인사 기록 관리: 입사일 기반 근속 기간 계산, 기념일 관리\\\\n\\\\n이 테이블은 회사의 인사 관리 시스템의 핵심 구성 요소로, 직원 정보 관리와 조직 구조 파악에 필수적인 데이터를 제공합니다.', '# Customer 테이블 요약\\\\n\\\\nCustomer 테이블은 고객의 상세 정보와 담당 지원 담당자에 대한 연결 정보를 포함하고 있습니다. 이 테이블은 다음과 같은 정보를 저장합니다:\\\\n\\\\n- 고객 식별 정보: CustomerId(고유 식별자), FirstName(이름), LastName(성)\\\\n- 연락처 정보: Email, Phone, Fax\\\\n- 주소 정보: Address, City, State, Country, PostalCode\\\\n- 소속 정보: Company(고객의 회사)\\\\n- 지원 정보: SupportRepId(고객을 담당하는 직원 ID)\\\\n\\\\n이 테이블은 다음과 같은 용도로 활용될 수 있습니다:\\\\n\\\\n1. 고객 세그먼테이션 및 타겟 마케팅: 지역별, 국가별 고객 분류를 통한 맞춤형 마케팅 전략 수립\\\\n2. 고객 관계 관리: 고객별 담당 지원 담당자 파악 및 고객 서비스 품질 관리\\\\n3. 지역별 고객 분포 분석: 특정 지역이나 국가의 고객 수 파악 및 시장 확장 전략 수립\\\\n4. 고객 연락 캠페인: 이메일이나 전화를 통한 고객 접촉 시 필요한 연락처 정보 활용\\\\n5. 고객 프로필링: 회사 정보와 위치 정보를 활용한 고객 특성 분석\\\\n6. 매출 분석: 다른 테이블(예: Invoice)과 연계하여 고객별 매출 기여도 분석\\\\n7. 고객 서비스 최적화: 담당 지원 직원과 고객 간의 관계 분석 및 서비스 개선\\\\n\\\\n이 테이블은 고객 관리 시스템의 핵심 구성 요소로, 고객 정보의 중앙 저장소 역할을 하며 다양한 비즈니스 분석 및 의사결정에 필요한 기본 데이터를 제공합니다.', '# MediaType 테이블 요약\\\\n\\\\n이 테이블은 음악 트랙의 미디어 유형을 정의하는 데이터를 저장합니다.\\\\n\\\\n## 구조\\\\n- **MediaTypeId**: 미디어 유형의 고유 식별자로 기본 키로 사용됩니다.\\\\n- **Name**: 미디어 유형의 이름을 저장합니다.\\\\n\\\\n## 데이터 특성\\\\n이 테이블은 음악이나 오디오 트랙이 어떤 형태의 미디어로 제공되는지에 대한 정보를 담고 있습니다. 예를 들어 MP3, AAC, WAV, FLAC 등과 같은 디지털 오디오 형식이나 CD, DVD와 같은 물리적 미디어 형식이 포함될 수 있습니다.\\\\n\\\\n## 활용 사례\\\\n- 미디어 유형별 트랙 분류 및 필터링\\\\n- 특정 미디어 형식의 인기도 분석\\\\n- 미디어 형식별 판매 통계 생성\\\\n- 스트리밍 서비스와 다운로드 가능한 형식 간의 비교 분석\\\\n- 미디어 형식 변화 추세 파악\\\\n- 디지털 음원 관리 시스템에서 지원 형식 관리\\\\n\\\\n이 테이블은 음악 또는 미디어 관리 시스템에서 트랙의 기술적 특성을 분류하는 데 중요한 역할을 합니다.', '# Genre 테이블 요약\\\\n\\\\nGenre 테이블은 음악 장르를 카탈로그화하는 테이블로, 각 장르에 대한 고유 식별자와 이름을 저장합니다.\\\\n\\\\n## 구조\\\\n- **GenreId**: 장르의 고유 식별자로 기본 키(Primary Key) 역할을 합니다.\\\\n- **Name**: 장르의 이름을 저장합니다 (예: Rock, Jazz, Classical 등).\\\\n\\\\n## 활용 사례\\\\n- 특정 장르에 속하는 음악 트랙 필터링 및 검색\\\\n- 음악 카탈로그 시스템에서 장르별 분류 및 정리\\\\n- 장르별 음악 통계 분석 수행\\\\n- 사용자 맞춤형 음악 추천 시스템 구축\\\\n- 장르별 플레이리스트 생성\\\\n- 음악 스트리밍 서비스의 장르 기반 탐색 기능 지원\\\\n- 음악 판매 분석에서 장르별 인기도 측정\\\\n- 음악 트렌드 분석을 위한 기초 데이터 제공\\\\n\\\\n이 테이블은 음악 데이터베이스 시스템에서 장르 분류의 기본 구조를 제공하며, 다른 테이블(예: Track)과 연결되어 음악 카탈로그의 체계적인 관리를 가능하게 합니다.', '# 음악 트랙 정보 테이블 (Track)\\\\n\\\\n이 테이블은 음악 트랙에 관한 상세 정보를 저장하고 있습니다. 각 트랙에 대한 기본 식별자부터 음악적 특성, 기술적 세부사항 및 가격 정보까지 포함하고 있습니다.\\\\n\\\\n## 포함 데이터\\\\n- 트랙 식별자(TrackId): 각 트랙의 고유 식별자\\\\n- 트랙 이름(Name): 음악 트랙의 제목\\\\n- 앨범 연결 정보(AlbumId): 트랙이 속한 앨범과의 연결 정보\\\\n- 미디어 타입 정보(MediaTypeId): 트랙의 미디어 형식 정보\\\\n- 장르 정보(GenreId): 트랙의 음악 장르 분류\\\\n- 작곡가 정보(Composer): 트랙의 작곡가 이름\\\\n- 재생 시간(Milliseconds): 트랙의 재생 시간(밀리초 단위)\\\\n- 파일 크기(Bytes): 트랙 파일의 용량(바이트 단위)\\\\n- 단가(UnitPrice): 트랙의 판매 가격\\\\n\\\\n## 활용 사례\\\\n1. **음악 카탈로그 관리**\\\\n   - 특정 장르(예: 록)에 속하는 모든 트랙 조회\\\\n   - 앨범별 수록곡 목록 및 개수 파악\\\\n   - 작곡가별 작품 목록 생성\\\\n\\\\n2. **콘텐츠 분석**\\\\n   - 전체 음악 라이브러리의 총 재생 시간 계산\\\\n   - 특정 길이(예: 5분) 이상의 트랙 식별\\\\n   - 장르별 평균 트랙 길이 비교 분석\\\\n\\\\n3. **판매 및 가격 관리**\\\\n   - 트랙별 가격 정책 수립 및 관리\\\\n   - 파일 크기와 가격 간의 관계 분석\\\\n   - 장르별 가격 전략 수립\\\\n\\\\n4. **기술적 활용**\\\\n   - 스트리밍 서비스의 저장 공간 및 대역폭 요구사항 예측\\\\n   - 미디어 타입별 파일 크기 분석\\\\n   - 재생 시간에 따른 서버 리소스 계획\\\\n\\\\n5. **플레이리스트 및 콘텐츠 큐레이션**\\\\n   - 특정 길이의 트랙으로 플레이리스트 구성\\\\n   - 특정 작곡가나 장르 기반의 콘텐츠 추천\\\\n   - 앨범 단위의 음악 컬렉션 관리\\\\n\\\\n이 테이블은 음악 스트리밍 서비스, 디지털 음원 판매 플랫폼, 음악 라이브러리 관리 시스템 등에서 핵심적인 데이터 구조로 활용될 수 있습니다.', '# playlist_track 테이블 요약\\\\n\\\\n이 테이블은 플레이리스트와 트랙 간의 연결 관계를 저장하는 중간 테이블입니다.\\\\n\\\\n## 구조\\\\n- **PlaylistId**: 플레이리스트를 식별하는 외래 키\\\\n- **TrackId**: 플레이리스트에 포함된 트랙을 식별하는 외래 키\\\\n\\\\n## 데이터 특성\\\\n이 테이블은 다대다(many-to-many) 관계를 구현하여 각 플레이리스트에 여러 트랙이 포함될 수 있고, 각 트랙이 여러 플레이리스트에 속할 수 있도록 합니다.\\\\n\\\\n## 활용 사례\\\\n1. 특정 플레이리스트에 포함된 모든 트랙 조회\\\\n2. 특정 트랙이 포함된 모든 플레이리스트 확인\\\\n3. 플레이리스트별 트랙 수 분석\\\\n4. 가장 많은 플레이리스트에 포함된 인기 트랙 식별\\\\n5. 플레이리스트 구성 패턴 분석\\\\n6. 사용자 맞춤형 플레이리스트 추천 시스템 구축을 위한 데이터 제공\\\\n7. 플레이리스트 간 유사도 계산', '# Album 테이블 요약\\\\n\\\\nAlbum 테이블은 음악 앨범 정보를 저장하는 테이블로, 각 앨범에 대한 기본 정보를 관리합니다. 이 테이블은 다음과 같은 주요 컬럼으로 구성되어 있습니다:\\\\n\\\\n1. **AlbumId**: 각 앨범을 고유하게 식별하는 기본 키(Primary Key)입니다.\\\\n2. **Title**: 앨범의 제목을 저장합니다.\\\\n3. **ArtistId**: 앨범을 발매한 아티스트를 참조하는 외래 키(Foreign Key)로, Artist 테이블과 연결됩니다.\\\\n\\\\n이 테이블은 다음과 같은 용도로 활용될 수 있습니다:\\\\n\\\\n- 특정 아티스트가 발매한 모든 앨범 목록 조회\\\\n- 앨범 제목으로 음악 검색\\\\n- 앨범별 트랙 수 및 콘텐츠 분석\\\\n- 아티스트별 디스코그래피(음반 목록) 관리\\\\n- 음악 카탈로그 구성 및 관리\\\\n- 앨범 정보 기반 음악 추천 시스템 구축\\\\n- 앨범 판매 및 인기도 분석\\\\n- 음악 라이브러리 구성 및 정리\\\\n\\\\n이 테이블은 Track 테이블과 연결되어 각 앨범에 포함된 개별 트랙 정보를 관리하고, Artist 테이블과 연결되어 앨범 제작자 정보를 제공하는 음악 데이터베이스의 핵심 구성 요소입니다.', '# playlists 테이블\\\\n\\\\n이 테이블은 음악 트랙을 플레이리스트로 구성하는 데이터를 저장합니다.\\\\n\\\\n## 구조\\\\n- **PlaylistId**: 플레이리스트의 고유 식별자로 기본 키(Primary Key)로 사용됩니다.\\\\n- **Name**: 플레이리스트의 이름을 저장합니다.\\\\n\\\\n## 활용 사례\\\\n1. **플레이리스트 관리**: 사용자가 생성한 다양한 플레이리스트를 관리하고 조회할 수 있습니다.\\\\n2. **음악 카테고리화**: 트랙을 특정 테마나 장르별로 그룹화하여 관리할 수 있습니다.\\\\n3. **사용자 경험 분석**: 어떤 유형의 플레이리스트가 많이 생성되는지 분석하여 사용자 선호도를 파악할 수 있습니다.\\\\n4. **콘텐츠 추천**: 사용자의 플레이리스트 패턴을 분석하여 새로운 음악이나 플레이리스트를 추천하는 데 활용할 수 있습니다.\\\\n5. **인기 플레이리스트 식별**: 가장 많이 생성되거나 공유되는 플레이리스트 유형을 파악할 수 있습니다.\\\\n\\\\n이 테이블은 다른 테이블(예: 트랙 정보를 담은 테이블)과 연결되어 플레이리스트에 포함된 실제 트랙 정보를 관리하는 데 사용될 수 있습니다.']\\n\\n #형식: Your response should be a list of comma separated values, eg: `foo, bar, baz` or `foo,bar,baz`\"}]}]\n"
     ]
    },
    {
     "name": "stderr",
     "output_type": "stream",
     "text": [
      "INFO:retry-bedrock-invocation:in retry(), converse_with_bedrock() returned '[0]'\n",
      "INFO:retry-bedrock-invocation:trying converse_with_bedrock() [1/4]\n"
     ]
    },
    {
     "name": "stdout",
     "output_type": "stream",
     "text": [
      "\n",
      "🔹 [NODE] get_relevant_tables\n",
      "================================================================================\n",
      "📌 table_names:\n",
      "[]\n",
      "================================================================================\n",
      "\n",
      "🔹 [NODE] describe_schema\n",
      "================================================================================\n",
      "📌 table_details:\n",
      "[]\n",
      "================================================================================\n",
      "[{'text': '당신은 사용자 질문에 대한 SQL 쿼리를 작성하는 유능한 데이터베이스 엔지니어입니다. 당신의 임무는 주어진 DB 정보를 바탕으로, 사용자 질문에 대한 SQL 쿼리 작성이 가능한지 판단하는 것입니다.'}] [{'role': 'user', 'content': [{'text': \"질문에 대한 SQL 쿼리를 생성하기에 충분한 정보가 제공되었는지 판단합니다. 서두는 건너뛰고, 정보가 충분하면 `Ready`, 정보가 부족하면 `Not Ready`로 응답하세요. 반드시 `Ready`, `Not Ready` 둘 중 하나로 응답하세요. \\n\\n #질문: 2022년 매출 상위 10개 국가는?\\n\\n #샘플 쿼리:\\n [{'input': '매출액 기준 상위 5명의 고객 목록\\\\n\\\\n이 요청은 고객별 총 구매액을 계산하여 가장 많은 금액을 지출한 상위 5명의 고객을 식별하기 위한 것입니다. 회사의 VIP 고객을 파악하거나 충성도 높은 고객을 대상으로 한 마케팅 캠페인을 계획하는 데 활용될 수 있습니다. 또한 매출에 가장 큰 기여를 하는 고객층을 분석하여 비즈니스 전략을 수립하거나, 고객 유지 프로그램을 개발하는 데 중요한 인사이트를 제공합니다. 이러한 데이터는 매출 집중도를 파악하고 특정 고객에 대한 의존도를 평가하는 데도 유용합니다.', 'query': 'SELECT CustomerId, SUM(Total) AS TotalPurchase FROM Invoice GROUP BY CustomerId ORDER BY TotalPurchase DESC LIMIT 5'}]\\n\\n #사용 가능한 테이블:\\n []\"}]}]\n"
     ]
    },
    {
     "ename": "KeyboardInterrupt",
     "evalue": "",
     "output_type": "error",
     "traceback": [
      "\u001b[0;31m---------------------------------------------------------------------------\u001b[0m",
      "\u001b[0;31mKeyboardInterrupt\u001b[0m                         Traceback (most recent call last)",
      "Cell \u001b[0;32mIn[23], line 11\u001b[0m\n\u001b[1;32m      8\u001b[0m pp \u001b[38;5;241m=\u001b[39m pprint\u001b[38;5;241m.\u001b[39mPrettyPrinter(width\u001b[38;5;241m=\u001b[39m\u001b[38;5;241m200\u001b[39m, compact\u001b[38;5;241m=\u001b[39m\u001b[38;5;28;01mTrue\u001b[39;00m)\n\u001b[1;32m     10\u001b[0m \u001b[38;5;28;01mtry\u001b[39;00m:\n\u001b[0;32m---> 11\u001b[0m \u001b[43m    \u001b[49m\u001b[38;5;28;43;01mfor\u001b[39;49;00m\u001b[43m \u001b[49m\u001b[43moutput\u001b[49m\u001b[43m \u001b[49m\u001b[38;5;129;43;01min\u001b[39;49;00m\u001b[43m \u001b[49m\u001b[43mapp\u001b[49m\u001b[38;5;241;43m.\u001b[39;49m\u001b[43mstream\u001b[49m\u001b[43m(\u001b[49m\u001b[43minputs\u001b[49m\u001b[43m,\u001b[49m\u001b[43m \u001b[49m\u001b[43mconfig\u001b[49m\u001b[38;5;241;43m=\u001b[39;49m\u001b[43mconfig\u001b[49m\u001b[43m)\u001b[49m\u001b[43m:\u001b[49m\n\u001b[1;32m     12\u001b[0m \u001b[43m        \u001b[49m\u001b[38;5;28;43;01mfor\u001b[39;49;00m\u001b[43m \u001b[49m\u001b[43mkey\u001b[49m\u001b[43m,\u001b[49m\u001b[43m \u001b[49m\u001b[43mvalue\u001b[49m\u001b[43m \u001b[49m\u001b[38;5;129;43;01min\u001b[39;49;00m\u001b[43m \u001b[49m\u001b[43moutput\u001b[49m\u001b[38;5;241;43m.\u001b[39;49m\u001b[43mitems\u001b[49m\u001b[43m(\u001b[49m\u001b[43m)\u001b[49m\u001b[43m:\u001b[49m\n\u001b[1;32m     13\u001b[0m \u001b[43m            \u001b[49m\u001b[38;5;28;43mprint\u001b[39;49m\u001b[43m(\u001b[49m\u001b[38;5;124;43mf\u001b[39;49m\u001b[38;5;124;43m\"\u001b[39;49m\u001b[38;5;130;43;01m\\n\u001b[39;49;00m\u001b[38;5;124;43m🔹 [NODE] \u001b[39;49m\u001b[38;5;132;43;01m{\u001b[39;49;00m\u001b[43mkey\u001b[49m\u001b[38;5;132;43;01m}\u001b[39;49;00m\u001b[38;5;124;43m\"\u001b[39;49m\u001b[43m)\u001b[49m\n",
      "File \u001b[0;32m/opt/conda/lib/python3.12/site-packages/langgraph/pregel/__init__.py:2527\u001b[0m, in \u001b[0;36mPregel.stream\u001b[0;34m(self, input, config, stream_mode, output_keys, interrupt_before, interrupt_after, checkpoint_during, debug, subgraphs)\u001b[0m\n\u001b[1;32m   2525\u001b[0m         \u001b[38;5;28;01mfor\u001b[39;00m task \u001b[38;5;129;01min\u001b[39;00m loop\u001b[38;5;241m.\u001b[39mmatch_cached_writes():\n\u001b[1;32m   2526\u001b[0m             loop\u001b[38;5;241m.\u001b[39moutput_writes(task\u001b[38;5;241m.\u001b[39mid, task\u001b[38;5;241m.\u001b[39mwrites, cached\u001b[38;5;241m=\u001b[39m\u001b[38;5;28;01mTrue\u001b[39;00m)\n\u001b[0;32m-> 2527\u001b[0m \u001b[43m        \u001b[49m\u001b[38;5;28;43;01mfor\u001b[39;49;00m\u001b[43m \u001b[49m\u001b[43m_\u001b[49m\u001b[43m \u001b[49m\u001b[38;5;129;43;01min\u001b[39;49;00m\u001b[43m \u001b[49m\u001b[43mrunner\u001b[49m\u001b[38;5;241;43m.\u001b[39;49m\u001b[43mtick\u001b[49m\u001b[43m(\u001b[49m\n\u001b[1;32m   2528\u001b[0m \u001b[43m            \u001b[49m\u001b[43m[\u001b[49m\u001b[43mt\u001b[49m\u001b[43m \u001b[49m\u001b[38;5;28;43;01mfor\u001b[39;49;00m\u001b[43m \u001b[49m\u001b[43mt\u001b[49m\u001b[43m \u001b[49m\u001b[38;5;129;43;01min\u001b[39;49;00m\u001b[43m \u001b[49m\u001b[43mloop\u001b[49m\u001b[38;5;241;43m.\u001b[39;49m\u001b[43mtasks\u001b[49m\u001b[38;5;241;43m.\u001b[39;49m\u001b[43mvalues\u001b[49m\u001b[43m(\u001b[49m\u001b[43m)\u001b[49m\u001b[43m \u001b[49m\u001b[38;5;28;43;01mif\u001b[39;49;00m\u001b[43m \u001b[49m\u001b[38;5;129;43;01mnot\u001b[39;49;00m\u001b[43m \u001b[49m\u001b[43mt\u001b[49m\u001b[38;5;241;43m.\u001b[39;49m\u001b[43mwrites\u001b[49m\u001b[43m]\u001b[49m\u001b[43m,\u001b[49m\n\u001b[1;32m   2529\u001b[0m \u001b[43m            \u001b[49m\u001b[43mtimeout\u001b[49m\u001b[38;5;241;43m=\u001b[39;49m\u001b[38;5;28;43mself\u001b[39;49m\u001b[38;5;241;43m.\u001b[39;49m\u001b[43mstep_timeout\u001b[49m\u001b[43m,\u001b[49m\n\u001b[1;32m   2530\u001b[0m \u001b[43m            \u001b[49m\u001b[43mget_waiter\u001b[49m\u001b[38;5;241;43m=\u001b[39;49m\u001b[43mget_waiter\u001b[49m\u001b[43m,\u001b[49m\n\u001b[1;32m   2531\u001b[0m \u001b[43m            \u001b[49m\u001b[43mschedule_task\u001b[49m\u001b[38;5;241;43m=\u001b[39;49m\u001b[43mloop\u001b[49m\u001b[38;5;241;43m.\u001b[39;49m\u001b[43maccept_push\u001b[49m\u001b[43m,\u001b[49m\n\u001b[1;32m   2532\u001b[0m \u001b[43m        \u001b[49m\u001b[43m)\u001b[49m\u001b[43m:\u001b[49m\n\u001b[1;32m   2533\u001b[0m \u001b[43m            \u001b[49m\u001b[38;5;66;43;03m# emit output\u001b[39;49;00m\n\u001b[1;32m   2534\u001b[0m \u001b[43m            \u001b[49m\u001b[38;5;28;43;01myield from\u001b[39;49;00m\u001b[43m \u001b[49m\u001b[43moutput\u001b[49m\u001b[43m(\u001b[49m\u001b[43m)\u001b[49m\n\u001b[1;32m   2535\u001b[0m \u001b[38;5;66;03m# emit output\u001b[39;00m\n",
      "File \u001b[0;32m/opt/conda/lib/python3.12/site-packages/langgraph/pregel/runner.py:157\u001b[0m, in \u001b[0;36mPregelRunner.tick\u001b[0;34m(self, tasks, reraise, timeout, retry_policy, get_waiter, schedule_task)\u001b[0m\n\u001b[1;32m    155\u001b[0m t \u001b[38;5;241m=\u001b[39m tasks[\u001b[38;5;241m0\u001b[39m]\n\u001b[1;32m    156\u001b[0m \u001b[38;5;28;01mtry\u001b[39;00m:\n\u001b[0;32m--> 157\u001b[0m     \u001b[43mrun_with_retry\u001b[49m\u001b[43m(\u001b[49m\n\u001b[1;32m    158\u001b[0m \u001b[43m        \u001b[49m\u001b[43mt\u001b[49m\u001b[43m,\u001b[49m\n\u001b[1;32m    159\u001b[0m \u001b[43m        \u001b[49m\u001b[43mretry_policy\u001b[49m\u001b[43m,\u001b[49m\n\u001b[1;32m    160\u001b[0m \u001b[43m        \u001b[49m\u001b[43mconfigurable\u001b[49m\u001b[38;5;241;43m=\u001b[39;49m\u001b[43m{\u001b[49m\n\u001b[1;32m    161\u001b[0m \u001b[43m            \u001b[49m\u001b[43mCONFIG_KEY_CALL\u001b[49m\u001b[43m:\u001b[49m\u001b[43m \u001b[49m\u001b[43mpartial\u001b[49m\u001b[43m(\u001b[49m\n\u001b[1;32m    162\u001b[0m \u001b[43m                \u001b[49m\u001b[43m_call\u001b[49m\u001b[43m,\u001b[49m\n\u001b[1;32m    163\u001b[0m \u001b[43m                \u001b[49m\u001b[43mweakref\u001b[49m\u001b[38;5;241;43m.\u001b[39;49m\u001b[43mref\u001b[49m\u001b[43m(\u001b[49m\u001b[43mt\u001b[49m\u001b[43m)\u001b[49m\u001b[43m,\u001b[49m\n\u001b[1;32m    164\u001b[0m \u001b[43m                \u001b[49m\u001b[43mretry\u001b[49m\u001b[38;5;241;43m=\u001b[39;49m\u001b[43mretry_policy\u001b[49m\u001b[43m,\u001b[49m\n\u001b[1;32m    165\u001b[0m \u001b[43m                \u001b[49m\u001b[43mfutures\u001b[49m\u001b[38;5;241;43m=\u001b[39;49m\u001b[43mweakref\u001b[49m\u001b[38;5;241;43m.\u001b[39;49m\u001b[43mref\u001b[49m\u001b[43m(\u001b[49m\u001b[43mfutures\u001b[49m\u001b[43m)\u001b[49m\u001b[43m,\u001b[49m\n\u001b[1;32m    166\u001b[0m \u001b[43m                \u001b[49m\u001b[43mschedule_task\u001b[49m\u001b[38;5;241;43m=\u001b[39;49m\u001b[43mschedule_task\u001b[49m\u001b[43m,\u001b[49m\n\u001b[1;32m    167\u001b[0m \u001b[43m                \u001b[49m\u001b[43msubmit\u001b[49m\u001b[38;5;241;43m=\u001b[39;49m\u001b[38;5;28;43mself\u001b[39;49m\u001b[38;5;241;43m.\u001b[39;49m\u001b[43msubmit\u001b[49m\u001b[43m,\u001b[49m\n\u001b[1;32m    168\u001b[0m \u001b[43m                \u001b[49m\u001b[43mreraise\u001b[49m\u001b[38;5;241;43m=\u001b[39;49m\u001b[43mreraise\u001b[49m\u001b[43m,\u001b[49m\n\u001b[1;32m    169\u001b[0m \u001b[43m            \u001b[49m\u001b[43m)\u001b[49m\u001b[43m,\u001b[49m\n\u001b[1;32m    170\u001b[0m \u001b[43m        \u001b[49m\u001b[43m}\u001b[49m\u001b[43m,\u001b[49m\n\u001b[1;32m    171\u001b[0m \u001b[43m    \u001b[49m\u001b[43m)\u001b[49m\n\u001b[1;32m    172\u001b[0m     \u001b[38;5;28mself\u001b[39m\u001b[38;5;241m.\u001b[39mcommit(t, \u001b[38;5;28;01mNone\u001b[39;00m)\n\u001b[1;32m    173\u001b[0m \u001b[38;5;28;01mexcept\u001b[39;00m \u001b[38;5;167;01mException\u001b[39;00m \u001b[38;5;28;01mas\u001b[39;00m exc:\n",
      "File \u001b[0;32m/opt/conda/lib/python3.12/site-packages/langgraph/pregel/retry.py:40\u001b[0m, in \u001b[0;36mrun_with_retry\u001b[0;34m(task, retry_policy, configurable)\u001b[0m\n\u001b[1;32m     38\u001b[0m     task\u001b[38;5;241m.\u001b[39mwrites\u001b[38;5;241m.\u001b[39mclear()\n\u001b[1;32m     39\u001b[0m     \u001b[38;5;66;03m# run the task\u001b[39;00m\n\u001b[0;32m---> 40\u001b[0m     \u001b[38;5;28;01mreturn\u001b[39;00m \u001b[43mtask\u001b[49m\u001b[38;5;241;43m.\u001b[39;49m\u001b[43mproc\u001b[49m\u001b[38;5;241;43m.\u001b[39;49m\u001b[43minvoke\u001b[49m\u001b[43m(\u001b[49m\u001b[43mtask\u001b[49m\u001b[38;5;241;43m.\u001b[39;49m\u001b[43minput\u001b[49m\u001b[43m,\u001b[49m\u001b[43m \u001b[49m\u001b[43mconfig\u001b[49m\u001b[43m)\u001b[49m\n\u001b[1;32m     41\u001b[0m \u001b[38;5;28;01mexcept\u001b[39;00m ParentCommand \u001b[38;5;28;01mas\u001b[39;00m exc:\n\u001b[1;32m     42\u001b[0m     ns: \u001b[38;5;28mstr\u001b[39m \u001b[38;5;241m=\u001b[39m config[CONF][CONFIG_KEY_CHECKPOINT_NS]\n",
      "File \u001b[0;32m/opt/conda/lib/python3.12/site-packages/langgraph/utils/runnable.py:623\u001b[0m, in \u001b[0;36mRunnableSeq.invoke\u001b[0;34m(self, input, config, **kwargs)\u001b[0m\n\u001b[1;32m    621\u001b[0m     \u001b[38;5;66;03m# run in context\u001b[39;00m\n\u001b[1;32m    622\u001b[0m     \u001b[38;5;28;01mwith\u001b[39;00m set_config_context(config, run) \u001b[38;5;28;01mas\u001b[39;00m context:\n\u001b[0;32m--> 623\u001b[0m         \u001b[38;5;28minput\u001b[39m \u001b[38;5;241m=\u001b[39m \u001b[43mcontext\u001b[49m\u001b[38;5;241;43m.\u001b[39;49m\u001b[43mrun\u001b[49m\u001b[43m(\u001b[49m\u001b[43mstep\u001b[49m\u001b[38;5;241;43m.\u001b[39;49m\u001b[43minvoke\u001b[49m\u001b[43m,\u001b[49m\u001b[43m \u001b[49m\u001b[38;5;28;43minput\u001b[39;49m\u001b[43m,\u001b[49m\u001b[43m \u001b[49m\u001b[43mconfig\u001b[49m\u001b[43m,\u001b[49m\u001b[43m \u001b[49m\u001b[38;5;241;43m*\u001b[39;49m\u001b[38;5;241;43m*\u001b[39;49m\u001b[43mkwargs\u001b[49m\u001b[43m)\u001b[49m\n\u001b[1;32m    624\u001b[0m \u001b[38;5;28;01melse\u001b[39;00m:\n\u001b[1;32m    625\u001b[0m     \u001b[38;5;28minput\u001b[39m \u001b[38;5;241m=\u001b[39m step\u001b[38;5;241m.\u001b[39minvoke(\u001b[38;5;28minput\u001b[39m, config)\n",
      "File \u001b[0;32m/opt/conda/lib/python3.12/site-packages/langgraph/utils/runnable.py:377\u001b[0m, in \u001b[0;36mRunnableCallable.invoke\u001b[0;34m(self, input, config, **kwargs)\u001b[0m\n\u001b[1;32m    375\u001b[0m         run_manager\u001b[38;5;241m.\u001b[39mon_chain_end(ret)\n\u001b[1;32m    376\u001b[0m \u001b[38;5;28;01melse\u001b[39;00m:\n\u001b[0;32m--> 377\u001b[0m     ret \u001b[38;5;241m=\u001b[39m \u001b[38;5;28;43mself\u001b[39;49m\u001b[38;5;241;43m.\u001b[39;49m\u001b[43mfunc\u001b[49m\u001b[43m(\u001b[49m\u001b[38;5;241;43m*\u001b[39;49m\u001b[43margs\u001b[49m\u001b[43m,\u001b[49m\u001b[43m \u001b[49m\u001b[38;5;241;43m*\u001b[39;49m\u001b[38;5;241;43m*\u001b[39;49m\u001b[43mkwargs\u001b[49m\u001b[43m)\u001b[49m\n\u001b[1;32m    378\u001b[0m \u001b[38;5;28;01mif\u001b[39;00m \u001b[38;5;28mself\u001b[39m\u001b[38;5;241m.\u001b[39mrecurse \u001b[38;5;129;01mand\u001b[39;00m \u001b[38;5;28misinstance\u001b[39m(ret, Runnable):\n\u001b[1;32m    379\u001b[0m     \u001b[38;5;28;01mreturn\u001b[39;00m ret\u001b[38;5;241m.\u001b[39minvoke(\u001b[38;5;28minput\u001b[39m, config)\n",
      "Cell \u001b[0;32mIn[6], line 68\u001b[0m, in \u001b[0;36mcheck_readiness\u001b[0;34m(state)\u001b[0m\n\u001b[1;32m     66\u001b[0m \u001b[38;5;66;03m#usr_prompt_template = \"질문에 대한 SQL 쿼리를 생성하기에 충분한 정보가 제공되었는지 판단합니다. 서두는 건너뛰고, 정보가 충분하면 `Ready`, 정보가 부족하면 `Not Ready`로 응답하세요.\\n\\n #질문: {question}\\n\\n #샘플 쿼리:\\n {sample_queries}\\n\\n #사용 가능한 테이블:\\n {table_details}\"\u001b[39;00m\n\u001b[1;32m     67\u001b[0m sys_prompt, usr_prompt \u001b[38;5;241m=\u001b[39m create_prompt(sys_prompt_template, usr_prompt_template, question\u001b[38;5;241m=\u001b[39mquestion, sample_queries\u001b[38;5;241m=\u001b[39msample_queries, table_details\u001b[38;5;241m=\u001b[39mtable_details)\n\u001b[0;32m---> 68\u001b[0m readiness \u001b[38;5;241m=\u001b[39m \u001b[43mconverse_with_bedrock\u001b[49m\u001b[43m(\u001b[49m\u001b[43msys_prompt\u001b[49m\u001b[43m,\u001b[49m\u001b[43m \u001b[49m\u001b[43musr_prompt\u001b[49m\u001b[43m)\u001b[49m\n\u001b[1;32m     70\u001b[0m \u001b[38;5;28;01mreturn\u001b[39;00m GraphState(readiness\u001b[38;5;241m=\u001b[39mreadiness)\n",
      "Cell \u001b[0;32mIn[22], line 38\u001b[0m, in \u001b[0;36mretry.<locals>.decorator.<locals>.wrapper\u001b[0;34m(*args, **kwargs)\u001b[0m\n\u001b[1;32m     36\u001b[0m logger\u001b[38;5;241m.\u001b[39minfo(\u001b[38;5;124mf\u001b[39m\u001b[38;5;124m\"\u001b[39m\u001b[38;5;124mtrying \u001b[39m\u001b[38;5;132;01m{\u001b[39;00mfunc\u001b[38;5;241m.\u001b[39m\u001b[38;5;18m__name__\u001b[39m\u001b[38;5;132;01m}\u001b[39;00m\u001b[38;5;124m() [\u001b[39m\u001b[38;5;132;01m{\u001b[39;00mcnt\u001b[38;5;241m+\u001b[39m\u001b[38;5;241m1\u001b[39m\u001b[38;5;132;01m}\u001b[39;00m\u001b[38;5;124m/\u001b[39m\u001b[38;5;132;01m{\u001b[39;00mtotal_try_cnt\u001b[38;5;132;01m}\u001b[39;00m\u001b[38;5;124m]\u001b[39m\u001b[38;5;124m\"\u001b[39m)\n\u001b[1;32m     37\u001b[0m \u001b[38;5;28;01mtry\u001b[39;00m:\n\u001b[0;32m---> 38\u001b[0m     result \u001b[38;5;241m=\u001b[39m \u001b[43mfunc\u001b[49m\u001b[43m(\u001b[49m\u001b[38;5;241;43m*\u001b[39;49m\u001b[43margs\u001b[49m\u001b[43m,\u001b[49m\u001b[43m \u001b[49m\u001b[38;5;241;43m*\u001b[39;49m\u001b[38;5;241;43m*\u001b[39;49m\u001b[43mkwargs\u001b[49m\u001b[43m)\u001b[49m\n\u001b[1;32m     39\u001b[0m     logger\u001b[38;5;241m.\u001b[39minfo(\u001b[38;5;124mf\u001b[39m\u001b[38;5;124m\"\u001b[39m\u001b[38;5;124min retry(), \u001b[39m\u001b[38;5;132;01m{\u001b[39;00mfunc\u001b[38;5;241m.\u001b[39m\u001b[38;5;18m__name__\u001b[39m\u001b[38;5;132;01m}\u001b[39;00m\u001b[38;5;124m() returned \u001b[39m\u001b[38;5;124m'\u001b[39m\u001b[38;5;132;01m{\u001b[39;00mresult\u001b[38;5;132;01m}\u001b[39;00m\u001b[38;5;124m'\u001b[39m\u001b[38;5;124m\"\u001b[39m)\n\u001b[1;32m     40\u001b[0m     \u001b[38;5;28;01mif\u001b[39;00m result: \u001b[38;5;28;01mreturn\u001b[39;00m result\n",
      "Cell \u001b[0;32mIn[22], line 66\u001b[0m, in \u001b[0;36mconverse_with_bedrock\u001b[0;34m(sys_prompt, usr_prompt)\u001b[0m\n\u001b[1;32m     64\u001b[0m inference_config \u001b[38;5;241m=\u001b[39m {\u001b[38;5;124m\"\u001b[39m\u001b[38;5;124mtemperature\u001b[39m\u001b[38;5;124m\"\u001b[39m: temperature, \u001b[38;5;124m\"\u001b[39m\u001b[38;5;124mtopP\u001b[39m\u001b[38;5;124m\"\u001b[39m: top_p}\n\u001b[1;32m     65\u001b[0m additional_model_fields \u001b[38;5;241m=\u001b[39m {\u001b[38;5;124m\"\u001b[39m\u001b[38;5;124mtop_k\u001b[39m\u001b[38;5;124m\"\u001b[39m: top_k}\n\u001b[0;32m---> 66\u001b[0m response \u001b[38;5;241m=\u001b[39m \u001b[43mboto3_client\u001b[49m\u001b[38;5;241;43m.\u001b[39;49m\u001b[43mconverse\u001b[49m\u001b[43m(\u001b[49m\n\u001b[1;32m     67\u001b[0m \u001b[43m    \u001b[49m\u001b[43mmodelId\u001b[49m\u001b[38;5;241;43m=\u001b[39;49m\u001b[43mllm_model\u001b[49m\u001b[43m,\u001b[49m\u001b[43m \u001b[49m\n\u001b[1;32m     68\u001b[0m \u001b[43m    \u001b[49m\u001b[43mmessages\u001b[49m\u001b[38;5;241;43m=\u001b[39;49m\u001b[43musr_prompt\u001b[49m\u001b[43m,\u001b[49m\u001b[43m \u001b[49m\n\u001b[1;32m     69\u001b[0m \u001b[43m    \u001b[49m\u001b[43msystem\u001b[49m\u001b[38;5;241;43m=\u001b[39;49m\u001b[43msys_prompt\u001b[49m\u001b[43m,\u001b[49m\n\u001b[1;32m     70\u001b[0m \u001b[43m    \u001b[49m\u001b[43minferenceConfig\u001b[49m\u001b[38;5;241;43m=\u001b[39;49m\u001b[43minference_config\u001b[49m\u001b[43m,\u001b[49m\n\u001b[1;32m     71\u001b[0m \u001b[43m    \u001b[49m\u001b[43madditionalModelRequestFields\u001b[49m\u001b[38;5;241;43m=\u001b[39;49m\u001b[43madditional_model_fields\u001b[49m\n\u001b[1;32m     72\u001b[0m \u001b[43m\u001b[49m\u001b[43m)\u001b[49m\n\u001b[1;32m     73\u001b[0m \u001b[38;5;28;01mreturn\u001b[39;00m response[\u001b[38;5;124m'\u001b[39m\u001b[38;5;124moutput\u001b[39m\u001b[38;5;124m'\u001b[39m][\u001b[38;5;124m'\u001b[39m\u001b[38;5;124mmessage\u001b[39m\u001b[38;5;124m'\u001b[39m][\u001b[38;5;124m'\u001b[39m\u001b[38;5;124mcontent\u001b[39m\u001b[38;5;124m'\u001b[39m][\u001b[38;5;241m0\u001b[39m][\u001b[38;5;124m'\u001b[39m\u001b[38;5;124mtext\u001b[39m\u001b[38;5;124m'\u001b[39m]\n",
      "File \u001b[0;32m/opt/conda/lib/python3.12/site-packages/botocore/client.py:595\u001b[0m, in \u001b[0;36mClientCreator._create_api_method.<locals>._api_call\u001b[0;34m(self, *args, **kwargs)\u001b[0m\n\u001b[1;32m    591\u001b[0m     \u001b[38;5;28;01mraise\u001b[39;00m \u001b[38;5;167;01mTypeError\u001b[39;00m(\n\u001b[1;32m    592\u001b[0m         \u001b[38;5;124mf\u001b[39m\u001b[38;5;124m\"\u001b[39m\u001b[38;5;132;01m{\u001b[39;00mpy_operation_name\u001b[38;5;132;01m}\u001b[39;00m\u001b[38;5;124m() only accepts keyword arguments.\u001b[39m\u001b[38;5;124m\"\u001b[39m\n\u001b[1;32m    593\u001b[0m     )\n\u001b[1;32m    594\u001b[0m \u001b[38;5;66;03m# The \"self\" in this scope is referring to the BaseClient.\u001b[39;00m\n\u001b[0;32m--> 595\u001b[0m \u001b[38;5;28;01mreturn\u001b[39;00m \u001b[38;5;28;43mself\u001b[39;49m\u001b[38;5;241;43m.\u001b[39;49m\u001b[43m_make_api_call\u001b[49m\u001b[43m(\u001b[49m\u001b[43moperation_name\u001b[49m\u001b[43m,\u001b[49m\u001b[43m \u001b[49m\u001b[43mkwargs\u001b[49m\u001b[43m)\u001b[49m\n",
      "File \u001b[0;32m/opt/conda/lib/python3.12/site-packages/botocore/context.py:123\u001b[0m, in \u001b[0;36mwith_current_context.<locals>.decorator.<locals>.wrapper\u001b[0;34m(*args, **kwargs)\u001b[0m\n\u001b[1;32m    121\u001b[0m \u001b[38;5;28;01mif\u001b[39;00m hook:\n\u001b[1;32m    122\u001b[0m     hook()\n\u001b[0;32m--> 123\u001b[0m \u001b[38;5;28;01mreturn\u001b[39;00m \u001b[43mfunc\u001b[49m\u001b[43m(\u001b[49m\u001b[38;5;241;43m*\u001b[39;49m\u001b[43margs\u001b[49m\u001b[43m,\u001b[49m\u001b[43m \u001b[49m\u001b[38;5;241;43m*\u001b[39;49m\u001b[38;5;241;43m*\u001b[39;49m\u001b[43mkwargs\u001b[49m\u001b[43m)\u001b[49m\n",
      "File \u001b[0;32m/opt/conda/lib/python3.12/site-packages/botocore/client.py:1040\u001b[0m, in \u001b[0;36mBaseClient._make_api_call\u001b[0;34m(self, operation_name, api_params)\u001b[0m\n\u001b[1;32m   1036\u001b[0m     maybe_compress_request(\n\u001b[1;32m   1037\u001b[0m         \u001b[38;5;28mself\u001b[39m\u001b[38;5;241m.\u001b[39mmeta\u001b[38;5;241m.\u001b[39mconfig, request_dict, operation_model\n\u001b[1;32m   1038\u001b[0m     )\n\u001b[1;32m   1039\u001b[0m     apply_request_checksum(request_dict)\n\u001b[0;32m-> 1040\u001b[0m     http, parsed_response \u001b[38;5;241m=\u001b[39m \u001b[38;5;28;43mself\u001b[39;49m\u001b[38;5;241;43m.\u001b[39;49m\u001b[43m_make_request\u001b[49m\u001b[43m(\u001b[49m\n\u001b[1;32m   1041\u001b[0m \u001b[43m        \u001b[49m\u001b[43moperation_model\u001b[49m\u001b[43m,\u001b[49m\u001b[43m \u001b[49m\u001b[43mrequest_dict\u001b[49m\u001b[43m,\u001b[49m\u001b[43m \u001b[49m\u001b[43mrequest_context\u001b[49m\n\u001b[1;32m   1042\u001b[0m \u001b[43m    \u001b[49m\u001b[43m)\u001b[49m\n\u001b[1;32m   1044\u001b[0m \u001b[38;5;28mself\u001b[39m\u001b[38;5;241m.\u001b[39mmeta\u001b[38;5;241m.\u001b[39mevents\u001b[38;5;241m.\u001b[39memit(\n\u001b[1;32m   1045\u001b[0m     \u001b[38;5;124mf\u001b[39m\u001b[38;5;124m'\u001b[39m\u001b[38;5;124mafter-call.\u001b[39m\u001b[38;5;132;01m{\u001b[39;00mservice_id\u001b[38;5;132;01m}\u001b[39;00m\u001b[38;5;124m.\u001b[39m\u001b[38;5;132;01m{\u001b[39;00moperation_name\u001b[38;5;132;01m}\u001b[39;00m\u001b[38;5;124m'\u001b[39m,\n\u001b[1;32m   1046\u001b[0m     http_response\u001b[38;5;241m=\u001b[39mhttp,\n\u001b[0;32m   (...)\u001b[0m\n\u001b[1;32m   1049\u001b[0m     context\u001b[38;5;241m=\u001b[39mrequest_context,\n\u001b[1;32m   1050\u001b[0m )\n\u001b[1;32m   1052\u001b[0m \u001b[38;5;28;01mif\u001b[39;00m http\u001b[38;5;241m.\u001b[39mstatus_code \u001b[38;5;241m>\u001b[39m\u001b[38;5;241m=\u001b[39m \u001b[38;5;241m300\u001b[39m:\n",
      "File \u001b[0;32m/opt/conda/lib/python3.12/site-packages/botocore/client.py:1064\u001b[0m, in \u001b[0;36mBaseClient._make_request\u001b[0;34m(self, operation_model, request_dict, request_context)\u001b[0m\n\u001b[1;32m   1062\u001b[0m \u001b[38;5;28;01mdef\u001b[39;00m\u001b[38;5;250m \u001b[39m\u001b[38;5;21m_make_request\u001b[39m(\u001b[38;5;28mself\u001b[39m, operation_model, request_dict, request_context):\n\u001b[1;32m   1063\u001b[0m     \u001b[38;5;28;01mtry\u001b[39;00m:\n\u001b[0;32m-> 1064\u001b[0m         \u001b[38;5;28;01mreturn\u001b[39;00m \u001b[38;5;28;43mself\u001b[39;49m\u001b[38;5;241;43m.\u001b[39;49m\u001b[43m_endpoint\u001b[49m\u001b[38;5;241;43m.\u001b[39;49m\u001b[43mmake_request\u001b[49m\u001b[43m(\u001b[49m\u001b[43moperation_model\u001b[49m\u001b[43m,\u001b[49m\u001b[43m \u001b[49m\u001b[43mrequest_dict\u001b[49m\u001b[43m)\u001b[49m\n\u001b[1;32m   1065\u001b[0m     \u001b[38;5;28;01mexcept\u001b[39;00m \u001b[38;5;167;01mException\u001b[39;00m \u001b[38;5;28;01mas\u001b[39;00m e:\n\u001b[1;32m   1066\u001b[0m         \u001b[38;5;28mself\u001b[39m\u001b[38;5;241m.\u001b[39mmeta\u001b[38;5;241m.\u001b[39mevents\u001b[38;5;241m.\u001b[39memit(\n\u001b[1;32m   1067\u001b[0m             \u001b[38;5;124mf\u001b[39m\u001b[38;5;124m'\u001b[39m\u001b[38;5;124mafter-call-error.\u001b[39m\u001b[38;5;132;01m{\u001b[39;00m\u001b[38;5;28mself\u001b[39m\u001b[38;5;241m.\u001b[39m_service_model\u001b[38;5;241m.\u001b[39mservice_id\u001b[38;5;241m.\u001b[39mhyphenize()\u001b[38;5;132;01m}\u001b[39;00m\u001b[38;5;124m.\u001b[39m\u001b[38;5;132;01m{\u001b[39;00moperation_model\u001b[38;5;241m.\u001b[39mname\u001b[38;5;132;01m}\u001b[39;00m\u001b[38;5;124m'\u001b[39m,\n\u001b[1;32m   1068\u001b[0m             exception\u001b[38;5;241m=\u001b[39me,\n\u001b[1;32m   1069\u001b[0m             context\u001b[38;5;241m=\u001b[39mrequest_context,\n\u001b[1;32m   1070\u001b[0m         )\n",
      "File \u001b[0;32m/opt/conda/lib/python3.12/site-packages/botocore/endpoint.py:119\u001b[0m, in \u001b[0;36mEndpoint.make_request\u001b[0;34m(self, operation_model, request_dict)\u001b[0m\n\u001b[1;32m    113\u001b[0m \u001b[38;5;28;01mdef\u001b[39;00m\u001b[38;5;250m \u001b[39m\u001b[38;5;21mmake_request\u001b[39m(\u001b[38;5;28mself\u001b[39m, operation_model, request_dict):\n\u001b[1;32m    114\u001b[0m     logger\u001b[38;5;241m.\u001b[39mdebug(\n\u001b[1;32m    115\u001b[0m         \u001b[38;5;124m\"\u001b[39m\u001b[38;5;124mMaking request for \u001b[39m\u001b[38;5;132;01m%s\u001b[39;00m\u001b[38;5;124m with params: \u001b[39m\u001b[38;5;132;01m%s\u001b[39;00m\u001b[38;5;124m\"\u001b[39m,\n\u001b[1;32m    116\u001b[0m         operation_model,\n\u001b[1;32m    117\u001b[0m         request_dict,\n\u001b[1;32m    118\u001b[0m     )\n\u001b[0;32m--> 119\u001b[0m     \u001b[38;5;28;01mreturn\u001b[39;00m \u001b[38;5;28;43mself\u001b[39;49m\u001b[38;5;241;43m.\u001b[39;49m\u001b[43m_send_request\u001b[49m\u001b[43m(\u001b[49m\u001b[43mrequest_dict\u001b[49m\u001b[43m,\u001b[49m\u001b[43m \u001b[49m\u001b[43moperation_model\u001b[49m\u001b[43m)\u001b[49m\n",
      "File \u001b[0;32m/opt/conda/lib/python3.12/site-packages/botocore/endpoint.py:200\u001b[0m, in \u001b[0;36mEndpoint._send_request\u001b[0;34m(self, request_dict, operation_model)\u001b[0m\n\u001b[1;32m    196\u001b[0m request \u001b[38;5;241m=\u001b[39m \u001b[38;5;28mself\u001b[39m\u001b[38;5;241m.\u001b[39mcreate_request(request_dict, operation_model)\n\u001b[1;32m    197\u001b[0m success_response, exception \u001b[38;5;241m=\u001b[39m \u001b[38;5;28mself\u001b[39m\u001b[38;5;241m.\u001b[39m_get_response(\n\u001b[1;32m    198\u001b[0m     request, operation_model, context\n\u001b[1;32m    199\u001b[0m )\n\u001b[0;32m--> 200\u001b[0m \u001b[38;5;28;01mwhile\u001b[39;00m \u001b[38;5;28;43mself\u001b[39;49m\u001b[38;5;241;43m.\u001b[39;49m\u001b[43m_needs_retry\u001b[49m\u001b[43m(\u001b[49m\n\u001b[1;32m    201\u001b[0m \u001b[43m    \u001b[49m\u001b[43mattempts\u001b[49m\u001b[43m,\u001b[49m\n\u001b[1;32m    202\u001b[0m \u001b[43m    \u001b[49m\u001b[43moperation_model\u001b[49m\u001b[43m,\u001b[49m\n\u001b[1;32m    203\u001b[0m \u001b[43m    \u001b[49m\u001b[43mrequest_dict\u001b[49m\u001b[43m,\u001b[49m\n\u001b[1;32m    204\u001b[0m \u001b[43m    \u001b[49m\u001b[43msuccess_response\u001b[49m\u001b[43m,\u001b[49m\n\u001b[1;32m    205\u001b[0m \u001b[43m    \u001b[49m\u001b[43mexception\u001b[49m\u001b[43m,\u001b[49m\n\u001b[1;32m    206\u001b[0m \u001b[43m\u001b[49m\u001b[43m)\u001b[49m:\n\u001b[1;32m    207\u001b[0m     attempts \u001b[38;5;241m+\u001b[39m\u001b[38;5;241m=\u001b[39m \u001b[38;5;241m1\u001b[39m\n\u001b[1;32m    208\u001b[0m     \u001b[38;5;28mself\u001b[39m\u001b[38;5;241m.\u001b[39m_update_retries_context(context, attempts, success_response)\n",
      "File \u001b[0;32m/opt/conda/lib/python3.12/site-packages/botocore/endpoint.py:379\u001b[0m, in \u001b[0;36mEndpoint._needs_retry\u001b[0;34m(self, attempts, operation_model, request_dict, response, caught_exception)\u001b[0m\n\u001b[1;32m    372\u001b[0m \u001b[38;5;28;01melse\u001b[39;00m:\n\u001b[1;32m    373\u001b[0m     \u001b[38;5;66;03m# Request needs to be retried, and we need to sleep\u001b[39;00m\n\u001b[1;32m    374\u001b[0m     \u001b[38;5;66;03m# for the specified number of times.\u001b[39;00m\n\u001b[1;32m    375\u001b[0m     logger\u001b[38;5;241m.\u001b[39mdebug(\n\u001b[1;32m    376\u001b[0m         \u001b[38;5;124m\"\u001b[39m\u001b[38;5;124mResponse received to retry, sleeping for \u001b[39m\u001b[38;5;132;01m%s\u001b[39;00m\u001b[38;5;124m seconds\u001b[39m\u001b[38;5;124m\"\u001b[39m,\n\u001b[1;32m    377\u001b[0m         handler_response,\n\u001b[1;32m    378\u001b[0m     )\n\u001b[0;32m--> 379\u001b[0m     \u001b[43mtime\u001b[49m\u001b[38;5;241;43m.\u001b[39;49m\u001b[43msleep\u001b[49m\u001b[43m(\u001b[49m\u001b[43mhandler_response\u001b[49m\u001b[43m)\u001b[49m\n\u001b[1;32m    380\u001b[0m     \u001b[38;5;28;01mreturn\u001b[39;00m \u001b[38;5;28;01mTrue\u001b[39;00m\n",
      "\u001b[0;31mKeyboardInterrupt\u001b[0m: "
     ]
    }
   ],
   "source": [
    "import pprint\n",
    "from langgraph.errors import GraphRecursionError\n",
    "from langchain_core.runnables import RunnableConfig\n",
    "\n",
    "config = RunnableConfig(recursion_limit=100, configurable={\"thread_id\": \"TODO\"})\n",
    "inputs = GraphState(question=\"2022년 매출 상위 10개 국가는?\")\n",
    "\n",
    "pp = pprint.PrettyPrinter(width=200, compact=True)\n",
    "\n",
    "try:\n",
    "    for output in app.stream(inputs, config=config):\n",
    "        for key, value in output.items():\n",
    "            print(f\"\\n🔹 [NODE] {key}\")\n",
    "            print(\"=\" * 80)\n",
    "            for k, v in value.items():\n",
    "                print(f\"📌 {k}:\")\n",
    "                pp.pprint(v)\n",
    "            print(\"=\" * 80)\n",
    "except GraphRecursionError as e:\n",
    "    print(f\"⚠️ Recursion limit reached: {e}\")"
   ]
  },
  {
   "cell_type": "code",
   "execution_count": null,
   "metadata": {
    "tags": []
   },
   "outputs": [],
   "source": [
    "import pprint\n",
    "from langgraph.errors import GraphRecursionError\n",
    "from langchain_core.runnables import RunnableConfig\n",
    "\n",
    "config = RunnableConfig(recursion_limit=100, configurable={\"thread_id\": \"TODO\"})\n",
    "inputs = GraphState(question=\"AWS에 대해 설명해줘\")\n",
    "\n",
    "pp = pprint.PrettyPrinter(width=200, compact=True)\n",
    "\n",
    "try:\n",
    "    for output in app.stream(inputs, config=config):\n",
    "        for key, value in output.items():\n",
    "            print(f\"\\n🔹 [NODE] {key}\")\n",
    "            print(\"=\" * 80)\n",
    "            for k, v in value.items():\n",
    "                print(f\"📌 {k}:\")\n",
    "                pp.pprint(v)\n",
    "            print(\"=\" * 80)\n",
    "except GraphRecursionError as e:\n",
    "    print(f\"⚠️ Recursion limit reached: {e}\")"
   ]
  },
  {
   "cell_type": "code",
   "execution_count": null,
   "metadata": {},
   "outputs": [],
   "source": []
  }
 ],
 "metadata": {
  "kernelspec": {
   "display_name": "Python 3 (ipykernel)",
   "language": "python",
   "name": "python3"
  },
  "language_info": {
   "codemirror_mode": {
    "name": "ipython",
    "version": 3
   },
   "file_extension": ".py",
   "mimetype": "text/x-python",
   "name": "python",
   "nbconvert_exporter": "python",
   "pygments_lexer": "ipython3",
   "version": "3.12.9"
  }
 },
 "nbformat": 4,
 "nbformat_minor": 4
}
